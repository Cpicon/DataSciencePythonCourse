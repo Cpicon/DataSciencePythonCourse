{
 "cells": [
  {
   "cell_type": "markdown",
   "metadata": {},
   "source": [
    "# Estadística II"
   ]
  },
  {
   "cell_type": "markdown",
   "metadata": {},
   "source": [
    "# 1. Parámetros de estimación e hipótesis.\n",
    "\n",
    "Cuando tenemos una población cuya distribución es conocida pero se desconoce algún parámetro, es posible realizar la estimación de este parámetro si se tiene una muestra representativa. \n",
    "\n",
    "Un estimador de un parámetro es un valor que puede calcularse a partir de los datos muestrales y que proporciona información sobre el valor del parámetro. Por ejemplo la media muestral es un estimador de la media poblacional, la proporción en la muestra es un estimador de la proporción en la población. \n",
    "\n",
    "\n",
    "Una estimación es puntual cuando se obtiene un sólo valor para el parámetro. \n",
    "\n",
    "### 1. Intervalo de confianza para la media. \n",
    "\n",
    "A partir de una población, se desconoce la media $\\mu$, sin embargo, deseamos estimarla a partir de la media de una muestra $\\bar{x}$ obtenida en una muestra de tamaño $N$. De esta población se conoce la desviación $\\sigma$. \n",
    "\n",
    "En este caso, se sabe que la distribución muestral de medias es $N(\\mu,\\sigma/\\sqrt{N})$, por lo tanto si se fija una probabilidad 1-$\\alpha$ para aceptar lo dicho, se sabe que \n",
    "\n",
    "\\begin{equation}\n",
    "P\\bigg(\\bar{x}-z_{\\alpha/2}\\frac{\\sigma}{\\sqrt{n}}\\leq\\mu\\leq -\\bar{x}+z_{\\alpha/2}\\frac{\\sigma}{\\sqrt{N}}\\bigg)=1-\\alpha\n",
    "\\end{equation}\n",
    "\n",
    "esto significa que si el $(1-\\alpha)$ de las $\\bar{x}$ está a una distancia de $\\mu$ inferior a $z_{\\alpha/2}\\frac{\\sigma}{\\sqrt{N}}$: \n",
    "\n",
    "- Entonces para un nivel de confianza de $1-\\alpha$, $\\mu$ pertenece al intervalo $\\bigg( \\bar{x}-z_{\\alpha/2} \\frac{\\sigma}{\\sqrt{N}} , \\bar{x}+z_{\\alpha/2} \\frac{\\sigma}{\\sqrt{N}}\\bigg)$\n",
    "\n",
    "Si la desviación típica de la población es desconocida, se aproximar a la de la muestra siempre y cuando $N$ sea muy grande"
   ]
  },
  {
   "cell_type": "code",
   "execution_count": 31,
   "metadata": {},
   "outputs": [
    {
     "name": "stdout",
     "output_type": "stream",
     "text": [
      "xbarra es=-0.026572\n",
      "El intervalo de confianza del 0.95 para xbarra es=(-0.088552, 0.035409)\n"
     ]
    }
   ],
   "source": [
    "import numpy as np\n",
    "import matplotlib.pyplot as plt\n",
    "\n",
    "\n",
    "x=np.random.normal(0,1,1000)\n",
    "xbarra=np.mean(x)\n",
    "\n",
    "\n",
    "print(\"xbarra es=%lf\"%xbarra)\n",
    "\n",
    "intervalo=[xbarra-1.96*1/np.sqrt(1000),xbarra+1.96*1/np.sqrt(1000)]\n",
    "\n",
    "print(\"El intervalo de confianza del 0.95 para xbarra es=(%lf, %lf)\"%(intervalo[0],intervalo[1]))\n"
   ]
  },
  {
   "cell_type": "markdown",
   "metadata": {},
   "source": [
    "# 2. Pruebas de hipótesis:\n",
    "\n",
    "Les pruebas de hipótesis son métodos estadísticos utilizados para tomar decisiones basados en datos. En las pruebas de hipótesis, en general, hacemos suposiciones acerca de los parámetros de la población y buscamos buscar conclusiones matemáticas sobre nuestras suposiciones. \n",
    "\n",
    "Una prueba de hipótesis evalúa dos afirmaciones mutuamente excluyentes acerca de una población para determinar qué afirmación está mejor soportada por los datos de la muestra.\n",
    "\n",
    "### Parámetros de hipótesis. \n",
    "##### Hipótesis nula $(H_0)$:\n",
    "En estadística inferencial, la hipótesis nula es una afirmación general acerca de que no existe relación entre fenómenos medidos. Es la suposición básica basada en el conocimiento del problema. Se prueba la similaridad de esta afirmación de ser verdadera en orden de decidir aceptar o rechazar la hipótesis alternativa. \n",
    "\n",
    "\n",
    "##### Hipótesis alternativa $(H_\\alpha)$:\n",
    "La hipótesis alternativa es contraria a la hipótesis nula. Se determina si rechazar o no esta afirmación basados en la similaridad (likelihood) de la hipótesis nula de ser verdadera. \n",
    "\n",
    "#### Nivel de significancia\n",
    "\n",
    "El nivel de significancia hace alusión al grado de significancia con la cuál se acepta o rechaza la hipótesis nula. El nivel de significancia usualmente se denota con $\\alpha$ y es generalmente de $0.05$ \n",
    "\n",
    "## Error tipo I:\n",
    "Se tiene cuando se rechaza una hipótesis nula, a pesar que la hipótesis sea verdadera. Se denota por $\\alpha$. El valor de $\\alpha$ se denomina el nivel de la prueba.\n",
    "\n",
    "## Error tipo II:\n",
    "Se tiene cuando se acepta una hipótesis nula, pero es falsa. Los errores tipo II son denotados por $\\beta$. En pruebas de hipótesis, las curvas normales que muestran la región de aceptancia se llaman regiones $\\beta$. \n",
    "\n",
    "\n",
    "##### Ejemplo: \n",
    "\n",
    "En una encuesta, n=15 personas fueron muestreadas. Se desea probar la hipótesis $H_0:p=.5$ en contra de la alternativa, $H_a : p<.5$. La estadística de la prueba es $Y$ (binomial), el número de votantes muestreados en favor de una alternativa. Se pide calcular $\\alpha$ si la región de rechazo es $={y\\leq 2}$. \n",
    "\n",
    "Por definición:\n",
    "\n",
    "\\begin{equation}\n",
    "\\alpha=P(\\textsf{error tipo I})=P(\\textsf{rechazar $H_0$ cuando $H_0$ es verdadera})\n",
    "\\end{equation}\n",
    "\\begin{equation}\n",
    "\\alpha=P(\\textsf{valor del estadístico de prueba en la región de rechazo cuando H_0 es verdadera})\n",
    "\\end{equation}\n",
    "\\begin{equation}\n",
    "=P(Y\\leq 2, p=.5)\n",
    "\\end{equation}\n",
    "\n",
    "Como $Y$ es una variable aleatoria binomial con n=15. Si $H_0$ es verdadera, p=.5, se obtiene\n",
    "\n",
    "\\begin{equation}\n",
    "\\alpha=\\sum_{y=0}^{2}{(.5)^y(.5)^{15-y}}=0.004.\n",
    "\\end{equation}\n",
    "\n",
    "Entonces, si decidimos rechazar la región, tenemos un riesgo de $\\alpha$ de concluir de manera equivocada.\n",
    "\n",
    "Ahora, supongamos que $(p=.3)$ y queremos calcular la probabilidad $\\beta$ de que una muestra nos lleve erroneamente a concluir que $H_0$ es verdadera. \n",
    "\n",
    "Por definición,\n",
    "\n",
    "\n",
    "\\begin{equation}\n",
    "\\beta=P(\\textsf{error tipo II})=P(\\textsf{Aceptar $H_0$ si $H_\\alpha$ es verdadera})\n",
    "\\end{equation}\n",
    "\n",
    "\n",
    "\n",
    "\\begin{equation}\n",
    "=P(\\textsf{probabilidad de que el estadístico no esté en la región de rechazo cuando $H_a$ es verdadero})\n",
    "\\end{equation}\n",
    "\n",
    "Como queremos calcular $\\beta$ cuando $p=.3$\n",
    "\n",
    "\\begin{equation}\n",
    "\\beta=P(Y>2 \\textsf{ cuando } p=.3)=\\sum_{y=3}^{14} {15 \\choose y}(.3)^{y}(.7)^{15-y}=.873\n",
    "\\end{equation}\n",
    "\n",
    "Por lo que, con esta región de rechazo ${y\\leq 2}$ nuestra prueba nos llevará eventualmente a concluir la hipótesis previa aún si $p$ es tan bajo como $p=.3$.\n",
    "\n",
    "\n",
    "\n",
    "\n",
    "## Pruebas de una cola: \n",
    "Supongamos que queremos probar hipótesis que correspondan a parámetros $\\theta$ basados en una muestra $Y_1,Y_2,...Y_n$. Una forma de desarrollar pruebas de hipótesis se basa en un estimador que tiene una distribución muestral normal con media $\\theta$ y error estándar $\\sigma_{\\theta}$. Si $\\theta_0$ es un valor específico de $\\theta$, y se desea probar $H_0: \\theta=\\theta_0$ contra $H_\\alpha: \\theta>\\theta_0$. Entonces, se tiene que \n",
    "\n",
    "\\begin{equation}\n",
    "H_0:\\theta=\\theta_0\n",
    "\\end{equation}\n",
    "\n",
    "\\begin{equation}\n",
    "H_\\alpha:\\theta>\\theta_0\n",
    "\\end{equation}\n",
    "\n",
    "\\begin{equation}\n",
    "\\textsf{Estadístico de prueba:} \\hat{\\theta}\n",
    "\\end{equation}\n",
    "\n",
    "Con una región de rechazo $RR={\\theta>k}$ para algún $k$.\n",
    "\n",
    "E valor de k en la región de rechazo está determinado al fijar el valor de la probabilidad de error tipo I. Si $H_0$ es verdadera, $\\hat{\\theta}$ tiene aproximadamente una distribución normal con media $\\theta_{0}$ con media $\\theta_{0}$ y error estándar $\\sigma_{\\hat{\\theta}}$. Por lo tanto, si se desea una prueba $\\alpha$.\n",
    "\n",
    "\\begin{equation} \n",
    "k=\\theta_{0}+z_{\\alpha}\\sigma_{\\hat{\\theta}}\n",
    "\\end{equation}\n",
    "y es la escogencia apropiada para $k$ porque \n",
    "\n",
    "$RR={\\hat{\\theta}:\\hat{\\theta}>\\theta_0 + z_{\\alpha} \\sigma_\\hat{\\theta}}={\\hat{\\theta}:\\hat{\\theta-\\theta_0 /  \\sigma_{\\hat{\\theta}}}z_\\alpha}$\n",
    "\n",
    "Si $Z=(\\hat{\\theta}-\\theta_0)/\\sigma_{\\hat{\\theta}}$ es usado como el estadístico de prueba, la región también puede ser escrita como $RR={z>z_\\alpha}$. $Z$ mide el número de errores estandar entre el estimador para $\\theta$ y $\\theta_0$. $H_0$ es rechazado si $Z$ cae lo suficientemente lejos de la cola superior de la distribución normal. La hipótesis alternativa $H_a : \\theta>\\theta_0$ es llamada alternativa de cola superior, y $RR={z>z_{\\alpha}}$ es la región de rechazo de cola superior. \n",
    "\n",
    "\n",
    "## Pruebas de dos colas: \n",
    "Una prueba de dos colas es una prueba estadística en la cual el área crítica o región de rechazo de una distrbución es de dos lados. Esto es, continuando con el ejemplo anterior, que para una prueba de dos \n",
    "\n",
    "En una prueba de dos colas se puede probar que un estimador \\theta no corresponda a un valor $\\theta_0$. Es decir, $\\theta \\neq \\theta_0$. Para esto, el estadístico de prueba puede ser $Z=\\frac{\\hat{\\theta}-\\theta_0}{\\sigma_{\\hat{\\theta}}}$. Con una región de rechazo de ${|z|>z_{\\alpha/2}}$. \n",
    "\n"
   ]
  },
  {
   "cell_type": "code",
   "execution_count": null,
   "metadata": {},
   "outputs": [],
   "source": []
  },
  {
   "cell_type": "markdown",
   "metadata": {},
   "source": [
    "# 3. P-Value\n",
    "\n",
    "Si $W$ es un estadístico de prueba, el p-value es el mínimo nivel de significancia para el cual los datos observados indican que la hipótesis nula debe ser rechazada. El valor P, o probabilidad calculada, es la probabilidad de encontrar lo observado, resulta cuando la hipótesis nula de un estudio es verdadera. Si el valor P es mayor que la significancia escogida, significa que se debe rechazar la hipótesis nula, es decir, aceptar que la muestra da la suficiente evidencia de apoyar la hipótesis alternativa. Esto no implica que exista realmente una diferencia significativa o importante, por lo que el criterio de la persona que interpreta la prueba de hipótesis es importante para considerar la relevancia del resultado. \n",
    "\n",
    "\n",
    "Entre más pequeño el p-value se vuelve, más evidente es que la hipótesis nula debe ser rechazada. Si un experimento tiene un valor $\\alpha$ en mente, el p-value puede ser utilizado para implementar un test $\\alpha$. El p-value es el valor más pequeño para el cual la hipótesis nula puede ser rechazada. Si $\\alpha$ es más pequeño que el p-value, entonces la hipótesis nula no puede ser rechazada. El p-value permite estar o no de acuerdo con una hipótesis nula según los requerimientos que uno decida."
   ]
  },
  {
   "cell_type": "markdown",
   "metadata": {},
   "source": [
    "# Extra: Bootstraping\n",
    "\n",
    "Permite hacer uso de datos remuestreados para realizar inferencia estadística. Una réplica bootstrap\n",
    "\n",
    "Ejemplo: \n",
    "Es posible crear una función para crear réplicas en bootstrap utilizando np.random.choice(datos, funcion). En esta ocasión realizaremos un bootstrap de la media, tomaremos los datos de michelson_speed_of_light para realizar replicas de bootstrap en 1 dimensión utilizando choice y luego retornaremos una histograma de frecuencias para la media. "
   ]
  },
  {
   "cell_type": "code",
   "execution_count": 9,
   "metadata": {},
   "outputs": [
    {
     "data": {
      "image/png": "[encoded data removed]",
      "text/plain": [
       "<matplotlib.figure.Figure at 0x7fadf770deb8>"
      ]
     },
     "metadata": {
      "needs_background": "light"
     },
     "output_type": "display_data"
    }
   ],
   "source": [
    "import pandas as pd\n",
    "import numpy as np\n",
    "import matplotlib.pyplot as plt\n",
    "import seaborn as sns\n",
    "\n",
    "data_michelson = pd.read_csv('datasets/michelson_speed_of_light.csv')\n",
    "\n",
    "msl=np.array(data_michelson['velocity of light in air (km/s)'])\n",
    "\n",
    "def bootstrap_replicate_1d(data, func):\n",
    "\n",
    "    bs_sample = np.random.choice(data, len(data))\n",
    "    return func(bs_sample)\n",
    "\n",
    "bootstrap_replicate_1d(msl, np.mean)\n",
    "\n",
    "\n",
    "\n",
    "replicas = np.empty(10000)\n",
    "\n",
    "for i in range(10000):\n",
    "    replicas[i] = bootstrap_replicate_1d(msl, np.mean)\n",
    "\n",
    "\n",
    "plt.hist(replicas, bins=30, density=True)\n",
    "plt.xlabel('Velocidad media de la luz (km/s)')\n",
    "plt.ylabel('PDF')\n",
    "plt.show()\n"
   ]
  },
  {
   "cell_type": "markdown",
   "metadata": {},
   "source": [
    "# Intervalo de confianza\n",
    "\n",
    "Ahora, para mostrar visualmente la representación de un intervalo de confianza, obtengamos el intervalo de confianza de los datos previamente obtenidos utilizando np.percentile para obtener los valores del intervalo del 95%. "
   ]
  },
  {
   "cell_type": "code",
   "execution_count": 35,
   "metadata": {},
   "outputs": [
    {
     "name": "stdout",
     "output_type": "stream",
     "text": [
      "299852.35743999993\n",
      "[299836.8975 299867.5   ]\n"
     ]
    },
    {
     "data": {
      "image/png": "[encoded data removed]",
      "text/plain": [
       "<matplotlib.figure.Figure at 0x7f057a9244e0>"
      ]
     },
     "metadata": {
      "needs_background": "light"
     },
     "output_type": "display_data"
    }
   ],
   "source": [
    "conf_int = np.percentile(replicas, [2.5, 97.5])\n",
    "print(np.mean(replicas))\n",
    "print(conf_int)\n",
    "\n",
    "plt.hist(replicas, bins=30, density=True)\n",
    "plt.xlabel('Velocidad media de la luz (km/s)')\n",
    "plt.ylabel('PDF')\n",
    "plt.fill_between(x=conf_int,y1=[0,0],y2=[0.05,0.05],alpha=0.4,label='P(x)')\n",
    "plt.show()\n"
   ]
  },
  {
   "cell_type": "code",
   "execution_count": 39,
   "metadata": {},
   "outputs": [
    {
     "data": {
      "image/png": "[encoded data removed]",
      "text/plain": [
       "<matplotlib.figure.Figure at 0x7f055999dcc0>"
      ]
     },
     "metadata": {
      "needs_background": "light"
     },
     "output_type": "display_data"
    }
   ],
   "source": [
    "df = pd.read_csv('datasets/2008_all_states.csv')\n",
    "df_swing = pd.read_csv('datasets/2008_swing_states.csv')\n",
    "iris = pd.read_csv('datasets/iris.csv')\n",
    "\n",
    "\n",
    "sns.jointplot(x='total_votes', y='dem_share', data=df_swing, kind=\"reg\");"
   ]
  },
  {
   "cell_type": "markdown",
   "metadata": {},
   "source": [
    "Se pueden realizar permutaciones con np.random.permutation para reordenar las entradas en un array. "
   ]
  },
  {
   "cell_type": "code",
   "execution_count": 42,
   "metadata": {},
   "outputs": [],
   "source": [
    "dem_share = df[['dem_share', 'state']]\n",
    "dem_share_PA = dem_share.loc[dem_share['state'] == 'PA']\n",
    "dem_share_OH = dem_share.loc[dem_share['state'] == 'OH']\n",
    "\n",
    "def diff_frac(data_A, data_B):\n",
    "    frac_A = np.sum(data_A) / len(data_A)\n",
    "    frac_B = np.sum(data_B) / len(data_B)\n",
    "    return frac_B - frac_A\n",
    "\n",
    "dem_share_both = np.concatenate((dem_share_PA, dem_share_OH))\n",
    "dem_share_perm = np.random.permutation(dem_share_both)\n",
    "\n",
    "perm_sample_PA = dem_share_perm[:len(dem_share_PA)]\n",
    "perm_sample_OH = dem_share_perm[len(dem_share_PA):]"
   ]
  },
  {
   "cell_type": "markdown",
   "metadata": {},
   "source": [
    "Ejercicio 1: Realice las CDFs de PA y OH según el dem_share. \n",
    "\n",
    "\n",
    "Ejercicio 2: Realice el estimador de la media de la diferencia de votos porcentuales entre PA-OH, realice el histograma de la PDF estimada. "
   ]
  },
  {
   "cell_type": "markdown",
   "metadata": {},
   "source": [
    "# Referencias\n",
    "- Bertsekas, D. Introduction to probability. (2008)\n",
    "- Wackerly, D. Mathematical Statistics with Applications. (2008)"
   ]
  },
  {
   "cell_type": "code",
   "execution_count": null,
   "metadata": {},
   "outputs": [],
   "source": []
  }
 ],
 "metadata": {
  "kernelspec": {
   "display_name": "Python 3",
   "language": "python",
   "name": "python3"
  },
  "language_info": {
   "codemirror_mode": {
    "name": "ipython",
    "version": 3
   },
   "file_extension": ".py",
   "mimetype": "text/x-python",
   "name": "python",
   "nbconvert_exporter": "python",
   "pygments_lexer": "ipython3",
   "version": "3.5.2"
  }
 },
 "nbformat": 4,
 "nbformat_minor": 2
}
