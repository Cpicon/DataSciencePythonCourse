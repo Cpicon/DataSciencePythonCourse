{
 "cells": [
  {
   "cell_type": "markdown",
   "metadata": {},
   "source": [
    "# Estadística II"
   ]
  },
  {
   "cell_type": "markdown",
   "metadata": {},
   "source": [
    "# 1. Parámetros de estimación e hipótesis.\n",
    "\n",
    "Cuando tenemos una población cuya distribución es conocida pero se desconoce algún parámetro, es posible realizar la estimación de este parámetro si se tiene una muestra representativa. \n",
    "\n",
    "Un estimador de un parámetro es un valor que puede calcularse a partir de los datos muestrales y que proporciona información sobre el valor del parámetro. Por ejemplo la media muestral es un estimador de la media poblacional, la proporción en la muestra es un estimador de la proporción en la población. \n",
    "\n",
    "\n",
    "Una estimación es puntual cuando se obtiene un sólo valor para el parámetro. \n",
    "\n",
    "### 1. Intervalo de confianza para la media. \n",
    "\n",
    "A partir de una población, se desconoce la media $\\mu$, sin embargo, deseamos estimarla a partir de la media de una muestra $\\bar{x}$ obtenida en una muestra de tamaño $N$. De esta población se conoce la desviación $\\sigma$. \n",
    "\n",
    "En este caso, se sabe que la distribución muestral de medias es $N(\\mu,\\sigma/\\sqrt{N})$, por lo tanto si se fija una probabilidad 1-$\\alpha$ para aceptar lo dicho, se sabe que \n",
    "\n",
    "\\begin{equation}\n",
    "P\\bigg(\\mu-z_{\\alpha/2}\\frac{\\sigma}{\\sqrt{n}}<\\bar{x}-\\mu+z_{\\alpha/2}\\frac{\\sigma}{\\sqrt{N}}\\bigg)=1-\\alpha\n",
    "\\end{equation}\n",
    "\n",
    "esto significa que si el $(1-\\alpha)$ de las $\\bar{x}$ está a una distancia de $\\mu$ inferior a $z_{\\alpha/2}\\frac{\\sigma}{\\sqrt{N}}$: \n",
    "\n",
    "- Entonces para un nivel de confianza de $1-\\alpha$, $\\mu$ pertenece al intervalo $\\bigg( \\bar{x}-z_{\\alpha/2} \\frac{\\sigma}{\\sqrt{N}} , \\bar{x}+z_{\\alpha/2} \\frac{\\sigma}{\\sqrt{N}}\\bigg)$\n",
    "\n",
    "Si la desviación típica de la población es desconocida, se aproximar a la de la muestra siempre y cuando $N$ sea muy grande"
   ]
  },
  {
   "cell_type": "markdown",
   "metadata": {},
   "source": [
    "# 2. Pruebas de hipótesis:\n",
    "\n",
    "Les pruebas de hipótesis son métodos estadísticos utilizados para tomar decisiones basados en datos. En las pruebas de hipótesis, en general, hacemos suposiciones acerca de los parámetros de la población y buscamos buscar conclusiones matemáticas sobre nuestras suposiciones. \n",
    "\n",
    "Una prueba de hipótesis evalúa dos afirmaciones mutuamente excluyentes acerca de una población para determinar qué afirmación está mejor soportada por los datos de la muestra.\n",
    "\n",
    "### Parámetros de hipótesis. \n",
    "##### Hipótesis nula:\n",
    "En estadística inferencial, la hipótesis nula es una afirmación general acerca de que no existe relación entre fenómenos medidos. Es la suposición básica basada en el conocimiento del problema. Se prueba la similaridad de esta afirmación de ser verdadera en orden de decidir aceptar o rechazar la hipótesis alternativa. \n",
    "\n",
    "\n",
    "##### Hipótesis alternativa:\n",
    "La hipótesis alternativa es contraria a la hipótesis nula. Se determina si rechazar o no esta afirmación basados en la similaridad (likelihood) de la hipótesis nula de ser verdadera. \n",
    "\n",
    "### Nivel de significancia\n",
    "\n",
    "El nivel de significancia hace alusión al grado de significancia con la cuál se acepta o rechaza la hipótesis nula. El nivel de significancia usualmente se denota con $\\alpha$ y es generalmente de $0.05$ \n",
    "\n",
    "#### Error tipo I:\n",
    "Se tiene cuando se rechaza una hipótesis nula, a pesar que la hipótesis sea verdadera. Se denota por $\\alpha$.\n",
    "\n",
    "#### Error tipo II:\n",
    "Se tiene cuando se acepta una hipótesis nula, pero es falsa. Los errores tipo II son denotados por $\\beta$. En pruebas de hipótesis, las curvas normales que muestran la región de aceptancia se llaman regiones $\\beta$. \n",
    "\n",
    "#### Pruebas de una cola: \n",
    "Es un tipo de test de hipótesis estadísticas, donde la región de rechazo es sólo de un lado de la distribución muestreada.\n",
    "\n",
    "#### Pruebas de dos colas: \n",
    "Una prueba de dos colas es una prueba estadística en la cual el área crítica de una distrbución es de dos lados y prueba si una muestra es más grande o menos grande que ciertos intervalos de valores. Si la muestra siendo muestreada cae en las áreas críticas, la hipótesis alternativa es aceptada en lugar de la nula. \n"
   ]
  },
  {
   "cell_type": "markdown",
   "metadata": {},
   "source": [
    "# 3. P-Value\n",
    "El valor P, o probabilidad calculada, es la probabilidad de encontrar lo observado, resulta cuando la hipótesis nula de un estudio es verdadera. Si el valor P es mayor que la significancia escogida, significa que se debe rechazar la hipótesis nula, es decir, aceptar que la muestra da la suficiente evidencia de apoyar la hipótesis alternativa. Esto no implica que exista realmente una diferencia significativa o importante, por lo que el criterio de la persona que interpreta la prueba de hipótesis es importante para considerar la relevancia del resultado. "
   ]
  },
  {
   "cell_type": "markdown",
   "metadata": {},
   "source": [
    "# Tipos de test:\n",
    "\n",
    "import numpy as np\n",
    "In [2]: dem_share_both = np.concatenate(\n",
    "...: (dem_share_PA, dem_share_OH))\n",
    "In [3]: dem_share_perm = np.random.permutation(dem_share_both)\n",
    "In [4]: perm_sample_PA = dem_share_perm[:len(dem_share_PA)]\n",
    "In [5]: perm_sample_OH = dem_share_perm[len(dem_share_PA):]"
   ]
  },
  {
   "cell_type": "code",
   "execution_count": null,
   "metadata": {},
   "outputs": [],
   "source": []
  }
 ],
 "metadata": {
  "kernelspec": {
   "display_name": "Python 3",
   "language": "python",
   "name": "python3"
  },
  "language_info": {
   "codemirror_mode": {
    "name": "ipython",
    "version": 3
   },
   "file_extension": ".py",
   "mimetype": "text/x-python",
   "name": "python",
   "nbconvert_exporter": "python",
   "pygments_lexer": "ipython3",
   "version": "3.7.4"
  }
 },
 "nbformat": 4,
 "nbformat_minor": 2
}
