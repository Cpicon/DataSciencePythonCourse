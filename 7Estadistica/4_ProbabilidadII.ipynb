{
 "cells": [
  {
   "cell_type": "markdown",
   "metadata": {},
   "source": [
    "# Probabilidad II"
   ]
  },
  {
   "cell_type": "markdown",
   "metadata": {},
   "source": [
    "# 1. Cadenas de Markov\n",
    "\n",
    "\n",
    "Una cadena de Markov es un proceso aleatorio con la propiedad de Markov. Un proceso aleatorio o estocástico, es un objeto matemático definido como una colección de variables aleatorias. Una cadena de Markov tiene ya sea un espacio de estado discreto (que representaría posibles valores de variables aleatorias) o un índice discreto (usualmente representando tiempo). Usualmente el término \"cadena de Markov\" se utiliza para describir un proceso con un conjunto discreto de tiempos, es decir una cadena en tiempo discreto de Markov (DTMC).\n",
    "\n",
    "\n",
    "## Cadena en tiempo discreto de Markov.\n",
    "\n",
    "Una cadena en tiempo discreto involucra un sistema que cambia aleatoriamente entre pasos. Estos pasos son usualmente vistos como momentos en tiempo (no necesariamente la cantidad física). Una cadena discreta de Markov es una secuencia de variables aleatorias tales que la probabilidad de pasar al siguiente estado sólo depende del estado presente y no de los estados previos. \n",
    "\n",
    "\\begin{equation}\n",
    "Pr(X_{n+1}=x|X_1=x_1,X_2=x_2,...,X_n=x_n)=P_r(X_{n+1}=x|X_n =x_n)\n",
    "\\end{equation}\n",
    "\n"
   ]
  },
  {
   "cell_type": "code",
   "execution_count": 4,
   "metadata": {},
   "outputs": [
    {
     "name": "stdout",
     "output_type": "stream",
     "text": [
      "Todo está bien, adelante!! ;)\n"
     ]
    }
   ],
   "source": [
    "import numpy as np\n",
    "import random as rm\n",
    "\n",
    "states=[\"Dormir\",\"Comer\",\"Estudiar\"]\n",
    "nombreTransicion=[[\"DD\",\"DC\",\"DE\"],[\"CD\",\"CC\",\"CE\"],[\"ED\",\"EC\",\"EE\"]]\n",
    "\n",
    "MT=[[0.2,0.6,0.2],[0.1,0.6,0.3],[0.2,0.7,0.1]]\n",
    "\n",
    "if sum(MT[0])+sum(MT[1])+sum(MT[2])!=3:\n",
    "    print(\"No está bien\")\n",
    "else: print(\"Todo está bien, adelante!! ;)\")"
   ]
  },
  {
   "cell_type": "code",
   "execution_count": 9,
   "metadata": {},
   "outputs": [
    {
     "name": "stdout",
     "output_type": "stream",
     "text": [
      "Estado Inicial: Dormir\n",
      "Posibles estados: ['Dormir', 'Estudiar', 'Comer']\n",
      "Estado final después de 2dias: Comer\n",
      "Probabilidad de secuencia de estados posible: 0.15\n"
     ]
    }
   ],
   "source": [
    "def prediccion_actividades(days):\n",
    "    actividadHoy=\"Dormir\"\n",
    "    print(\"Estado Inicial: \"+actividadHoy)\n",
    "    listaActividades=[actividadHoy]\n",
    "    i=0\n",
    "    prob=1\n",
    "    while i!=days:\n",
    "        if actividadHoy!=\"Dormir\":\n",
    "            change=np.random.choice(nombreTransicion[0],replace=True,p=MT[0])\n",
    "            if change==\"DD\":\n",
    "                prob=prob*0.2\n",
    "                listaActividades.append(\"Dormir\")\n",
    "                pass\n",
    "            elif change==\"DE\":\n",
    "                prob=prob*0.6\n",
    "                actividadHoy=\"Estudiar\"\n",
    "                listaActividades.append(\"Estudiar\")\n",
    "            else:\n",
    "                prob=prob*0.2\n",
    "                actividadHoy=\"Comer\"\n",
    "                listaActividades.append(\"Comer\")\n",
    "        elif actividadHoy!=\"Estudiar\":\n",
    "            change=np.random.choice(nombreTransicion[2],replace=True,p=MT[2])\n",
    "            if change==\"EE\":\n",
    "                prob=prob*0.5\n",
    "                listaActividades.append(\"Estudiar\")\n",
    "                pass\n",
    "            elif change==\"ED\":\n",
    "                prob=prob*0.2\n",
    "                actividadHoy=\"Dormir\"\n",
    "                listaActividades.append(\"Dormir\")\n",
    "            else:\n",
    "                prob=prob*0.3\n",
    "                actividadHoy=\"Comer\"\n",
    "                listaActividades.append(\"Comer\")\n",
    "\n",
    "        elif actividadHoy!=\"Comer\":\n",
    "            change=np.random.choice(nombreTransicion[1],replace=True,p=MT[1])\n",
    "            if change==\"CC\":\n",
    "                prob=prob*0.1\n",
    "                listaActividades.append(\"Comer\")\n",
    "                pass\n",
    "            elif change==\"CD\":\n",
    "                prob=prob*0.2\n",
    "                actividadHoy=\"Dormir\"\n",
    "                listaActividades.append(\"Dormir\")\n",
    "            else:\n",
    "                prob=prob*0.7\n",
    "                actividadHoy=\"Estudiar\"\n",
    "                listaActividades.append(\"Estudiar\")\n",
    "        i+=1\n",
    "    print(\"Posibles estados: \"+ str(listaActividades))\n",
    "    print(\"Estado final después de \"+str(days)+\"dias: \"+ actividadHoy)\n",
    "    print(\"Probabilidad de secuencia de estados posible: \"+str(prob))\n",
    "prediccion_actividades(2)\n"
   ]
  },
  {
   "cell_type": "code",
   "execution_count": 9,
   "metadata": {},
   "outputs": [
    {
     "name": "stdout",
     "output_type": "stream",
     "text": [
      "La probabilidad del estado inicial :'Dormir' y el estado final :'Estudiar'= 64.99000000000001%\n"
     ]
    }
   ],
   "source": [
    "def prediccion_actividades(days):\n",
    "    # escoge estado inicial\n",
    "    actividadHoy = \"Dormir\"\n",
    "    listaActividades = [actividadHoy]\n",
    "    i = 0\n",
    "    prob = 1\n",
    "    while i != days:\n",
    "        if actividadHoy == \"Dormir\":\n",
    "            change = np.random.choice(nombreTransicion[0],replace=True,p=MT[0])\n",
    "            if change == \"DD\":\n",
    "                prob = prob * 0.2\n",
    "                listaActividades.append(\"Dormir\")\n",
    "                pass\n",
    "            elif change == \"DE\":\n",
    "                prob = prob * 0.6\n",
    "                actividadHoy = \"Estudiar\"\n",
    "                listaActividades.append(\"Estudiar\")\n",
    "            else:\n",
    "                prob = prob * 0.2\n",
    "                actividadHoy = \"Comer\"\n",
    "                listaActividades.append(\"Comer\")\n",
    "        elif actividadHoy == \"Estudiar\":\n",
    "            change = np.random.choice(nombreTransicion[1],replace=True,p=MT[1])\n",
    "            if change == \"EE\":\n",
    "                prob = prob * 0.5\n",
    "                listaActividades.append(\"Estudiar\")\n",
    "                pass\n",
    "            elif change == \"ED\":\n",
    "                prob = prob * 0.2\n",
    "                actividadHoy = \"Dormir\"\n",
    "                listaActividades.append(\"Dormir\")\n",
    "            else:\n",
    "                prob = prob * 0.3\n",
    "                actividadHoy = \"Comer\"\n",
    "                listaActividades.append(\"Comer\")\n",
    "        elif actividadHoy == \"Comer\":\n",
    "            change = np.random.choice(nombreTransicion[2],replace=True,p=MT[2])\n",
    "            if change == \"CC\":\n",
    "                prob = prob * 0.1\n",
    "                listaActividades.append(\"Comer\")\n",
    "                pass\n",
    "            elif change == \"CD\":\n",
    "                prob = prob * 0.2\n",
    "                actividadHoy = \"Dormir\"\n",
    "                listaActividades.append(\"Dormir\")\n",
    "            else:\n",
    "                prob = prob * 0.7\n",
    "                actividadHoy = \"Estudiar\"\n",
    "                listaActividades.append(\"Estudiar\")\n",
    "        i += 1    \n",
    "    return listaActividades\n",
    "\n",
    "# para guardar todo listaActividades\n",
    "lista_actividades = []\n",
    "count = 0\n",
    "\n",
    "for iterations in range(1,10000):\n",
    "        lista_actividades.append(prediccion_actividades(2))\n",
    "\n",
    "for listita in lista_actividades:\n",
    "    if(listita[2] == \"Estudiar\"):\n",
    "        count += 1\n",
    "\n",
    "# Calcula la probabilidad de iniciar en:'Dormir' and ending at state:'Estudiar'\n",
    "porcentaje = (count/10000) * 100\n",
    "print(\"La probabilidad del estado inicial :'Dormir' y el estado final :'Estudiar'= \" + str(porcentaje) + \"%\")"
   ]
  },
  {
   "cell_type": "markdown",
   "metadata": {},
   "source": [
    "## Metropolis-Hastings\n",
    "\n",
    "En estadística Bayesiana se busca estimar un distribución posterior, sin embargo, esto es usualmente intratable debido a la integral en muchas dimensiones del denominador (likelihood marginal). Es posible aproximar la distribución posterior si se puede de alguna manera muestrear la distribución posterior. Con el método de MCMC, es posible obtener muestras de una distribución propuesta de manera que cada una depende únicamente del estado previo, tal como sucede con las cadenas de Markov. Bajo ciertas condiciones, la cadena de Markov tendrá una única distribución estacionaria. En adición, no todas las muestras son usadas, en cambio, se utiliza un criterio de aceptación basado en la comparación sucesiva de estados respecto a una distribución blanco para asegurar que la distribución estacionaria es la distribución a posteriori de interés. Lo interesante de esta distribución es que sólo necesita ser proporcional a la distribución posterior, lo que significa que no se necesita evaluar las likelihoods marginales potencialmente intratables, lo cual es sólo una constante de normalización.\n",
    "\n",
    "Existen diferentes tipos de MCMC, pero la más sencilla es entender  Metropolis-Hastings, que se basa en un algoritmo de caminata aleatoria. \n",
    "\n",
    "Para esto, se necesita realizar un muestreo a partir de las distribuciones.\n",
    "\n",
    "- Uniforme estándar\n",
    "- La distribución propuesta (eg. N(0,$\\sigma$))\n",
    "- La distribución objetivo, que es proporcional a la probabilidad posterior. \n",
    "\n",
    "\n",
    "Dado un valor inicial adivinado $\\theta$ con probabilidad positiva de ser dibujado, Metropolis procede así:\n",
    "\n",
    "\n",
    "- Escoje un nuevo valor propuesto tal que $\\theta_p =\\theta+\\Delta\\theta$ donde $\\Delta\\theta \\propto N(0,\\sigma)$\n",
    "\n",
    "- Calcula la razón \n",
    "\\begin{equation}\n",
    "\\rho=\\frac{g(\\theta_p | X) p(\\theta|\\theta_p)}{g(\\theta|X)}\n",
    "\\end{equation}\n",
    "\n",
    "donde $g$ es la probabilidad posterior.\n",
    "\n",
    "- Si la distribución propuesta no es simétrica, se necesita pesar la probabilidad de ser aceptada para mantener un balance (reversibilidad) de la distribución estacionaria y en su lugar calcular\n",
    "\n",
    "\\begin{equation}\n",
    "\\rho=\\frac{p(X|\\theta_p) p(\\theta_p)}{p(X|\\theta)p(\\theta)}\n",
    "\\end{equation}\n",
    "\n",
    "- Si $\\rho \\geq 1$ entonces $\\theta=\\theta_p$\n",
    "\n",
    "- Si $\\rho \\leq 1$ entonces $\\theta=\\theta_p$ con probabilidad $\\rho$ de lo contrario $\\theta=\\theta$ (distribución uniforme)\n",
    "\n",
    "- Repetir."
   ]
  },
  {
   "cell_type": "markdown",
   "metadata": {},
   "source": [
    "# Ejercicio: \n",
    "\n",
    "1. Definir una función para un modelo a*x**2+b*x+c, que reciba (x,lista) donde lista=[a,b,c]\n",
    "2. Definir una función de likelihood apropiada.\n",
    "3. Definir una función prior apropiada para los datos\n",
    "4. Desarrollar MCMC para ajustar con inferencia bayesiana los parámetros que mejor ajustan los datos con el modelo. \n",
    "\n"
   ]
  },
  {
   "cell_type": "code",
   "execution_count": 25,
   "metadata": {},
   "outputs": [
    {
     "data": {
      "image/png": "[encoded data removed]",
      "text/plain": [
       "<matplotlib.figure.Figure at 0x7f3f162c3400>"
      ]
     },
     "metadata": {
      "needs_background": "light"
     },
     "output_type": "display_data"
    }
   ],
   "source": [
    "import numpy as np\n",
    "import matplotlib.pyplot as plt\n",
    "np.random.seed(123)\n",
    "x=np.random.rand(25)*7\n",
    "x_=np.linspace(-3,5,25)\n",
    "\n",
    "##\n",
    "PARA CREAR DATOS DE JUGUETE\n",
    "##\n",
    "\n",
    "a=-2\n",
    "b=5\n",
    "c=2\n",
    "\n",
    "y=a*x_**2+b*x_+c\n",
    "y+=x\n",
    "plt.scatter(x_,y)\n",
    "plt.show()\n"
   ]
  },
  {
   "cell_type": "code",
   "execution_count": 45,
   "metadata": {},
   "outputs": [
    {
     "name": "stderr",
     "output_type": "stream",
     "text": [
      "/usr/local/lib/python3.5/dist-packages/ipykernel_launcher.py:38: RuntimeWarning: overflow encountered in exp\n"
     ]
    },
    {
     "name": "stdout",
     "output_type": "stream",
     "text": [
      "0.35229275978838176\n",
      "-3.133100029953896\n",
      "0.35229275978838176\n"
     ]
    },
    {
     "data": {
      "image/png": "[encoded data removed]",
      "text/plain": [
       "<matplotlib.figure.Figure at 0x7f3f162b02e8>"
      ]
     },
     "metadata": {
      "needs_background": "light"
     },
     "output_type": "display_data"
    }
   ],
   "source": [
    "x_obs=x\n",
    "y_obs=y\n",
    "\n",
    "def model(x,a,b,c):\n",
    "    return a*x**2+b*x+c\n",
    "\n",
    "def loglikelihood(x_obs,y_obs,_a,_b,_c):\n",
    "    d=y_obs-model(x_obs,_a,_b,_c)\n",
    "    d=d/1.0\n",
    "    d=-0.5*np.sum(d**2)\n",
    "    return d\n",
    "\n",
    "def logprior(a,b,c):\n",
    "    p=-np.inf\n",
    "    if a<10 and a>-10 and b>-10 and b<10 and c>-10 and c<10:\n",
    "        p=0.0\n",
    "    return p\n",
    "N=10000\n",
    "\n",
    "lista_a=[np.random.random()]\n",
    "lista_b=[np.random.random()]\n",
    "lista_c=[np.random.random()]\n",
    "\n",
    "logposterior = [loglikelihood(x_obs, y_obs, lista_a[0], lista_b[0], lista_c[0]) + logprior(lista_a[0], lista_b[0], lista_c[0])]\n",
    "\n",
    "sigma_delta_a=0.5\n",
    "sigma_delta_b=0.5\n",
    "sigma_delta_c=0.5\n",
    "\n",
    "for i in range(1,N):\n",
    "    propuesta_a=lista_a[i-1]+np.random.normal(loc=0.0,scale=sigma_delta_a)\n",
    "    propuesta_b=lista_b[i-1]+np.random.normal(loc=0.0,scale=sigma_delta_b)\n",
    "    propuesta_c=lista_c[i-1]+np.random.normal(loc=0.0,scale=sigma_delta_c)\n",
    "    \n",
    "    logposterior_viejo=loglikelihood(x_obs,y_obs,lista_a[i-1],lista_b[i-1],lista_c[i-1])+logprior(lista_a[i-1],lista_b[i-1],lista_c[i-1])\n",
    "    logposterior_nuevo=loglikelihood(x_obs,y_obs,propuesta_a,propuesta_b,propuesta_c)+logprior(propuesta_a,propuesta_b,propuesta_c)\n",
    "\n",
    "    r=min(1,np.exp(logposterior_nuevo-logposterior_viejo))\n",
    "    alpha=np.random.random()\n",
    "    \n",
    "    if(alpha<r):\n",
    "        lista_a.append(propuesta_a)\n",
    "        lista_b.append(propuesta_b)\n",
    "        lista_c.append(propuesta_c)\n",
    "        logposterior.append(logposterior_viejo)        \n",
    "    else: \n",
    "        lista_a.append(lista_a[i-1])\n",
    "        lista_b.append(lista_b[i-1])\n",
    "        lista_c.append(lista_c[i-1])\n",
    "        logposterior.append(logposterior_viejo)\n",
    "        \n",
    "lista_a=np.array(lista_a)\n",
    "lista_b=np.array(lista_b)\n",
    "lista_c=np.array(lista_c)\n",
    "logposterior=np.array(logposterior)\n",
    "\n",
    "plt.hist(lista_a,color=\"blue\")\n",
    "plt.hist(lista_b,color=\"red\")\n",
    "plt.hist(lista_c,color=\"green\")\n",
    "\n",
    "a_=np.mean(lista_a)\n",
    "b_=np.mean(lista_b)\n",
    "c_=np.mean(lista_c)\n",
    "\n",
    "print(a_)\n",
    "print(b_)\n",
    "print(a_)\n"
   ]
  },
  {
   "cell_type": "markdown",
   "metadata": {},
   "source": [
    "# 2. Árboles de Decision.\n",
    "\n",
    "Los árboles de decisión (DT) son un método de aprendizaje supervisado no paramétrico utilizado para la clasificación y la regresión. El objetivo es crear un modelo que prediga el valor de una variable objetivo mediante el aprendizaje de reglas de decisión simples inferidas de las características de los datos.\n",
    "\n",
    "Por ejemplo, en el ejemplo a continuación, los árboles de decisión aprenden de los datos para aproximar una curva sinusoidal con un conjunto de reglas de decisión si-entonces-otro. Cuanto más profundo es el árbol, más complejas son las reglas de decisión y más se ajusta el modelo.\n",
    "\n",
    "\n",
    "Algunas ventajas de los árboles de decisión son:\n",
    "\n",
    "- Simple de entender e interpretar. Los árboles pueden ser visualizados.\n",
    "- Requiere poca preparación de datos. Otras técnicas a menudo requieren la normalización de datos, se deben crear variables ficticias y eliminar los valores en blanco. Sin embargo, tenga en cuenta que este módulo no admite valores faltantes.\n",
    "- El costo de usar el árbol (es decir, predecir datos) es logarítmico en la cantidad de puntos de datos utilizados para entrenar el árbol.\n",
    "- Capaz de manejar datos numéricos y categóricos. Otras técnicas suelen estar especializadas en el análisis de conjuntos de datos que tienen un solo tipo de variable. Ver algoritmos para más información.\n",
    "- Capaz de manejar problemas de salida múltiple.\n",
    "- Utiliza un modelo de caja blanca. Si una situación dada es observable en un modelo, la explicación de la condición se explica fácilmente por la lógica booleana. Por el contrario, en un modelo de caja negra (por ejemplo, en una red neuronal artificial), los resultados pueden ser más difíciles de interpretar.\n",
    "- Posible validar un modelo utilizando pruebas estadísticas. Eso permite tener en cuenta la fiabilidad del modelo.\n",
    "- Funciona bien incluso si sus supuestos son violados de alguna manera por el modelo verdadero a partir del cual se generaron los datos.\n",
    "\n",
    "\n",
    "\n",
    "Las desventajas de los árboles de decisión incluyen:\n",
    "\n",
    "- Los alumnos de los árboles de decisión pueden crear árboles demasiado complejos que no generalizan bien los datos. Esto se llama sobreajuste. Para evitar este problema, se necesitan mecanismos tales como la poda (actualmente no compatible), establecer el número mínimo de muestras requeridas en un nodo hoja o establecer la profundidad máxima del árbol.\n",
    "- Los árboles de decisión pueden ser inestables porque pequeñas variaciones en los datos pueden generar un árbol completamente diferente. Este problema se mitiga mediante el uso de árboles de decisión dentro de un conjunto.\n",
    "- Se sabe que el problema de aprender un árbol de decisión óptimo es NP-completo bajo varios aspectos de la optimización e incluso para conceptos simples. En consecuencia, los algoritmos prácticos de aprendizaje del árbol de decisiones se basan en algoritmos heurísticos como el algoritmo codicioso donde se toman decisiones localmente óptimas en cada nodo. Tales algoritmos no pueden garantizar la devolución del árbol de decisión globalmente óptimo. Esto puede mitigarse entrenando múltiples árboles en un conjunto de alumnos, donde las características y muestras se muestrean aleatoriamente con reemplazo.\n",
    "- Hay conceptos que son difíciles de aprender porque los árboles de decisión no los expresan fácilmente, como XOR, problemas de paridad o multiplexor.\n",
    "- Los alumnos del árbol de decisión crean árboles sesgados si algunas clases dominan. Por lo tanto, se recomienda equilibrar el conjunto de datos antes de ajustarlo con el árbol de decisión.\n",
    "\n"
   ]
  },
  {
   "cell_type": "code",
   "execution_count": 47,
   "metadata": {},
   "outputs": [
    {
     "ename": "AttributeError",
     "evalue": "module 'sklearn.tree' has no attribute 'plot_tree'",
     "output_type": "error",
     "traceback": [
      "\u001b[0;31m---------------------------------------------------------------------------\u001b[0m",
      "\u001b[0;31mAttributeError\u001b[0m                            Traceback (most recent call last)",
      "\u001b[0;32m<ipython-input-47-3374dfd3fc3b>\u001b[0m in \u001b[0;36m<module>\u001b[0;34m()\u001b[0m\n\u001b[1;32m      5\u001b[0m \u001b[0mclf\u001b[0m \u001b[0;34m=\u001b[0m \u001b[0mclf\u001b[0m\u001b[0;34m.\u001b[0m\u001b[0mfit\u001b[0m\u001b[0;34m(\u001b[0m\u001b[0miris\u001b[0m\u001b[0;34m.\u001b[0m\u001b[0mdata\u001b[0m\u001b[0;34m,\u001b[0m \u001b[0miris\u001b[0m\u001b[0;34m.\u001b[0m\u001b[0mtarget\u001b[0m\u001b[0;34m)\u001b[0m\u001b[0;34m\u001b[0m\u001b[0m\n\u001b[1;32m      6\u001b[0m \u001b[0mplt\u001b[0m\u001b[0;34m.\u001b[0m\u001b[0mfigure\u001b[0m\u001b[0;34m(\u001b[0m\u001b[0mfigsize\u001b[0m\u001b[0;34m=\u001b[0m\u001b[0;34m(\u001b[0m\u001b[0;36m15\u001b[0m\u001b[0;34m,\u001b[0m\u001b[0;36m15\u001b[0m\u001b[0;34m)\u001b[0m\u001b[0;34m)\u001b[0m\u001b[0;34m\u001b[0m\u001b[0m\n\u001b[0;32m----> 7\u001b[0;31m \u001b[0mtree\u001b[0m\u001b[0;34m.\u001b[0m\u001b[0mplot_tree\u001b[0m\u001b[0;34m(\u001b[0m\u001b[0mclf\u001b[0m\u001b[0;34m.\u001b[0m\u001b[0mfit\u001b[0m\u001b[0;34m(\u001b[0m\u001b[0miris\u001b[0m\u001b[0;34m.\u001b[0m\u001b[0mdata\u001b[0m\u001b[0;34m,\u001b[0m \u001b[0miris\u001b[0m\u001b[0;34m.\u001b[0m\u001b[0mtarget\u001b[0m\u001b[0;34m)\u001b[0m\u001b[0;34m)\u001b[0m\u001b[0;34m\u001b[0m\u001b[0m\n\u001b[0m\u001b[1;32m      8\u001b[0m \u001b[0mplt\u001b[0m\u001b[0;34m.\u001b[0m\u001b[0mshow\u001b[0m\u001b[0;34m(\u001b[0m\u001b[0;34m)\u001b[0m\u001b[0;34m\u001b[0m\u001b[0m\n",
      "\u001b[0;31mAttributeError\u001b[0m: module 'sklearn.tree' has no attribute 'plot_tree'"
     ]
    },
    {
     "data": {
      "text/plain": [
       "<matplotlib.figure.Figure at 0x7f3ef7a56630>"
      ]
     },
     "metadata": {},
     "output_type": "display_data"
    }
   ],
   "source": [
    "from sklearn.datasets import load_iris\n",
    "from sklearn import tree\n",
    "iris = load_iris()\n",
    "clf = tree.DecisionTreeClassifier()\n",
    "clf = clf.fit(iris.data, iris.target)\n",
    "plt.figure(figsize=(15,15))\n",
    "tree.plot_tree(clf.fit(iris.data, iris.target)) \n",
    "plt.show()"
   ]
  },
  {
   "cell_type": "markdown",
   "metadata": {},
   "source": [
    "Los árboles de decisión se trabajarán un poco más a profundidad después de introducir ML."
   ]
  },
  {
   "cell_type": "markdown",
   "metadata": {},
   "source": [
    "### References:\n",
    "- The Nature of Statistical Learning Theory. Vladimir N. Vapnik -Springer (2000)\n",
    "- https://people.duke.edu/~ccc14/sta-663/MCMC.html\n",
    "- https://scikit-learn.org/stable/modules/tree.html\n",
    "- https://www.datacamp.com/community/tutorials/markov-chains-python-tutorial"
   ]
  },
  {
   "cell_type": "code",
   "execution_count": null,
   "metadata": {},
   "outputs": [],
   "source": []
  }
 ],
 "metadata": {
  "kernelspec": {
   "display_name": "Python 3",
   "language": "python",
   "name": "python3"
  },
  "language_info": {
   "codemirror_mode": {
    "name": "ipython",
    "version": 3
   },
   "file_extension": ".py",
   "mimetype": "text/x-python",
   "name": "python",
   "nbconvert_exporter": "python",
   "pygments_lexer": "ipython3",
   "version": "3.5.2"
  }
 },
 "nbformat": 4,
 "nbformat_minor": 2
}
