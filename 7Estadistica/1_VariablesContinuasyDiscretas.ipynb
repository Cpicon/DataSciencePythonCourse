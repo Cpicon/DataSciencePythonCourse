{
 "cells": [
  {
   "cell_type": "markdown",
   "metadata": {},
   "source": [
    "# 1. Variables aleatorias\n",
    "\n",
    "- Una variable aleatoria es un valor real función del resultado de un experimento\n",
    "- Una función de una variable aleatoria define otra variable aleatoria\n",
    "- Se pueden asociar las variables aleatorias a determinadas medidas de interés, tales como la media y la varianza. \n",
    "- Una variable aleatoria puede ser condicionada por un evento o por otra variable aleatoria.\n",
    "- Existe una noción de independencia de una variable aleatoria de un evento o de otra variable aleatoria\n"
   ]
  },
  {
   "cell_type": "markdown",
   "metadata": {},
   "source": [
    "# 2. Variables aleatorias discretas:\n",
    "\n",
    "Una variable aleatoria es denominada discreta por su rango, el cual puede ser finito o contable infinito. Una variable aleatoria que puede tomar un número incontable infinito de valores, no es discreta. \n",
    "\n",
    "- Una variable aleatoria discreta es una función evaluada en los reales que es el resultado de un experimento que puede tomar un número finito o contablemente infinito de valores. \n",
    "\n",
    "- Una variable aleatoria tiene asociada una función de masa de probabilidad (PMF) que da la probabilidad asociada a cada muestra aleatoria. \n",
    "\n",
    "- Una función de una variable aleatoria discreta define otra vari"
   ]
  },
  {
   "cell_type": "code",
   "execution_count": null,
   "metadata": {},
   "outputs": [],
   "source": []
  }
 ],
 "metadata": {
  "kernelspec": {
   "display_name": "Python 3",
   "language": "python",
   "name": "python3"
  },
  "language_info": {
   "codemirror_mode": {
    "name": "ipython",
    "version": 3
   },
   "file_extension": ".py",
   "mimetype": "text/x-python",
   "name": "python",
   "nbconvert_exporter": "python",
   "pygments_lexer": "ipython3",
   "version": "3.5.2"
  }
 },
 "nbformat": 4,
 "nbformat_minor": 2
}
