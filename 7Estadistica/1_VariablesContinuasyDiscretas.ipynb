{
 "cells": [
  {
   "cell_type": "markdown",
   "metadata": {},
   "source": [
    "# Estadística I"
   ]
  },
  {
   "cell_type": "markdown",
   "metadata": {},
   "source": [
    "# 1. Variables aleatorias\n",
    "\n",
    "- Una variable aleatoria es un valor real función del resultado de un experimento\n",
    "- Una función de una variable aleatoria define otra variable aleatoria\n",
    "- Se pueden asociar las variables aleatorias a determinadas medidas de interés, tales como la media y la varianza. \n",
    "- Una variable aleatoria puede ser condicionada por un evento o por otra variable aleatoria.\n",
    "- Existe una noción de independencia de una variable aleatoria de un evento o de otra variable aleatoria\n"
   ]
  },
  {
   "cell_type": "markdown",
   "metadata": {},
   "source": [
    "# 2. Variables aleatorias discretas:\n",
    "\n",
    "Una variable aleatoria es denominada discreta por su rango, el cual puede ser finito o contable infinito. Una variable aleatoria que puede tomar un número incontable infinito de valores, no es discreta. \n",
    "\n",
    "- Una variable aleatoria discreta es una función evaluada en los reales que es el resultado de un experimento que puede tomar un número finito o contablemente infinito de valores. \n",
    "\n",
    "- Una variable aleatoria tiene asociada una función de masa de probabilidad (PMF) que da la probabilidad asociada a cada muestra aleatoria. \n",
    "\n",
    "- Una función de una variable aleatoria discreta define otra variable aleatoria discreta, cuya PMF puede ser obtenida de la PMF de la variable aleatoria original.\n",
    "\n",
    "## Cálculo de la PMF de una variable aleatoria X. \n",
    "\n",
    "- Para cada valor posible x de X: \n",
    "1. Recolectar todas las posibles salidas que puedan dar lugar al evento {X=x}\n",
    "2. Sumar las probabilidades para obtener px(x)\n"
   ]
  },
  {
   "cell_type": "markdown",
   "metadata": {},
   "source": [
    "# 2.1 Variable aleatoria Bernoulli\n",
    "\n",
    "La variable aleatoria Bernoulli toma los valores 1 o 0, es decir:\n",
    "\n",
    "\\begin{equation}\n",
    "    f(p) =\n",
    "    \\left\\{\n",
    "        \\begin{array}{cc}\n",
    "                p & \\mathrm{si\\ } x=1 \\\\\n",
    "                1-p & \\mathrm{si\\ } x=0 \\\\\n",
    "        \\end{array} \n",
    "    \\right.\n",
    "\\end{equation}\n",
    "\n",
    "#### Ejercicio 1: Simule en python 4 diferentes PMFs Bernoulli y realice las gráficas correspondientes, ponga etiquetas y títulos a las gráficas. \n"
   ]
  },
  {
   "cell_type": "markdown",
   "metadata": {},
   "source": [
    "# 2.2 Variable aleatoria Binomial\n",
    "\n",
    "La variable aleatoria Bernoulli toma los valores 1 o 0, es decir:\n",
    "\n",
    "\\begin{equation}    \n",
    "p(k) = {n \\choose k} p^k(1-p)^{n-k}\n",
    "\\end{equation}\n",
    "\n",
    "donde $k=0,1,...,n$\n",
    "\n",
    "La condición de normalización es escrita como \n",
    "\n",
    "\\begin{equation}    \n",
    "\\sum_{k=0}^{n}{{n \\choose k} p^k(1-p)^{n-k}}=1\n",
    "\\end{equation}\n",
    "\n",
    "#### Ejercicio 2: Simule y grafique las PMFs para variables binomiales distribuidas con $p=\\{0.10, 0.37, 0.63, 0.90 \\}$ para valores de $n={20, 40, 60}$"
   ]
  },
  {
   "cell_type": "markdown",
   "metadata": {},
   "source": [
    "# 2.3 Variable aleatoria geométrica. \n",
    "\n",
    "Suponga que se realizan repetidamente procesos Bernoulli con una probabilidad $p$. La distribución geométrica es el número de intentos necesarios para que $x=1$ sea el resultado por primera vez. La PMF está dada por:\n",
    "\\begin{equation}\n",
    "p(k)=(1-p)^{k-1}p, \n",
    "\\end{equation}\n",
    "\n",
    "$k=1,2,...,$\n",
    "\n",
    "#### Ejercicio 3: Simule y grafique las PMFs para variables geométricas distribuidas con $p=\\{0.2, 0.5, 0.8\\}$"
   ]
  },
  {
   "cell_type": "markdown",
   "metadata": {},
   "source": [
    "# 2.4 Variable aleatoria Poisson\n",
    "\n",
    "La PMF de una variable aleatoria Poisson está dada por \n",
    "\n",
    "\\begin{equation}\n",
    "p(k)=e^{-k} \\frac{\\lambda^k}{k!}\n",
    "\\end{equation}\n",
    "\n",
    "para $k=0,1,2,...$\n",
    "\n",
    "#### Ejercicio 4: Simule y grafique las PMFs para variables geométricas distribuidas con $\\lambda=\\{1,5,9\\}$"
   ]
  },
  {
   "cell_type": "markdown",
   "metadata": {},
   "source": [
    "# 3. Variables aleatorias continuas. \n",
    "\n",
    "Una variable aleatoria $X$ es continua si existe una función $f_X$ no negativa llamada la función de densidad de probabilidad de $X$, o PDF, tal que\n",
    "\n",
    "\\begin{equation}\n",
    "P(X\\in B)=\\int_{B}{f_X (x)dx}\n",
    "\\end{equation}\n",
    "\n",
    "para todo subconjunto $B$ en la recta real. En particular, la probabilidad de un valor $X$ dentro de un intervalo es \n",
    "\\begin{equation}\n",
    "P(a\\leq X \\leq b) =\\int_{a}^{b}{f_X (x) dx}\n",
    "\\end{equation}\n",
    "\n",
    "y puede ser interprestado como el area bajo la gráfica de la PDF. Para cualquier valor $A$ se tiene $P(X=a)=0$. Por último, la condición de normalización para variables aleatorias continuas es \n",
    "\n",
    "\\begin{equation}\n",
    "\\int_{-\\infty}^{\\infty}{f_{X}(x)dx}=P(-\\infty < X <\\infty)=1\n",
    "\\end{equation}"
   ]
  },
  {
   "cell_type": "markdown",
   "metadata": {},
   "source": [
    "# 3.1 Variable aleatoria uniforme. \n",
    "\n",
    "Para un intervalo $[0,1]$, una posible PDF es\n",
    "\n",
    "\\begin{equation}\n",
    "    f(x) =\n",
    "    \\left\\{\n",
    "        \\begin{array}{cc}\n",
    "                c & \\mathrm{si\\ } 0\\leq x\\leq 1 \\\\\n",
    "                0 & \\mathrm{dlc. }  \\\\\n",
    "        \\end{array} \n",
    "    \\right.\n",
    "\\end{equation}\n",
    "\n",
    "#### Ejercicio 5. Halle el valor de c que normaliza la PDF de una variable uniforme para el intervalo $[-1,1]$"
   ]
  },
  {
   "cell_type": "markdown",
   "metadata": {},
   "source": [
    "# 3.2 Variable aleatoria exponencial. \n",
    "\n",
    "Una variable aleatoria exponencial tiene PDF de la forma\n",
    "\n",
    "\\begin{equation}\n",
    "    f(x) =\n",
    "    \\left\\{\n",
    "        \\begin{array}{cc}\n",
    "                \\lambda e^{-\\lambda x} & \\mathrm{si\\ } 0\\leq x\\geq 1 \\\\\n",
    "                0 & \\mathrm{dlc. }  \\\\\n",
    "        \\end{array} \n",
    "    \\right.\n",
    "\\end{equation}\n",
    "\n",
    "\n",
    "#### Ejercicio 6. Realice una gráfica de una PDF de una variable aleatoria exponencial que tiene parámetro $\\lambda=0.1$ y $\\lambda=0.4$"
   ]
  },
  {
   "cell_type": "markdown",
   "metadata": {},
   "source": [
    "# 3.3 Variables aleatorias normales\n",
    "\n",
    "Una variable aleatoria continua $X$ se dice que es normal o Gaussiana si tiene una PDF de la forma\n",
    "\n",
    "\\begin{equation}\n",
    "f_X (x)=\\frac{1}{\\sqrt{2\\pi}\\sigma}{e^{-(x-\\mu)^2/2\\sigma^2}}\n",
    "\\end{equation}\n",
    "\n",
    "\n",
    "\\begin{equation}\n",
    "\\end{equation}\n",
    "\n",
    "Se puede verificar la propiedad de normalización haciendo\n",
    "\\begin{equation}\n",
    "\\int_{-\\infty}^{\\infty}\\frac{1}{\\sqrt{2\\pi}\\sigma}{e^{-(x-\\mu)^2/2\\sigma^2}}dx=1\n",
    "\\end{equation}\n",
    "\n",
    "\n",
    "#### Ejercicio 7. Realice una gráfica de una PDF de una variable aleatoria normal que tiene parámetros $\\sigma=0.1,0.5,2$ con medias $\\mu=0, 3, 6$"
   ]
  },
  {
   "cell_type": "markdown",
   "metadata": {},
   "source": [
    "# 3.4 Variable aleatoria Gamma\n",
    "\n",
    "La distribución gamma es una distribución de probabilidad continua con dos parámetros $k$ y $\\lambda$ cuya función de densidad para valores x > 0 es\n",
    "\n",
    "\\begin{equation}\n",
    "f(x)=\\lambda e^{-\\lambda x} \\frac{(\\lambda x)^{k-1}}{\\Gamma(k)}\n",
    "\\end{equation}\n",
    "\n",
    "\n",
    "\n",
    "#### Ejercicio 8. Realice una gráfica de una PDF de una variable aleatoria normal que tiene parámetros $k=2,3,5$ y $1/\\lambda=2,1,0.5$"
   ]
  },
  {
   "cell_type": "markdown",
   "metadata": {},
   "source": [
    "# 4. Funciones de distribución acumuladas.\n",
    "\n",
    "La CDF $F_{X}$ de una variable aleatoria $X$ está definida como \n",
    "\n",
    "\\begin{equation}\n",
    "F_{X}(x)=P(X\\leq x) \n",
    "\\end{equation}\n",
    "\n",
    "y tiene las siguientes propiedades\n",
    "\n",
    "- Es monotona no decreciente: si $x \\leq y$ entonces, $F_{X}(x)\\leq F_{X}(y)$\n",
    "\n",
    "- F_{X}(x) tiende a 0 en $-\\infty$ y tiende a 1 en $\\infty$\n",
    "\n",
    "- Si $X$ es continua, entonces $F_{X}$ es una función continua. \n",
    "\n",
    "- Si $X$ es discreta, entonces $F_{X}$ es una función constante a trozos. \n",
    "\n",
    "#### Ejercicio 9: Realice la CDF de 2 PMFs y de 2 PDFs ya presentadas "
   ]
  },
  {
   "cell_type": "markdown",
   "metadata": {},
   "source": [
    "# 5. PMFs y PDFs conjuntas.\n",
    "\n",
    "- Una PMF conjunta $p_{X,Y}$ de las variables $X$ y $Y$ está definida como \n",
    "\n",
    "\\begin{equation}\n",
    "p_{X,Y}(x,y)=P(X=x,Y=y)\n",
    "\\end{equation}\n",
    "\n",
    "- La PMF marginal de X y Y puede ser obtenida a partir de la PMF conjunta, utilizando \n",
    "\n",
    "\\begin{equation}\n",
    "p_{X}(x)=\\sum_{y}{p_{X,Y}(x,y)}\n",
    "\\end{equation}\n",
    "y\n",
    "\\begin{equation}\n",
    "p_{Y}(y)=\\sum_{x}{p_{X,Y}(x,y)}\n",
    "\\end{equation}\n",
    "\n",
    "De manera análoga, para $X$ y $Y$ que sean variables aleatorias conjuntas con una PDF conjunta $f_{X,Y}$ se tiene que \n",
    "\n",
    "\\begin{equation}\n",
    "f_{X,Y}(x,y)=f_{Y}(y)f_{X|Y}(x|y)\n",
    "\\end{equation}\n",
    "\n",
    "\\begin{equation}\n",
    "f_{X}(x)=\\int_{-\\infty}^{\\infty}f_{Y}(y)f_{X|Y}(x|y)dy\n",
    "\\end{equation}\n",
    "\n",
    "#### Ejercicio 10: Realice dos gráficas de funciones de distribución conjuntas para variables aleatorias X,Y distribuidas normales \n"
   ]
  },
  {
   "cell_type": "markdown",
   "metadata": {},
   "source": [
    "# 6. Valor Esperado.\n",
    "\n",
    "Para variables discretas se define el valor esperado de una variable discreta $X$ como \n",
    "\n",
    "\\begin{equation}\n",
    "E[X] =\\sum_{x}{x p_{X} (x)}\n",
    "\\end{equation}\n",
    "\n",
    "y para una variable continua:\n",
    "\n",
    "\\begin{equation}\n",
    "E[X] =\\int_{x}{x p_{X} (x)}dx\n",
    "\\end{equation}\n",
    "\n",
    "y la varianza se define como\n",
    "\n",
    "\\begin{equation}\n",
    "var[X] = E[(X-E[X])^2]\n",
    "\\end{equation}\n"
   ]
  },
  {
   "cell_type": "code",
   "execution_count": null,
   "metadata": {},
   "outputs": [],
   "source": []
  }
 ],
 "metadata": {
  "kernelspec": {
   "display_name": "Python 3",
   "language": "python",
   "name": "python3"
  },
  "language_info": {
   "codemirror_mode": {
    "name": "ipython",
    "version": 3
   },
   "file_extension": ".py",
   "mimetype": "text/x-python",
   "name": "python",
   "nbconvert_exporter": "python",
   "pygments_lexer": "ipython3",
   "version": "3.5.2"
  }
 },
 "nbformat": 4,
 "nbformat_minor": 2
}
