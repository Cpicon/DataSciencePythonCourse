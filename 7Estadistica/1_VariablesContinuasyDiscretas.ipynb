{
 "cells": [
  {
   "cell_type": "markdown",
   "metadata": {},
   "source": [
    "# 1. Variables aleatorias\n",
    "\n",
    "- Una variable aleatoria es un valor real función del resultado de un experimento\n",
    "- Una función de una variable aleatoria define otra variable aleatoria\n",
    "- Se pueden asociar las variables aleatorias a determinadas medidas de interés, tales como la media y la varianza. \n",
    "- Una variable aleatoria puede ser condicionada por un evento o por otra variable aleatoria.\n",
    "- Existe una noción de independencia de una variable aleatoria de un evento o de otra variable aleatoria\n"
   ]
  },
  {
   "cell_type": "markdown",
   "metadata": {},
   "source": [
    "# 2. Variables aleatorias discretas:\n",
    "\n",
    "Una variable aleatoria es denominada discreta por su rango, el cual puede ser finito o contable infinito. Una variable aleatoria que puede tomar un número incontable infinito de valores, no es discreta. \n",
    "\n",
    "- Una variable aleatoria discreta es una función evaluada en los reales que es el resultado de un experimento que puede tomar un número finito o contablemente infinito de valores. \n",
    "\n",
    "- Una variable aleatoria tiene asociada una función de masa de probabilidad (PMF) que da la probabilidad asociada a cada muestra aleatoria. \n",
    "\n",
    "- Una función de una variable aleatoria discreta define otra variable aleatoria discreta, cuya PMF puede ser obtenida de la PMF de la variable aleatoria original.\n",
    "\n",
    "## Cálculo de la PMF de una variable aleatoria X. \n",
    "\n",
    "- Para cada valor posible x de X: \n",
    "1. Recolectar todas las posibles salidas que puedan dar lugar al evento {X=x}\n",
    "2. Sumar las probabilidades para obtener px(x)\n"
   ]
  },
  {
   "cell_type": "markdown",
   "metadata": {},
   "source": [
    "# 2.1 Variable aleatoria Bernoulli\n",
    "\n",
    "La variable aleatoria Bernoulli toma los valores 1 o 0, es decir:\n",
    "\n",
    "\\begin{equation}\n",
    "    f(p) =\n",
    "    \\left\\{\n",
    "        \\begin{array}{cc}\n",
    "                p & \\mathrm{si\\ } x=1 \\\\\n",
    "                1-p & \\mathrm{si\\ } x=0 \\\\\n",
    "        \\end{array} \n",
    "    \\right.\n",
    "\\end{equation}\n",
    "\n",
    "#### Ejercicio 1: Simule en python 4 diferentes PMFs Bernoulli y realice las gráficas correspondientes, ponga etiquetas y títulos a las gráficas. \n"
   ]
  },
  {
   "cell_type": "markdown",
   "metadata": {},
   "source": [
    "# 2.2 Variable aleatoria Binomial\n",
    "\n",
    "La variable aleatoria Bernoulli toma los valores 1 o 0, es decir:\n",
    "\n",
    "\\begin{equation}    \n",
    "p(k) = {n \\choose k} p^k(1-p)^{n-k}\n",
    "\\end{equation}\n",
    "\n",
    "donde $k=0,1,...,n$\n",
    "\n",
    "La condición de normalización es escrita como \n",
    "\n",
    "\\begin{equation}    \n",
    "\\sum_{k=0}^{n}{{n \\choose k} p^k(1-p)^{n-k}}=1\n",
    "\\end{equation}\n",
    "\n",
    "#### Ejercicio 2: Simule y grafique las PMFs para variables binomiales distribuidas con $p=\\{0.10, 0.37, 0.63, 0.90 \\}$ para valores de $n={20, 40, 60}$"
   ]
  },
  {
   "cell_type": "markdown",
   "metadata": {},
   "source": [
    "# 2.3 Variable aleatoria geométrica. \n",
    "\n",
    "Suponga que se realizan repetidamente procesos Bernoulli con una probabilidad $p$. La distribución geométrica es el número de intentos necesarios para que $x=1$ sea el resultado por primera vez. La PMF está dada por:\n",
    "\\begin{equation}\n",
    "p(k)=(1-p)^{k-1}p, \n",
    "\\end{equation}\n",
    "\n",
    "$k=1,2,...,$\n",
    "\n",
    "#### Ejercicio 3: Simule y grafique las PMFs para variables geométricas distribuidas con $p=\\{0.2, 0.5, 0.8\\}$"
   ]
  },
  {
   "cell_type": "markdown",
   "metadata": {},
   "source": [
    "# 2.4 Variable aleatoria Poisson\n",
    "\n",
    "La PMF de una variable aleatoria Poisson está dada por \n",
    "\n",
    "\\begin{equation}\n",
    "p(k)=e^{}\n",
    "\\end{equation}"
   ]
  }
 ],
 "metadata": {
  "kernelspec": {
   "display_name": "Python 3",
   "language": "python",
   "name": "python3"
  },
  "language_info": {
   "codemirror_mode": {
    "name": "ipython",
    "version": 3
   },
   "file_extension": ".py",
   "mimetype": "text/x-python",
   "name": "python",
   "nbconvert_exporter": "python",
   "pygments_lexer": "ipython3",
   "version": "3.5.2"
  }
 },
 "nbformat": 4,
 "nbformat_minor": 2
}
