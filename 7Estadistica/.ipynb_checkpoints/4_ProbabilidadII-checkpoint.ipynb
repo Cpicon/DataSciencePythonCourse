{
 "cells": [
  {
   "cell_type": "markdown",
   "metadata": {},
   "source": [
    "# Probabilidad II\n",
    "\n",
    "Cadenas de Markov. Arboles de Decision. Covarianza y correlación. \n"
   ]
  },
  {
   "cell_type": "markdown",
   "metadata": {},
   "source": [
    "# 1. Cadenas de Markov"
   ]
  },
  {
   "cell_type": "code",
   "execution_count": 11,
   "metadata": {},
   "outputs": [
    {
     "name": "stdout",
     "output_type": "stream",
     "text": [
      "Todo está bien, adelante!! ;)\n"
     ]
    }
   ],
   "source": [
    "import numpy as np\n",
    "import random as rm\n",
    "\n",
    "# El espacio de estados\n",
    "states = [\"Dormir\",\"Comer\",\"Estudiar\"]\n",
    "\n",
    "# Posibles secuencias de eventos\n",
    "transitionName = [[\"DD\",\"DC\",\"DE\"],[\"CD\",\"CC\",\"CE\"],[\"ED\",\"EC\",\"EE\"]]\n",
    "\n",
    "# Matriz de transición. \n",
    "\n",
    "MT = [[0.2,0.6,0.2],[0.1,0.6,0.3],[0.2,0.7,0.1]]\n",
    "\n",
    "if sum(MT[0])+sum(MT[1])+sum(MT[1]) != 3:\n",
    "    print(\"Algo salió mal?\")\n",
    "else: print(\"Todo está bien, adelante!! ;)\")"
   ]
  },
  {
   "cell_type": "code",
   "execution_count": 10,
   "metadata": {},
   "outputs": [
    {
     "name": "stdout",
     "output_type": "stream",
     "text": [
      "Estado Inicial: Dormir\n",
      "Posibles estados: ['Dormir', 'Dormir', 'Comer']\n",
      "Estado final después de  2 dias: Comer\n",
      "Probabilidad de secuencia de estados posible: 0.04000000000000001\n"
     ]
    }
   ],
   "source": [
    "# A function that implements the Markov model to forecast the state/mood.\n",
    "def activity_forecast(days):\n",
    "    # Choose the starting state\n",
    "    activityToday = \"Dormir\"\n",
    "    print(\"Estado Inicial: \" + activityToday)\n",
    "    # Shall store the sequence of states taken. So, this only has the starting state for now.\n",
    "    activityList = [activityToday]\n",
    "    i = 0\n",
    "    # To calculate the probability of the activityList\n",
    "    prob = 1\n",
    "    while i != days:\n",
    "        if activityToday == \"Dormir\":\n",
    "            change = np.random.choice(transitionName[0],replace=True,p=MT[0])\n",
    "            if change == \"DD\":\n",
    "                prob = prob * 0.2\n",
    "                activityList.append(\"Dormir\")\n",
    "                pass\n",
    "            elif change == \"DE\":\n",
    "                prob = prob * 0.6\n",
    "                activityToday = \"Estudiar\"\n",
    "                activityList.append(\"Estudiar\")\n",
    "            else:\n",
    "                prob = prob * 0.2\n",
    "                activityToday = \"Comer\"\n",
    "                activityList.append(\"Comer\")\n",
    "        elif activityToday == \"Estudiar\":\n",
    "            change = np.random.choice(transitionName[1],replace=True,p=MT[1])\n",
    "            if change == \"EE\":\n",
    "                prob = prob * 0.5\n",
    "                activityList.append(\"Estudiar\")\n",
    "                pass\n",
    "            elif change == \"ED\":\n",
    "                prob = prob * 0.2\n",
    "                activityToday = \"Dormir\"\n",
    "                activityList.append(\"Dormir\")\n",
    "            else:\n",
    "                prob = prob * 0.3\n",
    "                activityToday = \"Comer\"\n",
    "                activityList.append(\"Comer\")\n",
    "        elif activityToday == \"Comer\":\n",
    "            change = np.random.choice(transitionName[2],replace=True,p=MT[2])\n",
    "            if change == \"CC\":\n",
    "                prob = prob * 0.1\n",
    "                activityList.append(\"Comer\")\n",
    "                pass\n",
    "            elif change == \"CD\":\n",
    "                prob = prob * 0.2\n",
    "                activityToday = \"Dormir\"\n",
    "                activityList.append(\"Dormir\")\n",
    "            else:\n",
    "                prob = prob * 0.7\n",
    "                activityToday = \"Estudiar\"\n",
    "                activityList.append(\"Estudiar\")\n",
    "        i += 1  \n",
    "    print(\"Posibles estados: \" + str(activityList))\n",
    "    print(\"Estado final después de  \"+ str(days) + \" dias: \" + activityToday)\n",
    "    print(\"Probabilidad de secuencia de estados posible: \" + str(prob))\n",
    "\n",
    "# Function that forecasts the possible state for the next 2 days\n",
    "activity_forecast(2)"
   ]
  },
  {
   "cell_type": "code",
   "execution_count": 6,
   "metadata": {},
   "outputs": [
    {
     "name": "stdout",
     "output_type": "stream",
     "text": [
      "The probability of starting at state:'Sleep' and ending at state:'Run'= 62.73%\n"
     ]
    }
   ],
   "source": [
    "def activity_forecast(days):\n",
    "    # Choose the starting state\n",
    "    activityToday = \"Dormir\"\n",
    "    activityList = [activityToday]\n",
    "    i = 0\n",
    "    prob = 1\n",
    "    while i != days:\n",
    "        if activityToday == \"Dormir\":\n",
    "            change = np.random.choice(transitionName[0],replace=True,p=MT[0])\n",
    "            if change == \"DD\":\n",
    "                prob = prob * 0.2\n",
    "                activityList.append(\"Dormir\")\n",
    "                pass\n",
    "            elif change == \"DE\":\n",
    "                prob = prob * 0.6\n",
    "                activityToday = \"Estudiar\"\n",
    "                activityList.append(\"Estudiar\")\n",
    "            else:\n",
    "                prob = prob * 0.2\n",
    "                activityToday = \"Comer\"\n",
    "                activityList.append(\"Comer\")\n",
    "        elif activityToday == \"Estudiar\":\n",
    "            change = np.random.choice(transitionName[1],replace=True,p=MT[1])\n",
    "            if change == \"EE\":\n",
    "                prob = prob * 0.5\n",
    "                activityList.append(\"Estudiar\")\n",
    "                pass\n",
    "            elif change == \"ED\":\n",
    "                prob = prob * 0.2\n",
    "                activityToday = \"Dormir\"\n",
    "                activityList.append(\"Dormir\")\n",
    "            else:\n",
    "                prob = prob * 0.3\n",
    "                activityToday = \"Comer\"\n",
    "                activityList.append(\"Comer\")\n",
    "        elif activityToday == \"Comer\":\n",
    "            change = np.random.choice(transitionName[2],replace=True,p=MT[2])\n",
    "            if change == \"CC\":\n",
    "                prob = prob * 0.1\n",
    "                activityList.append(\"Comer\")\n",
    "                pass\n",
    "            elif change == \"CD\":\n",
    "                prob = prob * 0.2\n",
    "                activityToday = \"Dormir\"\n",
    "                activityList.append(\"Dormir\")\n",
    "            else:\n",
    "                prob = prob * 0.7\n",
    "                activityToday = \"Estudiar\"\n",
    "                activityList.append(\"Estudiar\")\n",
    "        i += 1    \n",
    "    return activityList\n",
    "\n",
    "# To save every activityList\n",
    "list_activity = []\n",
    "count = 0\n",
    "\n",
    "# `Range` starts from the first count up until but excluding the last count\n",
    "for iterations in range(1,10000):\n",
    "        list_activity.append(activity_forecast(2))\n",
    "\n",
    "# Check out all the `activityList` we collected    \n",
    "#print(list_activity)\n",
    "\n",
    "# Iterate through the list to get a count of all activities ending in state:'Estudiar'\n",
    "for smaller_list in list_activity:\n",
    "    if(smaller_list[2] == \"Estudiar\"):\n",
    "        count += 1\n",
    "\n",
    "# Calculate the probability of starting from state:'Dormir' and ending at state:'Estudiar'\n",
    "percentage = (count/10000) * 100\n",
    "print(\"The probability of starting at state:'Dormir' and ending at state:'Estudiar'= \" + str(percentage) + \"%\")"
   ]
  },
  {
   "cell_type": "markdown",
   "metadata": {},
   "source": [
    "# 2. Árboles de Decision."
   ]
  },
  {
   "cell_type": "markdown",
   "metadata": {},
   "source": [
    "# 3. Covarianza y correlación."
   ]
  },
  {
   "cell_type": "markdown",
   "metadata": {},
   "source": []
  },
  {
   "cell_type": "markdown",
   "metadata": {},
   "source": []
  }
 ],
 "metadata": {
  "kernelspec": {
   "display_name": "Python 3",
   "language": "python",
   "name": "python3"
  },
  "language_info": {
   "codemirror_mode": {
    "name": "ipython",
    "version": 3
   },
   "file_extension": ".py",
   "mimetype": "text/x-python",
   "name": "python",
   "nbconvert_exporter": "python",
   "pygments_lexer": "ipython3",
   "version": "3.7.4"
  }
 },
 "nbformat": 4,
 "nbformat_minor": 2
}
