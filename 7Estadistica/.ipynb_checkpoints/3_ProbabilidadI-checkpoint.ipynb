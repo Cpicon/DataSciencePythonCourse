{
 "cells": [
  {
   "cell_type": "markdown",
   "metadata": {},
   "source": [
    "# Probabilidad I:\n",
    "Valor esperado e indicadores. Teorema de Bayes. Estimación Bayesiana. \n"
   ]
  },
  {
   "cell_type": "markdown",
   "metadata": {},
   "source": [
    "# 0. PMFs y PDFs conjuntas.\n",
    "\n",
    "- Una PMF conjunta $p_{X,Y}$ de las variables $X$ y $Y$ está definida como \n",
    "\n",
    "\\begin{equation}\n",
    "p_{X,Y}(x,y)=P(X=x,Y=y)\n",
    "\\end{equation}\n",
    "\n",
    "- La PMF marginal de X y Y puede ser obtenida a partir de la PMF conjunta, utilizando \n",
    "\n",
    "\\begin{equation}\n",
    "p_{X}(x)=\\sum_{y}{p_{X,Y}(x,y)}\n",
    "\\end{equation}\n",
    "y\n",
    "\\begin{equation}\n",
    "p_{Y}(y)=\\sum_{x}{p_{X,Y}(x,y)}\n",
    "\\end{equation}\n",
    "\n",
    "De manera análoga, para $X$ y $Y$ que sean variables aleatorias conjuntas con una PDF conjunta $f_{X,Y}$ se tiene que \n",
    "\n",
    "\\begin{equation}\n",
    "f_{X,Y}(x,y)=f_{Y}(y)f_{X|Y}(x|y)\n",
    "\\end{equation}\n",
    "\n",
    "\\begin{equation}\n",
    "f_{X}(x)=\\int_{-\\infty}^{\\infty}f_{Y}(y)f_{X|Y}(x|y)dy\n",
    "\\end{equation}\n",
    "\n",
    "#### Ejercicio 1: Realice dos gráficas de funciones de distribución conjuntas para variables aleatorias X,Y distribuidas normales para medias y varianzas iguales y medias y varianzas diferentes\n"
   ]
  },
  {
   "cell_type": "markdown",
   "metadata": {},
   "source": [
    "# 1. Valor Esperado.\n",
    "\n",
    "Para variables discretas se define el valor esperado de una variable discreta $X$ como \n",
    "\n",
    "\\begin{equation}\n",
    "E[X] =\\sum_{x}{x p_{X} (x)}\n",
    "\\end{equation}\n",
    "\n",
    "y para una variable continua:\n",
    "\n",
    "\\begin{equation}\n",
    "E[X] =\\int_{x}{x p_{X} (x)}dx\n",
    "\\end{equation}\n",
    "\n",
    "y la varianza se define como\n",
    "\n",
    "\\begin{equation}\n",
    "var[X] = E[(X-E[X])^2]\n",
    "\\end{equation}\n",
    "\n",
    "#### Ejercicio 2: Obtenga numéricamente el valor esperado y la varianza de una función de distribución Gamma generada aleatoriamente con parámetros $1/\\lambda=0.5$ y $k=9$. Realice la gráfica de la distribución.\n"
   ]
  },
  {
   "cell_type": "code",
   "execution_count": null,
   "metadata": {},
   "outputs": [],
   "source": [
    "\n"
   ]
  }
 ],
 "metadata": {
  "kernelspec": {
   "display_name": "Python 3",
   "language": "python",
   "name": "python3"
  },
  "language_info": {
   "codemirror_mode": {
    "name": "ipython",
    "version": 3
   },
   "file_extension": ".py",
   "mimetype": "text/x-python",
   "name": "python",
   "nbconvert_exporter": "python",
   "pygments_lexer": "ipython3",
   "version": "3.7.4"
  }
 },
 "nbformat": 4,
 "nbformat_minor": 2
}
