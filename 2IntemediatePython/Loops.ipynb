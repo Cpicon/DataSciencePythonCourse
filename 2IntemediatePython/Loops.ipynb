{
 "cells": [
  {
   "cell_type": "markdown",
   "metadata": {},
   "source": [
    "# WHILE LOOP"
   ]
  },
  {
   "cell_type": "markdown",
   "metadata": {},
   "source": [
    "The while loop is some sort of `'if'` statement: it executes the code inside if the conditions is `'True'`.\n",
    "The syntax of a while loop is vety similar to the if statement, as ypu can see here. Example:"
   ]
  },
  {
   "cell_type": "code",
   "execution_count": 2,
   "metadata": {},
   "outputs": [
    {
     "name": "stdout",
     "output_type": "stream",
     "text": [
      "2.5\n",
      "0.625\n"
     ]
    }
   ],
   "source": [
    "error = 10.0\n",
    "while error>1:\n",
    "    error = error/4\n",
    "    print(error)"
   ]
  },
  {
   "cell_type": "markdown",
   "metadata": {},
   "source": [
    "We are going to code a while loop that implements a very basic control system for an inverted pendulum. If there's an offset from standing perfectly straight, the while loop will incrementally fix this offset."
   ]
  },
  {
   "cell_type": "code",
   "execution_count": 3,
   "metadata": {},
   "outputs": [
    {
     "name": "stdout",
     "output_type": "stream",
     "text": [
      "correcting...\n",
      "7\n",
      "correcting...\n",
      "6\n",
      "correcting...\n",
      "5\n",
      "correcting...\n",
      "4\n",
      "correcting...\n",
      "3\n",
      "correcting...\n",
      "2\n",
      "correcting...\n",
      "1\n",
      "correcting...\n",
      "0\n"
     ]
    }
   ],
   "source": [
    "# Initialize offset\n",
    "offset = 8\n",
    "# Code the while loop\n",
    "while offset != 0:\n",
    "    print('correcting...')\n",
    "    offset = offset -1\n",
    "    print(offset)"
   ]
  },
  {
   "cell_type": "markdown",
   "metadata": {},
   "source": [
    "# FOR LOOP"
   ]
  },
  {
   "cell_type": "markdown",
   "metadata": {},
   "source": [
    "The for loop is another type of loop as well. The main feature is that to `'For'` loop you need establish stopping conditions in the first loop line."
   ]
  },
  {
   "cell_type": "code",
   "execution_count": 15,
   "metadata": {},
   "outputs": [
    {
     "name": "stdout",
     "output_type": "stream",
     "text": [
      "index 0: 1.73\n",
      "index 1: 1.68\n",
      "index 2: 1.71\n",
      "index 3: 1.89\n"
     ]
    }
   ],
   "source": [
    "fam = [1.73, 1.68, 1.71, 1.89]\n",
    "for i in fam:\n",
    "    print('index {1}: {0}'.format(i, fam.index(i)))"
   ]
  },
  {
   "cell_type": "markdown",
   "metadata": {},
   "source": [
    "`'enumerate()'` method allows get the same outcome but in a different syntax. Check it in the next lines:"
   ]
  },
  {
   "cell_type": "code",
   "execution_count": 16,
   "metadata": {},
   "outputs": [
    {
     "name": "stdout",
     "output_type": "stream",
     "text": [
      "index 0: 1.73\n",
      "index 1: 1.68\n",
      "index 2: 1.71\n",
      "index 3: 1.89\n"
     ]
    }
   ],
   "source": [
    "for index, i in enumerate(fam):\n",
    "    print('index {1}: {0}'.format(i, index))"
   ]
  },
  {
   "cell_type": "markdown",
   "metadata": {},
   "source": [
    "The for loop doesn't only work with lists. You can also create a for loop that iterates over every character a string"
   ]
  },
  {
   "cell_type": "code",
   "execution_count": 17,
   "metadata": {},
   "outputs": [
    {
     "name": "stdout",
     "output_type": "stream",
     "text": [
      "F\n",
      "A\n",
      "M\n",
      "I\n",
      "L\n",
      "Y\n"
     ]
    }
   ],
   "source": [
    "for c in 'family':\n",
    "    print(c.capitalize())"
   ]
  },
  {
   "cell_type": "code",
   "execution_count": 50,
   "metadata": {},
   "outputs": [],
   "source": [
    "house = [[\"hallway\", 11.25], \n",
    "         [\"kitchen\", 18.0], \n",
    "         [\"living room\", 20.0], \n",
    "         [\"bedroom\", 10.75], \n",
    "         [\"bathroom\", 9.50]]"
   ]
  },
  {
   "cell_type": "code",
   "execution_count": 3,
   "metadata": {},
   "outputs": [
    {
     "ename": "NameError",
     "evalue": "name 'house' is not defined",
     "output_type": "error",
     "traceback": [
      "\u001b[0;31m---------------------------------------------------------------------------\u001b[0m",
      "\u001b[0;31mNameError\u001b[0m                                 Traceback (most recent call last)",
      "\u001b[0;32m<ipython-input-3-64bd731e24ac>\u001b[0m in \u001b[0;36m<module>\u001b[0;34m()\u001b[0m\n\u001b[1;32m      1\u001b[0m \u001b[0;32mimport\u001b[0m \u001b[0mnumpy\u001b[0m \u001b[0;32mas\u001b[0m \u001b[0mnp\u001b[0m\u001b[0;34m\u001b[0m\u001b[0m\n\u001b[1;32m      2\u001b[0m \u001b[0;32mimport\u001b[0m \u001b[0mpandas\u001b[0m \u001b[0;32mas\u001b[0m \u001b[0mpd\u001b[0m\u001b[0;34m\u001b[0m\u001b[0m\n\u001b[0;32m----> 3\u001b[0;31m \u001b[0;32mfor\u001b[0m \u001b[0msub\u001b[0m \u001b[0;32min\u001b[0m \u001b[0mhouse\u001b[0m\u001b[0;34m:\u001b[0m\u001b[0;34m\u001b[0m\u001b[0m\n\u001b[0m\u001b[1;32m      4\u001b[0m     \u001b[0ma\u001b[0m \u001b[0;34m=\u001b[0m \u001b[0mstr\u001b[0m\u001b[0;34m(\u001b[0m\u001b[0msub\u001b[0m\u001b[0;34m[\u001b[0m\u001b[0;36m0\u001b[0m\u001b[0;34m]\u001b[0m\u001b[0;34m)\u001b[0m\u001b[0;34m\u001b[0m\u001b[0m\n\u001b[1;32m      5\u001b[0m     \u001b[0mb\u001b[0m \u001b[0;34m=\u001b[0m \u001b[0mstr\u001b[0m\u001b[0;34m(\u001b[0m\u001b[0msub\u001b[0m\u001b[0;34m[\u001b[0m\u001b[0;36m1\u001b[0m\u001b[0;34m]\u001b[0m\u001b[0;34m)\u001b[0m\u001b[0;34m\u001b[0m\u001b[0m\n",
      "\u001b[0;31mNameError\u001b[0m: name 'house' is not defined"
     ]
    }
   ],
   "source": [
    "import numpy as np\n",
    "import pandas as pd\n",
    "for sub in house:\n",
    "    a = str(sub[0])\n",
    "    b = str(sub[1])\n",
    "    print('the '+a+\" is \"+b+' sqm')\n",
    "    \n",
    "pd.DataFrame(np.array(house), columns = ['place','sqm'])"
   ]
  },
  {
   "cell_type": "markdown",
   "metadata": {},
   "source": [
    "In Python3, you need use the `'items()`' method in order to iterate over a dictionary. For example:"
   ]
  },
  {
   "cell_type": "code",
   "execution_count": 4,
   "metadata": {},
   "outputs": [
    {
     "name": "stdout",
     "output_type": "stream",
     "text": [
      "the capital of spain is madrid\n",
      "the capital of france is paris\n",
      "the capital of germany is berlin\n",
      "the capital of norway is oslo\n",
      "the capital of italy is rome\n",
      "the capital of poland is warsaw\n",
      "the capital of austria is vienna\n"
     ]
    }
   ],
   "source": [
    "europe = {'spain':'madrid', 'france':'paris', 'germany':'berlin',\n",
    "          'norway':'oslo', 'italy':'rome', 'poland':'warsaw', 'austria':'vienna' }\n",
    "\n",
    "for key, value in europe.items():\n",
    " print(\"the capital of {} is {}\".format(key, value))"
   ]
  },
  {
   "cell_type": "markdown",
   "metadata": {},
   "source": [
    "In above, you could think that the first iterator correspond to `'keys'` of the dictionary and the `'value'` to respective value. If you're dealing with a 2D Numpy array, it's more complicated. A 2D array is built up of multiple 1D arrays. To explicitly iterate over all separate elements of a multi-dimensional array, you'll need this syntax:"
   ]
  },
  {
   "cell_type": "code",
   "execution_count": 17,
   "metadata": {},
   "outputs": [
    {
     "name": "stdout",
     "output_type": "stream",
     "text": [
      "74 inches / 74 inches / 72 inches / 75 inches / 75 inches / 73 inches / 180 pounds / 215 pounds / 210 pounds / 205 pounds / 190 pounds / 195 pounds / "
     ]
    }
   ],
   "source": [
    "height = [74, 74, 72, 75, 75, 73]\n",
    "weight = [180, 215, 210, 205, 190, 195]\n",
    "np_height = np.array(height)\n",
    "np_baseball = np.array([height, weight])\n",
    "#for x in np_height:#iterate in 1D Array\n",
    "#    print('{} inches'.format(x))\n",
    "for index,x in enumerate(np.nditer(np_baseball)):\n",
    "    if index < np_baseball.shape[1]:\n",
    "        print('{} inches'.format(x), end=' / ')\n",
    "    else:\n",
    "        print('{} pounds'.format(x), end=' / ')\n"
   ]
  },
  {
   "cell_type": "markdown",
   "metadata": {},
   "source": [
    "the `'np.nidter'` function ensure the loop iter over each item into to 2D array. Observe the next lines and analize what happen in each one."
   ]
  },
  {
   "cell_type": "code",
   "execution_count": 10,
   "metadata": {},
   "outputs": [
    {
     "name": "stdout",
     "output_type": "stream",
     "text": [
      "     area    capital      country  population\n",
      "0   8.516   brasilia       Brazil      200.40\n",
      "1  17.100      moscu        Rusia      143.50\n",
      "2   3.286  new delhi        India     1252.00\n",
      "3   9.597    beijing        China     1357.00\n",
      "4   1.221   pretoria  Soth Africa       52.98\n"
     ]
    }
   ],
   "source": [
    "import pandas as pd\n",
    "data = {\n",
    "    'country' : ['Brazil','Rusia','India','China','Soth Africa'],\n",
    "    'capital' : ['brasilia', 'moscu', 'new delhi','beijing','pretoria'],\n",
    "    'area'    : [8.516,17.10,3.286,9.597,1.221],\n",
    "    'population' : [200.4,143.5,1252,1357,52.98]\n",
    "}\n",
    "pd_data = pd.DataFrame(data)\n",
    "print(pd_data.head())"
   ]
  },
  {
   "cell_type": "markdown",
   "metadata": {},
   "source": [
    "if you want show each rows in data, you should use `'.iterrows()'` method. "
   ]
  },
  {
   "cell_type": "code",
   "execution_count": 5,
   "metadata": {},
   "outputs": [
    {
     "name": "stdout",
     "output_type": "stream",
     "text": [
      "0\n",
      "area             8.516\n",
      "capital       brasilia\n",
      "country         Brazil\n",
      "population       200.4\n",
      "Name: 0, dtype: object\n",
      "1\n",
      "area           17.1\n",
      "capital       moscu\n",
      "country       Rusia\n",
      "population    143.5\n",
      "Name: 1, dtype: object\n",
      "2\n",
      "area              3.286\n",
      "capital       new delhi\n",
      "country           India\n",
      "population         1252\n",
      "Name: 2, dtype: object\n",
      "3\n",
      "area            9.597\n",
      "capital       beijing\n",
      "country         China\n",
      "population       1357\n",
      "Name: 3, dtype: object\n",
      "4\n",
      "area                1.221\n",
      "capital          pretoria\n",
      "country       Soth Africa\n",
      "population          52.98\n",
      "Name: 4, dtype: object\n"
     ]
    }
   ],
   "source": [
    "for label , row in pd_data.iterrows():\n",
    "    print(label)\n",
    "    print(row)\n"
   ]
  },
  {
   "cell_type": "markdown",
   "metadata": {},
   "source": [
    "Other case would be if you only want to print out the capital on each iteration. check it:"
   ]
  },
  {
   "cell_type": "code",
   "execution_count": 7,
   "metadata": {},
   "outputs": [
    {
     "name": "stdout",
     "output_type": "stream",
     "text": [
      "0: brasilia\n",
      "1: moscu\n",
      "2: new delhi\n",
      "3: beijing\n",
      "4: pretoria\n"
     ]
    }
   ],
   "source": [
    "for label, row in pd_data.iterrows():\n",
    "    print(str(label) + \": \"+row[\"capital\"])"
   ]
  },
  {
   "cell_type": "markdown",
   "metadata": {},
   "source": [
    "You can take things further than simple printouts, though. Let's add a new column to the brics DataFrame, named `'name length'`, containing the number of characters the country's name counts. The specification of the for loop can be the same, because we will need both the row label as the row data. Next, we can calculate the length of each country name by selecting the country column from row, and then passing it to the `'len()'` function, that determines the number of characters in a string. Finally, we will have to add this new information to a new column, `'name length'`, at the appropiate location. "
   ]
  },
  {
   "cell_type": "code",
   "execution_count": 12,
   "metadata": {},
   "outputs": [
    {
     "name": "stdout",
     "output_type": "stream",
     "text": [
      "     area    capital      country  population  name length\n",
      "0   8.516   brasilia       Brazil      200.40          6.0\n",
      "1  17.100      moscu        Rusia      143.50          5.0\n",
      "2   3.286  new delhi        India     1252.00          5.0\n",
      "3   9.597    beijing        China     1357.00          5.0\n",
      "4   1.221   pretoria  Soth Africa       52.98         11.0\n"
     ]
    }
   ],
   "source": [
    "for label, row in pd_data.iterrows():\n",
    "    pd_data.loc[label, \"name length\"] = len(row[\"country\"])\n",
    "print(pd_data)"
   ]
  },
  {
   "cell_type": "markdown",
   "metadata": {},
   "source": [
    "There is a new column in `'pd_data'` with the length of the country names. However, there is other more eficcient way to do it. You can use `'apply()'` function, this allow vectorize the operations, since add one to one the len of each country name. This type of operations is known like element-wise. Let do it but in this case we will calculate and add the length of the capital name in a new column."
   ]
  },
  {
   "cell_type": "code",
   "execution_count": 14,
   "metadata": {},
   "outputs": [
    {
     "name": "stdout",
     "output_type": "stream",
     "text": [
      "     area    capital      country  population  name length  name length cap\n",
      "0   8.516   brasilia       Brazil      200.40          6.0                8\n",
      "1  17.100      moscu        Rusia      143.50          5.0                5\n",
      "2   3.286  new delhi        India     1252.00          5.0                9\n",
      "3   9.597    beijing        China     1357.00          5.0                7\n",
      "4   1.221   pretoria  Soth Africa       52.98         11.0                8\n"
     ]
    }
   ],
   "source": [
    "pd_data['name length cap'] = pd_data['capital'].apply(len)\n",
    "print(pd_data)"
   ]
  },
  {
   "cell_type": "code",
   "execution_count": null,
   "metadata": {},
   "outputs": [],
   "source": []
  }
 ],
 "metadata": {
  "kernelspec": {
   "display_name": "Python 3",
   "language": "python",
   "name": "python3"
  },
  "language_info": {
   "codemirror_mode": {
    "name": "ipython",
    "version": 3
   },
   "file_extension": ".py",
   "mimetype": "text/x-python",
   "name": "python",
   "nbconvert_exporter": "python",
   "pygments_lexer": "ipython3",
   "version": "3.6.5"
  }
 },
 "nbformat": 4,
 "nbformat_minor": 2
}
