{
 "cells": [
  {
   "cell_type": "markdown",
   "metadata": {},
   "source": [
    "# Functions"
   ]
  },
  {
   "cell_type": "markdown",
   "metadata": {},
   "source": [
    "Functions are a piece of reusable code aimed at solving a particular task. You can call functions instead having to write code yourself. There so many written functions in python, some of them are most popular than anothers. In this we will see the standard functions to Data Science and, afterwards, we will learn the common libraries (One library contains packages and these includes functions) as Numpy, Pandas, Matplotlib, Math and so on. "
   ]
  },
  {
   "cell_type": "markdown",
   "metadata": {},
   "source": [
    "However, before to start, we will need explain how this function commonly works. Each function hopes get a parameter or argument. This parameter/argument is value input with the function will (there are some functions that it is not necesarry introduce a parameter, but they are very uncommonly) "
   ]
  },
  {
   "cell_type": "markdown",
   "metadata": {},
   "source": [
    "Python offers a bunch of built-in functions to make your work as a data scientist easier. You already know two such functions: `print()` and `type()`. Now we will use the functions `str()`, `int()`, `bool()` and `float()` to switch between data types. These are built-in functions as well."
   ]
  },
  {
   "cell_type": "code",
   "execution_count": 2,
   "metadata": {},
   "outputs": [
    {
     "name": "stdout",
     "output_type": "stream",
     "text": [
      "The variable A was converted from  <class 'int'>  type to  <class 'str'>  type\n"
     ]
    }
   ],
   "source": [
    "# str() convert any argument in variable type string\n",
    "A = 12\n",
    "B = str(A)\n",
    "print(\"The variable A was converted from \", type(A), \" type to \", type(B), \" type\")"
   ]
  },
  {
   "cell_type": "code",
   "execution_count": 2,
   "metadata": {},
   "outputs": [
    {
     "ename": "NameError",
     "evalue": "name 'B' is not defined",
     "output_type": "error",
     "traceback": [
      "\u001b[1;31m---------------------------------------------------------------------------\u001b[0m",
      "\u001b[1;31mNameError\u001b[0m                                 Traceback (most recent call last)",
      "\u001b[1;32m<ipython-input-2-28131558668b>\u001b[0m in \u001b[0;36m<module>\u001b[1;34m\u001b[0m\n\u001b[0;32m      1\u001b[0m \u001b[1;31m#int() convert a string number into integer\u001b[0m\u001b[1;33m\u001b[0m\u001b[1;33m\u001b[0m\u001b[0m\n\u001b[1;32m----> 2\u001b[1;33m \u001b[0mC\u001b[0m \u001b[1;33m=\u001b[0m \u001b[0mint\u001b[0m\u001b[1;33m(\u001b[0m\u001b[0mB\u001b[0m\u001b[1;33m)\u001b[0m\u001b[1;33m\u001b[0m\u001b[0m\n\u001b[0m\u001b[0;32m      3\u001b[0m \u001b[0mprint\u001b[0m\u001b[1;33m(\u001b[0m\u001b[1;34m\" The variable A was converted into \"\u001b[0m\u001b[1;33m,\u001b[0m \u001b[0mtype\u001b[0m\u001b[1;33m(\u001b[0m\u001b[0mC\u001b[0m\u001b[1;33m)\u001b[0m\u001b[1;33m,\u001b[0m \u001b[1;34m\" variable again\"\u001b[0m\u001b[1;33m)\u001b[0m\u001b[1;33m\u001b[0m\u001b[0m\n",
      "\u001b[1;31mNameError\u001b[0m: name 'B' is not defined"
     ]
    }
   ],
   "source": [
    "#int() convert a string number into integer\n",
    "C = int(B)\n",
    "print(\" The variable A was converted into \", type(C), \" variable again\")"
   ]
  },
  {
   "cell_type": "code",
   "execution_count": 9,
   "metadata": {},
   "outputs": [
    {
     "name": "stdout",
     "output_type": "stream",
     "text": [
      " The variable D and E are  <class 'float'> and <class 'float'> variables, respectively\n"
     ]
    }
   ],
   "source": [
    "#float() convert int and numbers string into float variable\n",
    "D = float(C)\n",
    "E = \"12.5\"\n",
    "F = float(E)\n",
    "print(\" The variable D and E are \", type(D), \"and\", type(F), \"variables, respectively\")"
   ]
  },
  {
   "cell_type": "code",
   "execution_count": 10,
   "metadata": {},
   "outputs": [
    {
     "name": "stdout",
     "output_type": "stream",
     "text": [
      " The  False and True  are variable type <class 'bool'>\n"
     ]
    }
   ],
   "source": [
    "#Bool() is special case of variable that we will see later, It can convert the integers 0 or 1 in False o True conditions. \n",
    "#Note: don't worry if you feel a little lost with this type of variable, we will see it more in depth on conditionals module.\n",
    "G = 0\n",
    "H = 1\n",
    "I = bool(G)\n",
    "J = bool(H)\n",
    "print( \" The \", I, \"and\", J, \" are variable type\", type(I))"
   ]
  },
  {
   "cell_type": "markdown",
   "metadata": {},
   "source": [
    "One fundamental and very important function is `help()`. This function allows know the mainly documentation about one specific function. This return what the unknown function hopes and which is its purpose. Let's see the following example"
   ]
  },
  {
   "cell_type": "code",
   "execution_count": 12,
   "metadata": {},
   "outputs": [
    {
     "name": "stdout",
     "output_type": "stream",
     "text": [
      "Help on built-in function max in module builtins:\n",
      "\n",
      "max(...)\n",
      "    max(iterable, *[, default=obj, key=func]) -> value\n",
      "    max(arg1, arg2, *args, *[, key=func]) -> value\n",
      "    \n",
      "    With a single iterable argument, return its biggest item. The\n",
      "    default keyword-only argument specifies an object to return if\n",
      "    the provided iterable is empty.\n",
      "    With two or more arguments, return the largest argument.\n",
      "\n"
     ]
    }
   ],
   "source": [
    "#Use hepl() to know what max() function does\n",
    "help(max)"
   ]
  },
  {
   "cell_type": "markdown",
   "metadata": {},
   "source": [
    "How you can see in the above case, `max()` is function that returns the maximum value of a sequence of numbers, it can be a list of integers, for instance. Note that the documentation has a some information inside the square parentheses []. This arguments are optionals to get a specific outcomes. See this [link](https://docs.python.org/3/library/functions.html) to learn more about `max()` functions and another in-built functions of Python."
   ]
  },
  {
   "cell_type": "markdown",
   "metadata": {},
   "source": [
    "There are others many built-in functions, such as `complex()` funtions what  takes two arguments: real and imag. real is a required argument, imag is an optional argument. How you can see, if you use `help()` function with `complex`, this will return its documentation. There, we observe the arguments which are expected."
   ]
  },
  {
   "cell_type": "code",
   "execution_count": 2,
   "metadata": {},
   "outputs": [
    {
     "name": "stdout",
     "output_type": "stream",
     "text": [
      "Help on class complex in module builtins:\n",
      "\n",
      "class complex(object)\n",
      " |  complex(real[, imag]) -> complex number\n",
      " |  \n",
      " |  Create a complex number from a real part and an optional imaginary part.\n",
      " |  This is equivalent to (real + imag*1j) where imag defaults to 0.\n",
      " |  \n",
      " |  Methods defined here:\n",
      " |  \n",
      " |  __abs__(self, /)\n",
      " |      abs(self)\n",
      " |  \n",
      " |  __add__(self, value, /)\n",
      " |      Return self+value.\n",
      " |  \n",
      " |  __bool__(self, /)\n",
      " |      self != 0\n",
      " |  \n",
      " |  __divmod__(self, value, /)\n",
      " |      Return divmod(self, value).\n",
      " |  \n",
      " |  __eq__(self, value, /)\n",
      " |      Return self==value.\n",
      " |  \n",
      " |  __float__(self, /)\n",
      " |      float(self)\n",
      " |  \n",
      " |  __floordiv__(self, value, /)\n",
      " |      Return self//value.\n",
      " |  \n",
      " |  __format__(...)\n",
      " |      complex.__format__() -> str\n",
      " |      \n",
      " |      Convert to a string according to format_spec.\n",
      " |  \n",
      " |  __ge__(self, value, /)\n",
      " |      Return self>=value.\n",
      " |  \n",
      " |  __getattribute__(self, name, /)\n",
      " |      Return getattr(self, name).\n",
      " |  \n",
      " |  __getnewargs__(...)\n",
      " |  \n",
      " |  __gt__(self, value, /)\n",
      " |      Return self>value.\n",
      " |  \n",
      " |  __hash__(self, /)\n",
      " |      Return hash(self).\n",
      " |  \n",
      " |  __int__(self, /)\n",
      " |      int(self)\n",
      " |  \n",
      " |  __le__(self, value, /)\n",
      " |      Return self<=value.\n",
      " |  \n",
      " |  __lt__(self, value, /)\n",
      " |      Return self<value.\n",
      " |  \n",
      " |  __mod__(self, value, /)\n",
      " |      Return self%value.\n",
      " |  \n",
      " |  __mul__(self, value, /)\n",
      " |      Return self*value.\n",
      " |  \n",
      " |  __ne__(self, value, /)\n",
      " |      Return self!=value.\n",
      " |  \n",
      " |  __neg__(self, /)\n",
      " |      -self\n",
      " |  \n",
      " |  __new__(*args, **kwargs) from builtins.type\n",
      " |      Create and return a new object.  See help(type) for accurate signature.\n",
      " |  \n",
      " |  __pos__(self, /)\n",
      " |      +self\n",
      " |  \n",
      " |  __pow__(self, value, mod=None, /)\n",
      " |      Return pow(self, value, mod).\n",
      " |  \n",
      " |  __radd__(self, value, /)\n",
      " |      Return value+self.\n",
      " |  \n",
      " |  __rdivmod__(self, value, /)\n",
      " |      Return divmod(value, self).\n",
      " |  \n",
      " |  __repr__(self, /)\n",
      " |      Return repr(self).\n",
      " |  \n",
      " |  __rfloordiv__(self, value, /)\n",
      " |      Return value//self.\n",
      " |  \n",
      " |  __rmod__(self, value, /)\n",
      " |      Return value%self.\n",
      " |  \n",
      " |  __rmul__(self, value, /)\n",
      " |      Return value*self.\n",
      " |  \n",
      " |  __rpow__(self, value, mod=None, /)\n",
      " |      Return pow(value, self, mod).\n",
      " |  \n",
      " |  __rsub__(self, value, /)\n",
      " |      Return value-self.\n",
      " |  \n",
      " |  __rtruediv__(self, value, /)\n",
      " |      Return value/self.\n",
      " |  \n",
      " |  __str__(self, /)\n",
      " |      Return str(self).\n",
      " |  \n",
      " |  __sub__(self, value, /)\n",
      " |      Return self-value.\n",
      " |  \n",
      " |  __truediv__(self, value, /)\n",
      " |      Return self/value.\n",
      " |  \n",
      " |  conjugate(...)\n",
      " |      complex.conjugate() -> complex\n",
      " |      \n",
      " |      Return the complex conjugate of its argument. (3-4j).conjugate() == 3+4j.\n",
      " |  \n",
      " |  ----------------------------------------------------------------------\n",
      " |  Data descriptors defined here:\n",
      " |  \n",
      " |  imag\n",
      " |      the imaginary part of a complex number\n",
      " |  \n",
      " |  real\n",
      " |      the real part of a complex number\n",
      "\n"
     ]
    }
   ],
   "source": [
    "help(complex)"
   ]
  },
  {
   "cell_type": "markdown",
   "metadata": {},
   "source": [
    "`sorted()` takes three arguments: iterable, key and reverse. `key=None` means that if you don't specify the key argument, it will be None. `reverse=False` means that if you don't specify the reverse argument, it will be False."
   ]
  },
  {
   "cell_type": "markdown",
   "metadata": {},
   "source": [
    "# Methods"
   ]
  },
  {
   "cell_type": "markdown",
   "metadata": {},
   "source": [
    "Until now, you have learned how declaring variables and using functions, however, it is very important to know what is it. The variables are known as objects. This objects in Python has properties/attributes, it means, each object has perticular method that could be applied to it. Therefore, we will check some of them. \n",
    "\n",
    "    Note: Differently to functions, the methods go at the end of the object (string, boolean, integers, list and so on)."
   ]
  },
  {
   "cell_type": "code",
   "execution_count": 13,
   "metadata": {},
   "outputs": [
    {
     "name": "stdout",
     "output_type": "stream",
     "text": [
      " The position of letter (e) in the list is  4\n",
      "The position of letter (b) in the list is 1\n",
      "the a times included on the list are 2\n",
      "the e times included on the list are 1\n",
      "The name capitalized is  Your name\n",
      "introduce your last name\n"
     ]
    }
   ],
   "source": [
    "#index() is a very popular method. It will find the position of an argument contained in a list. \n",
    "#don't forget that Python indexes starting on zero (0). Check the syntax\n",
    "list = [\"a\", \"b\", \"c\", \"d\", \"e\"]\n",
    "position_e = list.index(\"e\")\n",
    "print(\" The position of letter (e) in the list is \", position_e)\n",
    "print(\"The position of letter (b) in the list is\", list.index(\"b\"))\n",
    "#count() allows count the number of times that one element exist in the list\n",
    "list = [\"a\", \"b\", \"c\", \"d\", \"e\", \"a\"]\n",
    "a_counter = list.count(\"a\")\n",
    "print(\"the a times included on the list are\",a_counter)\n",
    "print(\"the e times included on the list are\",list.count(\"e\"))\n",
    "#capitalize() puts the first capital letter and replace() change the text by the text you want\n",
    "string_name = \"your name\"\n",
    "capitalize_name = string_name.capitalize()\n",
    "print(\"The name capitalized is \", capitalize_name)\n",
    "your_last_name = string_name.replace(\"name\",\"last name\")\n",
    "print(\"introduce\", your_last_name)\n"
   ]
  },
  {
   "cell_type": "markdown",
   "metadata": {},
   "source": [
    "In the las example, we see method to two different objects ( lists and strings ) but have in mind that some methods of one does not in other type of object. This will give you a error like this:"
   ]
  },
  {
   "cell_type": "code",
   "execution_count": null,
   "metadata": {},
   "outputs": [],
   "source": [
    "new_letter = list.replace(\"a\",\"z\")"
   ]
  },
  {
   "cell_type": "markdown",
   "metadata": {},
   "source": [
    "On the other hand, there are some methods such `index()` which are valid in both objects. Try use `index()` to above variables (`list` and `string_name`) in order to find the \"e\" letter index in each variable."
   ]
  },
  {
   "cell_type": "markdown",
   "metadata": {},
   "source": [
    "Finally, some methods modifies the variables where they were used. Fox example, `upper()` method change the lowercase letters to uppercase"
   ]
  },
  {
   "cell_type": "code",
   "execution_count": 18,
   "metadata": {},
   "outputs": [
    {
     "name": "stdout",
     "output_type": "stream",
     "text": [
      "YOUR NAME\n"
     ]
    }
   ],
   "source": [
    "string_name_upper = string_name.upper()\n",
    "print(string_name_upper)"
   ]
  },
  {
   "cell_type": "markdown",
   "metadata": {},
   "source": [
    "# Packages"
   ]
  },
  {
   "cell_type": "markdown",
   "metadata": {},
   "source": [
    "It is a little view about packages. It is not important to data science or analyst but is useful to have a clear concept. Look, to your co-workers, your code readers and yourself are necessary to have a legible code written because it allows understanding how the code works and, moreover, ensure improvements by others. Furthermore, optimize your code by using the specific packages improve your memory and computational processing. Therefore, in this part, we will see how is recommend import packages. However, feel free to use other forms to do it.\n",
    "\n",
    "First, you have import in the first line the packages that you will use across all code. Some of them have a name very long so you should use an alias to this packages. But, if the name of the package is short you might leave how it is. For example, the most popular packages to management of arrays or blocks of data is Numpy ( we will work this in depth in the next module). Other very popular to visualize the data is matplotlib, specifically, pyplot. Look the example:"
   ]
  },
  {
   "cell_type": "code",
   "execution_count": 1,
   "metadata": {},
   "outputs": [],
   "source": [
    "# impot the library numpy\n",
    "import numpy\n",
    "# matplotlib is the library but we want just use one specific package called pyplot. Like the name is so long, we will use an alias\n",
    "import matplotlib.pyplot as plt\n",
    "# if we wan use a specific function or constant of one library-package. We just need impor it\n",
    "from math import radians\n",
    "from math import pi\n"
   ]
  },
  {
   "cell_type": "markdown",
   "metadata": {},
   "source": [
    "In the next, we will work with different packages and functions so don't worry if until now you don't understand completly the topic."
   ]
  }
 ],
 "metadata": {
  "kernelspec": {
   "display_name": "Python 3",
   "language": "python",
   "name": "python3"
  },
  "language_info": {
   "codemirror_mode": {
    "name": "ipython",
    "version": 3
   },
   "file_extension": ".py",
   "mimetype": "text/x-python",
   "name": "python",
   "nbconvert_exporter": "python",
   "pygments_lexer": "ipython3",
   "version": "3.6.6"
  }
 },
 "nbformat": 4,
 "nbformat_minor": 2
}
