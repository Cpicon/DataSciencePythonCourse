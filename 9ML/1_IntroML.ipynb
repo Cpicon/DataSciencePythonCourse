{
 "cells": [
  {
   "cell_type": "markdown",
   "metadata": {},
   "source": [
    "# Machine Learning\n",
    "\n",
    "## Qué es Machine Learning?\n",
    "\n",
    "El término Machine Learning según la definición común es \"el estudio de los algoritmos de computador que mejoran automáticamente a través de la experiencia\".\n",
    "\n",
    "\n",
    "## Aplicaciones recientes:\n",
    "### Computación visual. \n",
    "- ImageNet\n",
    "- Vehículos conducidos autonomamente.\n",
    "- Redes Neuronales Convolucionales\n",
    "- Robots retroalimentados con CV.\n",
    "\n",
    "### Reconocimiento de voz\n",
    "- Asistentes por voz.\n",
    "- Traductores automáticos en tiempo real.\n",
    "\n",
    "### Traducción de idioma. \n",
    "- Traducción de idioma no supervisada.\n",
    "\n",
    "### Videojuegos.\n",
    "- Aprendizaje por refuerzo para solucionar juegos. \n",
    "- Aprendizaje para mejorar experiencia del jugador. \n",
    "\n",
    "### Ranking:\n",
    "- Sistemas de recomendación.\n",
    "...\n",
    "\n",
    "## Tipos de Aprendizaje\n",
    "\n",
    "Hay tres grandes categorías en las que se puede enmarcar el Machine Learning. Es importante poder identificar el tipo de algoritmo de Machine Learning que se va a utilizar dependiendo del caso de estudio ya que esto permite planear el ambiente más apropiado y entender qué hacer para que funcione. \n",
    "\n",
    "## Aprendizaje Supervisado. \n",
    "\n",
    "El aprendizaje supervisado es el más común y popular de los paradigmas de Machine Learning. El aprendizaje supervisado logra, a partir de datos conocidos y respuestas conocidas a estos datos, aproximar una respuesta, de manera que ante la presencia de datos nuevos estima una nueva respuesta. (ie. Aprender $y=f(x)$ a partir de ${x_i,y_i}^{n}_{i=1}$)\n",
    "\n",
    "Aplicaciones:\n",
    "- Clasificación de Spam.\n",
    "- Reconocimiento facial. \n",
    "\n",
    "## Aprendizaje No Supervisado.\n",
    "\n",
    "El aprendizaje no supervisado es opuesto al aprendizaje supervisado en varios sentidos. El objetivo del aprendizaje no supervisado es que, a partir de grandes cantidades de información no etiquetada, sea posible entender las propiedades de la información. A partir de aquí, es posible aprender a agrupar y organizar la información de manera que un humano (u otro algoritmo inteligente) pueda encontrar un sentido a partir de la información organizada. El aprendizaje no supervisado es interesante debido a que mucha información en el mundo real no está etiquetada. (ie. Aprender similaridades en ${x_i}^{n}_{i=1}$)\n",
    "\n",
    "Aplicaciones:\n",
    "\n",
    "- Sistemas generadores de recomendaciones. \n",
    "\n",
    "- Estimar hábitos de compra. \n",
    "\n",
    "Aprendizaje por Refuerzo. \n",
    "\n",
    "El aprendizaje por refuerzo es diferente a los aprendizajes supervisado y no supervisado. El objetivo del aprendizaje por refuerzo es determinar las políticas (o acciones) que debe tener un agente en orden de maximizar una función de recompensa. En Machine Learning, es muy común que el ambiente del agente sea modelado como un proceso de decisión de Markov. En general, se busca encontrar un equilibrio entre la exploración y la explotación. \n",
    "\n",
    "## Aplicaciones:\n",
    "\n",
    "- Simulaciones industriales.\n",
    "- Manejo de recursos en ambientes complejos. \n",
    "- Videojuegos.\n",
    "\n",
    "\n",
    "## Aspectos importantes de Machine Learning.\n",
    "\n",
    "- Validación y selección de Modelo. \n",
    "- Aprendizaje Estadístico. \n",
    "- Machine Learning Computacional.\n",
    "- Optimización.\n",
    "\n"
   ]
  },
  {
   "cell_type": "markdown",
   "metadata": {},
   "source": [
    "\n",
    "\n",
    "# Aprendizaje Supervisado: Regresión Lineal\n",
    "\n",
    "A partir de un conjunto de variables de entrada, se busca predecir una característica objetivo de salida. Se denota una pareja $(x^{(i)},y^{(i)})$, la muestra de entrenamiento y el conjunto desde $i=1,...,n$ es denotado, conjunto de entrenamiento. El objetivo es a partir de nuestro conjunto deentrada $\\mathcal{X}$ obtener una hipótesis $h:\\mathcal{X} \\rightarrow \\mathcal{Y}$. Cuando $y$ únicamente puede tomar un pequeño número de valores discretos, se dice que este es un problema de clasificación. \n",
    "\n",
    "\n",
    "# Regresión Lineal\n",
    "\n",
    "Para realizar aprendizaje supervisado, se necesita decidir cómo representar funciones hipótesis $h$. Inicialmente, es posible decidir representarlas como funciones lineales de x:\n",
    "\n",
    "Denotaremos\n",
    "\n",
    "\\begin{equation}\n",
    "h_{\\theta}(x)=\\theta_0 + \\theta_1 x_1 +\\theta_2 x_2\n",
    "\\end{equation}\n",
    "\n",
    "Aquí, las $\\theta_i$ son los parámetros, también llamados pesos (weights). También es posible escribir lo anterior de la siguiente manera. \n",
    "\n",
    "\\begin{equation}\n",
    "h_{\\theta}(x)=\\sum_{i=0}^{d}\\theta_i x_i=\\theta^T x\n",
    "\\end{equation}\n",
    "\n",
    "Ahora, es importante en un conjunto de entrenamiento, escoger una función de costo que permita hacer que $h(x)$ sea tan cercana a $y$ como sea posible para obtener unos parámetros $\\theta$ apropiados. Definimos una función de costo:\n",
    "\n",
    "\\begin{equation}\n",
    "J(\\theta)=\\frac{1}{2}\\sum_{i=1}^{n}(h_{\\theta}(x^{(i)}-y^{(i)})^2\n",
    "\\end{equation}\n",
    "\n",
    "Y podemos recordar esta ecuación como la solución al modelo de mínimos cuadrados. \n",
    "\n"
   ]
  },
  {
   "cell_type": "code",
   "execution_count": 52,
   "metadata": {},
   "outputs": [],
   "source": [
    "import numpy as np\n",
    "import matplotlib.pyplot as plt\n",
    "\n",
    "def linReg(X, y, theta=0, alpha=0.01, num_iters=100000):\n",
    "    m = y.size  \n",
    "    for i in range(num_iters):\n",
    "        y_hat = np.dot(X, theta)\n",
    "        theta = theta - alpha * (1.0/m) * np.dot(X.T, y_hat-y)\n",
    "    return theta"
   ]
  },
  {
   "cell_type": "code",
   "execution_count": 53,
   "metadata": {},
   "outputs": [],
   "source": [
    "x=np.linspace(-1,5,10)\n",
    "y=7*x\n",
    "t=linReg(x,y)"
   ]
  },
  {
   "cell_type": "code",
   "execution_count": 55,
   "metadata": {},
   "outputs": [
    {
     "data": {
      "text/plain": [
       "<matplotlib.collections.PathCollection at 0x1ebddaf2e48>"
      ]
     },
     "execution_count": 55,
     "metadata": {},
     "output_type": "execute_result"
    },
    {
     "data": {
      "image/png": "[encoded data removed]",
      "text/plain": [
       "<Figure size 432x288 with 1 Axes>"
      ]
     },
     "metadata": {
      "needs_background": "light"
     },
     "output_type": "display_data"
    }
   ],
   "source": [
    "plt.plot(x,t*x)\n",
    "plt.scatter(x,y)"
   ]
  },
  {
   "cell_type": "markdown",
   "metadata": {},
   "source": [
    "# Mínimos cuadrados\n",
    "Es claro que a partir de la función de costo $J(\\theta)$ que se definió previamente, el parámetro óptimo que se puede obtener utilizando mínimos cuadrados es $\\hat{\\theta}=X^T X\\theta - X^T \\vec{y}$.\n",
    "\n",
    "## Interpretación probabilística \n",
    "\n",
    "Cuando se tiene un problema de regresión es común pensar en por qué la escogencia de la función de costo $J$ es apropiada. Asumamos que el target y las entradas están relacionadas a través de \n",
    "\n",
    "\\begin{equation}\n",
    "y=\\theta^T x+ \\epsilon\n",
    "\\end{equation}\n",
    "\n",
    "donde $\\epsilon$ es un término de error que contiene toda la información que no se ha modelado. Se puede asumir que este término es IID y se modela gaussiano estándar. Por lo tanto, se puede decir que \n",
    "\n",
    "\\begin{equation}\n",
    "p(y|x;\\theta)=\\frac{1}{\\sqrt{2\\pi \\sigma^2}} \\exp{\\frac{-(y-\\theta^T x)^2}{2\\sigma^2}}\n",
    "\\end{equation}\n",
    "\n",
    "A partir de esta probabilidad se desea observar esta función explicitamente como una función de $\\theta$, a esta función se la llamará función de likelihood. \n",
    "\n",
    "\\begin{equation}\n",
    "L(\\theta)=L(\\theta;X,y)=p(y|X;\\theta)\n",
    "\\end{equation}\n",
    "\n",
    "Donde \n",
    "\\begin{equation}\n",
    "L(\\theta)=\\prod{\\frac{1}{\\sqrt{2\\pi \\sigma^2}} \\exp{\\frac{-(y-\\theta^T x)^2}{2\\sigma^2}}}\n",
    "\\end{equation}\n",
    "\n",
    "Ahora, dado este modelo probabilístico que relaciona $y$ con $x$, se desea cuál es la manera razonable de escoger el parámetro $\\theta$. Como se ha visto previamente, en lugar de maximizar esta función, es posible maximizar la función log-llikelihood $l(\\theta)$\n",
    "\n",
    "Donde \n",
    "\\begin{equation}\n",
    "l(\\theta)=\\log{\\prod{\\frac{1}{\\sqrt{2\\pi \\sigma^2}} \\exp{\\frac{-(y-\\theta^T x)^2}{2\\sigma^2}}}}\n",
    "\\end{equation}\n",
    "\n",
    "De manera que el máximo es \n",
    "\n",
    "Donde \n",
    "\\begin{equation}\n",
    "\\frac{1}{2}\\sum_{i=1}^{n}{(y^{(i)}-\\theta^T x^{(i)})^2}\n",
    "\\end{equation}\n",
    "\n",
    "Por lo que la escogenca de nuestra función de costo es justificada. \n",
    "\n",
    "\n",
    "\n"
   ]
  },
  {
   "cell_type": "code",
   "execution_count": null,
   "metadata": {},
   "outputs": [],
   "source": []
  }
 ],
 "metadata": {
  "kernelspec": {
   "display_name": "Python 3",
   "language": "python",
   "name": "python3"
  },
  "language_info": {
   "codemirror_mode": {
    "name": "ipython",
    "version": 3
   },
   "file_extension": ".py",
   "mimetype": "text/x-python",
   "name": "python",
   "nbconvert_exporter": "python",
   "pygments_lexer": "ipython3",
   "version": "3.7.4"
  }
 },
 "nbformat": 4,
 "nbformat_minor": 2
}
