{
 "cells": [
  {
   "cell_type": "markdown",
   "metadata": {},
   "source": [
    "# Clasificación:\n",
    "\n",
    "x=Features, variables de predicción, variables independientes.\n",
    "\n",
    "y=Targets, variables objetivo, variables dependientes, variables de respuesta.\n",
    "\n"
   ]
  },
  {
   "cell_type": "markdown",
   "metadata": {},
   "source": [
    "# Modelos lineales para clasificación:\n",
    "\n",
    "El objetivo en clasificación es tomar un vector de entrada $x$ y asignarlo a una de las clases discretas $C_k$, donde $k=1,..., K$. En el esceneario más común las clases se asumen como disjuntas. El espacio de entrada entonces, es dividido en fronteras de decisión o superficies de decisión. En los modelos lineales de clasificación, se considera que las superficies de decisión (o fronteras) son hiperplanos lineales dentro del espacio D-dimensional de entrada. También se asume que los datos pueden ser separados exactamente por una supercicie linealmente separable. \n",
    "\n",
    "\n",
    "Para problemas de regresión, la variable objetivo $t$ es simplemente un vector de números reales que se desea predecir. En el caso de clasificación, es posible ver los variables objetivo como formas de representar una clase. En el caso de clasificación binaria es posible ver la variable objetivo como $t\\in {0,1}$ tal que $t=1$ para representar a $C_1$ y $t=0$ para representar a $C_2$. Para K>2, es conveniente utilizar un esquema de código que permita identificar las clases, por ejemplo, en el caso de $K=5$, la clase 2 se puede representar como $t=(0,1,0,0,0)^T$. \n",
    "\n",
    "A diferencia del caso de regresión. En esta ocasión se desea obtener un modelo en el cual transformemos la función lineal de $w$ usando una función no lineal $f(\\cdot)$ tal que \n",
    "\n",
    "\\begin{equation}\n",
    "y(x)=f(w^T x+w_0)\n",
    "\\end{equation}\n",
    "\n",
    "Esta función $f$ se conoce como la función de activación. Debido a la linealidad de esta función, este tipo de funciones, se conocen en general como funciones de clasificación lineales o modelos lineales de clasificación. \n",
    "\n",
    "El análisis y las características que se describirán a continuación también son aplicables para casos en los que se realicen transformaciones no-lineales a las variables de entrada a través de un vector base de funciones $\\phi(x)$. \n",
    "\n",
    "\n",
    "## Funciones discriminantes:\n",
    "\n",
    "Una función discriminante toma un vector de entrada y lo asigna a una de las K clases, denotada como $C_k$. \n",
    "\n",
    "\n"
   ]
  },
  {
   "cell_type": "code",
   "execution_count": null,
   "metadata": {},
   "outputs": [],
   "source": []
  },
  {
   "cell_type": "markdown",
   "metadata": {},
   "source": [
    "# k-nearest neighbors:\n",
    "\n",
    "La idea básica de k-nearest neighbors es encontrar la etiqueta de un punto nuevo a partir de un conjunto de datos ya etiquetados. Para ello se mirarn los \"k\" vecinos más cercanos y se decide por mayoría. \n"
   ]
  },
  {
   "cell_type": "markdown",
   "metadata": {},
   "source": [
    "A partir de un conjunto de datos, obtengamos un clasificador y saquemos un score de la clasificación"
   ]
  },
  {
   "cell_type": "code",
   "execution_count": null,
   "metadata": {},
   "outputs": [],
   "source": []
  },
  {
   "cell_type": "markdown",
   "metadata": {},
   "source": []
  },
  {
   "cell_type": "code",
   "execution_count": null,
   "metadata": {},
   "outputs": [],
   "source": []
  },
  {
   "cell_type": "markdown",
   "metadata": {},
   "source": [
    "# Regresión logística\n",
    "\n",
    "Es opsible expresar la probabilidad a posteriori de la clase $C_1$ como una sigmoide logística actuando sobre una función lineal en un vector de características $\\phi$. \n",
    "\n",
    "\\begin{equation}\n",
    "p(C_1|\\phi)=y(\\phi)=\\sigma(w^T \\phi)\n",
    "\\end{equation}\n",
    "\n",
    "con $p(C_2|\\phi)=1-p(C_1|\\phi)$. Aquí, $\\sigma$ es la función logística de activación, definida como:\n",
    "\n",
    "\\begin{equation}\n",
    "\\sigma=\\frac{1}{1+\\exp{-a}}\n",
    "\\end{equation}\n",
    "\n",
    "Utilizando maximum likelihood para determinar los parámetros del modelo de regresión logística, es posible sacar la derivada de la función de activación logística sigmoidal que puede ser expresada como \n",
    "\n",
    "\\begin{equation}\n",
    "\\frac{d\\sigma}{da}=\\sigma (1-\\sigma)\n",
    "\\end{equation}\n",
    "\n",
    "A partir de esta formulación podemos obtener que \n",
    "\n",
    "\\begin{equation}\n",
    "E(w)=-ln(p(t|w))=-\\sum_{n=1}^{N}{t_n ln(y_n)+(1-t_n)ln(1-y_n)}\n",
    "\\end{equation}\n",
    "\n",
    "donde $y_n=\\sigma(a_n)$ y $a_n=w^T\\phi_n$, por lo que \n",
    "\n",
    "\\begin{equation}\n",
    "\\nabla E(w)=\\sum_{n=1}^{N}{(y_n-t_n)\\phi_n}\n",
    "\\end{equation}\n",
    "\n",
    "Con lo que tenemos suficiente para construir un algoritmo secuencial para lograr clasificación logística. \n"
   ]
  },
  {
   "cell_type": "code",
   "execution_count": null,
   "metadata": {},
   "outputs": [],
   "source": []
  },
  {
   "cell_type": "code",
   "execution_count": null,
   "metadata": {},
   "outputs": [],
   "source": []
  },
  {
   "cell_type": "code",
   "execution_count": null,
   "metadata": {},
   "outputs": [],
   "source": []
  },
  {
   "cell_type": "markdown",
   "metadata": {},
   "source": [
    "# Referencias:\n",
    "\n",
    "- https://scikit-learn.org/stable/auto_examples/classification/plot_classifier_comparison.html\n",
    "- https://scikit-learn.org/stable/auto_examples/exercises/plot_iris_exercise.html#sphx-glr-auto-examples-exercises-plot-iris-exercise-py\n",
    "- https://scikit-learn.org/stable/supervised_learning.html"
   ]
  },
  {
   "cell_type": "code",
   "execution_count": null,
   "metadata": {},
   "outputs": [],
   "source": []
  }
 ],
 "metadata": {
  "kernelspec": {
   "display_name": "Python 3",
   "language": "python",
   "name": "python3"
  },
  "language_info": {
   "codemirror_mode": {
    "name": "ipython",
    "version": 3
   },
   "file_extension": ".py",
   "mimetype": "text/x-python",
   "name": "python",
   "nbconvert_exporter": "python",
   "pygments_lexer": "ipython3",
   "version": "3.7.4"
  }
 },
 "nbformat": 4,
 "nbformat_minor": 2
}
