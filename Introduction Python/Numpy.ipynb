{
 "cells": [
  {
   "cell_type": "markdown",
   "metadata": {},
   "source": [
    "# Numpy"
   ]
  },
  {
   "cell_type": "markdown",
   "metadata": {},
   "source": [
    "Numpy is a library very functional because allows creating arrays. Contrary to the lists, the arrays are a type of object that optimizes operations between huge quantities of data, specifically, numeric data. In linear algebra, you use operations between matrices, vectors, and blocks of numbers that represents data of features. To aspire to be data scientist you need to get a strong knowledge in some area of mathematics, overall, linear algebra. This library is helpful to apply this knowledge of an easier way."
   ]
  },
  {
   "cell_type": "markdown",
   "metadata": {},
   "source": [
    "As data scientist you have to carry out over entire collection of value and you want to do this fast"
   ]
  }
 ],
 "metadata": {
  "kernelspec": {
   "display_name": "Python 3",
   "language": "python",
   "name": "python3"
  },
  "language_info": {
   "codemirror_mode": {
    "name": "ipython",
    "version": 3
   },
   "file_extension": ".py",
   "mimetype": "text/x-python",
   "name": "python",
   "nbconvert_exporter": "python",
   "pygments_lexer": "ipython3",
   "version": "3.6.8"
  }
 },
 "nbformat": 4,
 "nbformat_minor": 2
}
