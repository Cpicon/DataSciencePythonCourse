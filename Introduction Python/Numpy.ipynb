{
 "cells": [
  {
   "cell_type": "markdown",
   "metadata": {},
   "source": [
    "# Numpy"
   ]
  },
  {
   "cell_type": "markdown",
   "metadata": {},
   "source": [
    "Numpy is a library very functional because allows creating arrays. Contrary to the lists, the arrays are a type of object that optimizes operations between huge quantities of data, specifically, numeric data. In linear algebra, you use operations between matrices, vectors, and blocks of numbers that represents data of features. To aspire to be data scientist you need to get a strong knowledge in some area of mathematics, overall, linear algebra. This library is helpful to apply this knowledge of an easier way."
   ]
  },
  {
   "cell_type": "markdown",
   "metadata": {},
   "source": [
    "As data scientist you have to carry out over entire collection of value and you want to do this fast. Let's see how it works\n",
    "\n",
    "First, and the most important we need install the library in the our system. Therefore, you must entry at your console, terminal or your bash the respective command (`pip install numpy`). If you need more information about the library, you may find it [here](http://www.numpy.org/)\n",
    "\n",
    "    Note: Numpy is a library contained on SciPy package. Thus, don't worry if have to install SciPy in order to use Numpy."
   ]
  },
  {
   "cell_type": "code",
   "execution_count": 16,
   "metadata": {},
   "outputs": [
    {
     "name": "stdout",
     "output_type": "stream",
     "text": [
      "<class 'numpy.ndarray'>\n",
      "(3,)\n",
      "1 2 3\n",
      "[5 2 3]\n",
      "(2, 3)\n",
      "[[1 2 3]\n",
      " [4 5 6]]\n",
      "[[1.5 2.  3. ]\n",
      " [4.  5.  6. ]]\n",
      "1 2 4\n"
     ]
    }
   ],
   "source": [
    "import numpy\n",
    "\n",
    "#declare a list with numeric values\n",
    "list_test = [1, 2, 3]\n",
    "#convert a list in a vector\n",
    "array1 = numpy.array(list_test)  \n",
    "# note that this is object type numpy\n",
    "print(type(array1))            \n",
    "#this say you what is the size of your array. In 2D arrays, the first number represents the rows and second the columns\n",
    "print(array1.shape)          \n",
    "#you can acces to specific element inside of your array passing the correspond index\n",
    "first_element = array1[0]\n",
    "print(first_element, array1[1], array1[2])  \n",
    "# Also, you can change the elment in this index by assing new value\n",
    "array1[0] = 5                  # Change an element of the array\n",
    "print(array1)               \n",
    "\n",
    "#also you can create an array with two rows, each square brackets represent one row\n",
    "array2 = numpy.array([[1,2,3],[4,5,6]])\n",
    "print(array2.shape)   \n",
    "\n",
    "# you can acces a specific element by passing the coordenates. You could think in it as if it were a chessboard\n",
    "print(array2[0, 0], array2[0, 1], array2[1, 0])   "
   ]
  },
  {
   "cell_type": "markdown",
   "metadata": {},
   "source": [
    "Numpy, like the anothers objets that we already saw, has atributes/methods. One of them is `shape()`. How we saw, `shape()` give youthe size of the array in each dimension. For a matrix with n rows and m columns, shape will be (n,m). The length of the shape tuple is therefore the number of axes. Moreover, there are other method used in data science. Let's see it."
   ]
  },
  {
   "cell_type": "markdown",
   "metadata": {},
   "source": [
    "* ndarray.size: the total number of elements of the array. This is equal to the product of the elements of shape."
   ]
  },
  {
   "cell_type": "code",
   "execution_count": 13,
   "metadata": {},
   "outputs": [
    {
     "name": "stdout",
     "output_type": "stream",
     "text": [
      "The number of elements contained in the array1 is: 3\n"
     ]
    }
   ],
   "source": [
    "print(\"The number of elements contained in the array1 is:\", array1.size)"
   ]
  },
  {
   "cell_type": "markdown",
   "metadata": {},
   "source": [
    "To create sequences of numbers, NumPy provides a function analogous to range that returns arrays instead of lists. This is `arange` where the first parameter is the start point, the second is the final point, and the last parameter is the number of numbers that will compound the array. Furthermore, you could need create one array with different dimensions based in the above array. This function is `reshape()` where expected like parameters the size of the future matrix."
   ]
  },
  {
   "cell_type": "code",
   "execution_count": 20,
   "metadata": {},
   "outputs": [
    {
     "name": "stdout",
     "output_type": "stream",
     "text": [
      "The elements in the array are [10 16 22 28 34 40] . This size (6,)\n",
      "The elements in the array are [[10 16 22]\n",
      " [28 34 40]] . This new size is (2, 3)\n"
     ]
    }
   ],
   "source": [
    "array1 = numpy.arange( 10, 41, 6 )\n",
    "print(\"The elements in the array are\", array1, \". This size\", array1.shape )\n",
    "array1 = array1.reshape(2,3)\n",
    "print(\"The elements in the array are\", array1, \". This new size is\", array1.shape )"
   ]
  },
  {
   "cell_type": "markdown",
   "metadata": {},
   "source": [
    "When arange is used with floating point arguments, it is generally not possible to predict the number of elements obtained, due to the finite floating point precision. For this reason, it is usually better to use the function linspace that receives as an argument the number of elements that we want, instead of the step:"
   ]
  },
  {
   "cell_type": "code",
   "execution_count": 21,
   "metadata": {},
   "outputs": [
    {
     "name": "stdout",
     "output_type": "stream",
     "text": [
      "[0.   0.25 0.5  0.75 1.   1.25 1.5  1.75 2.  ]\n",
      "[0.         0.06346652 0.12693304 0.19039955 0.25386607 0.31733259\n",
      " 0.38079911 0.44426563 0.50773215 0.57119866 0.63466518 0.6981317\n",
      " 0.76159822 0.82506474 0.88853126 0.95199777 1.01546429 1.07893081\n",
      " 1.14239733 1.20586385 1.26933037 1.33279688 1.3962634  1.45972992\n",
      " 1.52319644 1.58666296 1.65012947 1.71359599 1.77706251 1.84052903\n",
      " 1.90399555 1.96746207 2.03092858 2.0943951  2.15786162 2.22132814\n",
      " 2.28479466 2.34826118 2.41172769 2.47519421 2.53866073 2.60212725\n",
      " 2.66559377 2.72906028 2.7925268  2.85599332 2.91945984 2.98292636\n",
      " 3.04639288 3.10985939 3.17332591 3.23679243 3.30025895 3.36372547\n",
      " 3.42719199 3.4906585  3.55412502 3.61759154 3.68105806 3.74452458\n",
      " 3.8079911  3.87145761 3.93492413 3.99839065 4.06185717 4.12532369\n",
      " 4.1887902  4.25225672 4.31572324 4.37918976 4.44265628 4.5061228\n",
      " 4.56958931 4.63305583 4.69652235 4.75998887 4.82345539 4.88692191\n",
      " 4.95038842 5.01385494 5.07732146 5.14078798 5.2042545  5.26772102\n",
      " 5.33118753 5.39465405 5.45812057 5.52158709 5.58505361 5.64852012\n",
      " 5.71198664 5.77545316 5.83891968 5.9023862  5.96585272 6.02931923\n",
      " 6.09278575 6.15625227 6.21971879 6.28318531]\n",
      "[ 0.00000000e+00  6.34239197e-02  1.26592454e-01  1.89251244e-01\n",
      "  2.51147987e-01  3.12033446e-01  3.71662456e-01  4.29794912e-01\n",
      "  4.86196736e-01  5.40640817e-01  5.92907929e-01  6.42787610e-01\n",
      "  6.90079011e-01  7.34591709e-01  7.76146464e-01  8.14575952e-01\n",
      "  8.49725430e-01  8.81453363e-01  9.09631995e-01  9.34147860e-01\n",
      "  9.54902241e-01  9.71811568e-01  9.84807753e-01  9.93838464e-01\n",
      "  9.98867339e-01  9.99874128e-01  9.96854776e-01  9.89821442e-01\n",
      "  9.78802446e-01  9.63842159e-01  9.45000819e-01  9.22354294e-01\n",
      "  8.95993774e-01  8.66025404e-01  8.32569855e-01  7.95761841e-01\n",
      "  7.55749574e-01  7.12694171e-01  6.66769001e-01  6.18158986e-01\n",
      "  5.67059864e-01  5.13677392e-01  4.58226522e-01  4.00930535e-01\n",
      "  3.42020143e-01  2.81732557e-01  2.20310533e-01  1.58001396e-01\n",
      "  9.50560433e-02  3.17279335e-02 -3.17279335e-02 -9.50560433e-02\n",
      " -1.58001396e-01 -2.20310533e-01 -2.81732557e-01 -3.42020143e-01\n",
      " -4.00930535e-01 -4.58226522e-01 -5.13677392e-01 -5.67059864e-01\n",
      " -6.18158986e-01 -6.66769001e-01 -7.12694171e-01 -7.55749574e-01\n",
      " -7.95761841e-01 -8.32569855e-01 -8.66025404e-01 -8.95993774e-01\n",
      " -9.22354294e-01 -9.45000819e-01 -9.63842159e-01 -9.78802446e-01\n",
      " -9.89821442e-01 -9.96854776e-01 -9.99874128e-01 -9.98867339e-01\n",
      " -9.93838464e-01 -9.84807753e-01 -9.71811568e-01 -9.54902241e-01\n",
      " -9.34147860e-01 -9.09631995e-01 -8.81453363e-01 -8.49725430e-01\n",
      " -8.14575952e-01 -7.76146464e-01 -7.34591709e-01 -6.90079011e-01\n",
      " -6.42787610e-01 -5.92907929e-01 -5.40640817e-01 -4.86196736e-01\n",
      " -4.29794912e-01 -3.71662456e-01 -3.12033446e-01 -2.51147987e-01\n",
      " -1.89251244e-01 -1.26592454e-01 -6.34239197e-02 -2.44929360e-16]\n"
     ]
    }
   ],
   "source": [
    "print(numpy.linspace( 0, 2, 9 ))               # 9 numbers from 0 to 2\n",
    "x = numpy.linspace( 0, 2*numpy.pi, 100 )        # useful to evaluate function at lots of points\n",
    "f = numpy.sin(x) #make an array with the seno of each value\n",
    "print(x)\n",
    "print(f)"
   ]
  },
  {
   "cell_type": "markdown",
   "metadata": {},
   "source": [
    "In data science is crucial have in mind the operations between matrix. Specially, the difference among element-wise and matricial multiplication. Unlike in many matrix languages, the product operator * operates elementwise in NumPy arrays. The matrix product can be performed using the `dot` function or method:"
   ]
  },
  {
   "cell_type": "code",
   "execution_count": 23,
   "metadata": {},
   "outputs": [
    {
     "name": "stdout",
     "output_type": "stream",
     "text": [
      "The multiplicacion between each element by ohter element in different matrices is obtained by A * B [[2 0]\n",
      " [0 4]]\n",
      "On the other hand, multiply two matrix is obtaine by A.dot(B) [[5 4]\n",
      " [3 4]]\n"
     ]
    }
   ],
   "source": [
    "A = numpy.array( [[1,1],[0,1]] )\n",
    "B = numpy.array( [[2,0],[3,4]] )\n",
    "print(\"The multiplicacion between each element by ohter element in different matrices is obtained by A * B\",A * B)# elementwise product\n",
    "print(\"On the other hand, multiply two matrix is obtaine by A.dot(B)\", A.dot(B))                    # another matrix product\n",
    "#Note. Be care, with the matrix product. Remember that multiply a matrix MxN by other matrix NxZ, \n",
    "#you will obtained a matriz result with MxZ size."
   ]
  },
  {
   "cell_type": "code",
   "execution_count": 26,
   "metadata": {},
   "outputs": [
    {
     "name": "stdout",
     "output_type": "stream",
     "text": [
      "The rest of matrix A-B is [[-1  1]\n",
      " [-3 -3]]\n",
      "This elevate each element to 2 [[ 4  0]\n",
      " [ 9 16]]\n"
     ]
    }
   ],
   "source": [
    "print(\"The rest of matrix A-B is\", A-B)\n",
    "#This elevate each element to 2 to elevate each element inside the matrix,\n",
    "#you should use double ** and add the potentiation number \n",
    "print(\"This elevate each element to 2\", B**2)"
   ]
  },
  {
   "cell_type": "markdown",
   "metadata": {},
   "source": [
    "Summarize, Numpy is a tool very useful to manage and operate numeric matrix data"
   ]
  }
 ],
 "metadata": {
  "kernelspec": {
   "display_name": "Python 3",
   "language": "python",
   "name": "python3"
  },
  "language_info": {
   "codemirror_mode": {
    "name": "ipython",
    "version": 3
   },
   "file_extension": ".py",
   "mimetype": "text/x-python",
   "name": "python",
   "nbconvert_exporter": "python",
   "pygments_lexer": "ipython3",
   "version": "3.6.8"
  }
 },
 "nbformat": 4,
 "nbformat_minor": 2
}
