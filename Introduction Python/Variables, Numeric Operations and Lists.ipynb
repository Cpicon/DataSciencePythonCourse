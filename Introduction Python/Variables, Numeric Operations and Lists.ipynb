{
 "cells": [
  {
   "cell_type": "markdown",
   "metadata": {},
   "source": [
    "# Python Basics"
   ]
  },
  {
   "cell_type": "markdown",
   "metadata": {},
   "source": [
    "Hi, this the first module of the python course. By the end of this course, you will know about ways to store and manipulate data and to deploy data science tools for your own proposes. Nowadays, you can use python to build any piece of software such as Python is open source. Secondly, it is very easy to build packages which is code that you can share with other people to solve specific problems. Currently, there are two version of Python, version 2.X and 3.X, where the X represents de upgrading of each version. In the moment that this tutorial was written, the version correspond 2.714 and 3.7.2 however i encourage download two version before the last one. In this course, we will work in the version 3.X. !Be sure to install the aforementioned version!. In this link, you can acces the download package [here](https://www.python.org/). \n",
    "\n",
    "Now, we are going to start with a simple arimetic operations. Look how you can operate with number and numeric variables. "
   ]
  },
  {
   "cell_type": "code",
   "execution_count": 1,
   "metadata": {},
   "outputs": [
    {
     "name": "stdout",
     "output_type": "stream",
     "text": [
      "The result of sum 1 + 2 is : 3\n",
      "The result of rest 2 - 1 is : 1\n",
      "The result of divide 1 to 2 is : 0.5\n",
      "The result of multiply 1 * 2 is : 2\n"
     ]
    }
   ],
   "source": [
    "#First, wew declarate two numeric variables\n",
    "a = 1\n",
    "b = 2\n",
    "# operate with them\n",
    "suma = a + b\n",
    "resta = b - a\n",
    "division = a / b\n",
    "multplicacion = a * b\n",
    "# use the function print in order to visualaze the result\n",
    "print(\"The result of sum 1 + 2 is :\",suma)\n",
    "print(\"The result of rest 2 - 1 is :\",resta)\n",
    "print(\"The result of divide 1 to 2 is :\",division)\n",
    "print(\"The result of multiply 1 * 2 is :\",multplicacion)"
   ]
  },
  {
   "cell_type": "markdown",
   "metadata": {},
   "source": [
    "With Python you can do others basic operations:\n",
    "\n",
    "* Exponentiation:\n",
    "    `**` This operator raises the number to its left to the power of the number to its right.\n",
    "* Modulo:\n",
    "    `%` This operator returns the remainder of the division of the number to the left by the number on its right. \n",
    "\n",
    "Check some examples that how you can use it"
   ]
  },
  {
   "cell_type": "code",
   "execution_count": 2,
   "metadata": {},
   "outputs": [
    {
     "name": "stdout",
     "output_type": "stream",
     "text": [
      "0\n",
      "1\n",
      "9\n",
      "27\n",
      "19.48717100000001\n"
     ]
    }
   ],
   "source": [
    "# Modulo, and exponentiation\n",
    "print(12 % 6) #Exact division \n",
    "print(13 % 6) #Inexact division\n",
    "print(3 ** 2) #3 * 3 = 9\n",
    "print(3 ** 3) #3 * 3 * 3 = 27\n",
    "\n",
    "#if you invest $ 10 to 10% E.A return. How much will you have in 7 years? Remember that is knwon as compound interest.\n",
    "print(10*((1 + 0.1)**7))"
   ]
  },
  {
   "cell_type": "markdown",
   "metadata": {},
   "source": [
    "### Variables and types"
   ]
  },
  {
   "cell_type": "markdown",
   "metadata": {},
   "source": [
    "In Python like many other languages, the variables are case sensitive. It means, that compiler of Pyhton diferences between variable `A` and `a`. Use variables is very usefull, overall if you want reuse them in other part of code. This property is called **reprocibility.**"
   ]
  },
  {
   "cell_type": "markdown",
   "metadata": {},
   "source": [
    "For example, if i want caculate the area and volume of one cube. I should save the measure of each side in variables. Of this form, i may code with less lines that using each one at once."
   ]
  },
  {
   "cell_type": "code",
   "execution_count": 3,
   "metadata": {},
   "outputs": [
    {
     "name": "stdout",
     "output_type": "stream",
     "text": [
      " The area of cube is : 8\n",
      " The volume of cube is : 25.6\n"
     ]
    }
   ],
   "source": [
    "Heigth = 2 # 2 meters\n",
    "Width = 4 # 4 meters\n",
    "depth = 3.2 # 3 meters\n",
    "cube = True\n",
    "area = Heigth * Width\n",
    "message = \" The area of cube is :\"\n",
    "print(message,area)\n",
    "\n",
    "Volume = Heigth * Width * depth\n",
    "print(\" The volume of cube is :\", Volume)\n",
    "\n",
    "#check if you want get new values of area and volume from other parameter, you should just change the value of the variable.\n",
    "#Try change the Heigth variable value to 3 meters and run again this cell."
   ]
  },
  {
   "cell_type": "markdown",
   "metadata": {},
   "source": [
    "The types of variables say you which type of data/values you are working. In python, there is a different types of variables. We will see in which consist each one of most basics variables used in data science. To know what is the type the one specific variable, you must put the variable inside `type()` function. See the examples below:"
   ]
  },
  {
   "cell_type": "code",
   "execution_count": 4,
   "metadata": {},
   "outputs": [
    {
     "name": "stdout",
     "output_type": "stream",
     "text": [
      "<class 'float'>\n",
      "<class 'int'>\n",
      "<class 'str'>\n",
      "<class 'bool'>\n"
     ]
    }
   ],
   "source": [
    "#the float type means that Python represents a real number. A real number have both integer and fractional part\n",
    "print(type(Volume))\n",
    "#the integer type  represents just integer number\n",
    "print(type(area))\n",
    "#the string type  represents a characters chain\n",
    "print(type(message))\n",
    "#the boolean type are a kind of variables very usefull. They represents \"Yes\" or \"Not\" in human lenguage. It only have two \n",
    "#posible values. True or False.\n",
    "print(type(cube))"
   ]
  },
  {
   "cell_type": "markdown",
   "metadata": {},
   "source": [
    "### Lists variables"
   ]
  },
  {
   "cell_type": "markdown",
   "metadata": {},
   "source": [
    "List variables are a interesting type of variable. They can contain many diferent type of variables inside. As a data scientits, you will often want to work with many data points. See the next examples, thus, you could clarify the concept."
   ]
  },
  {
   "cell_type": "code",
   "execution_count": 5,
   "metadata": {},
   "outputs": [
    {
     "name": "stdout",
     "output_type": "stream",
     "text": [
      "[True, ' The area of cube is :', 8, 25.6]\n",
      "[1, 3, 4, 2]\n",
      "[[1, 2, 3], [4, 5, 7]]\n",
      "[3, 'aaaaa', 3]\n"
     ]
    }
   ],
   "source": [
    "Data_Cube = [cube, message, area, Volume]\n",
    "print(Data_Cube)\n",
    "A = [1, 3, 4, 2] \n",
    "B = [[1, 2, 3], [4, 5, 7]] \n",
    "C = [1 + 2, \"a\" * 5, 3]\n",
    "print(A)\n",
    "print(B)\n",
    "print(C)"
   ]
  },
  {
   "cell_type": "markdown",
   "metadata": {},
   "source": [
    "Now, it is very important to know how access to each element inside of the list respective. Keep in mind, Python indexes from cero (0) to number of elements minus one (n-1). It means, that the list will have the shape **[0,....,n -1]**. If you want acces to more than one element, use **[first position(inclusive):last position(exclusive)]**."
   ]
  },
  {
   "cell_type": "code",
   "execution_count": 6,
   "metadata": {},
   "outputs": [
    {
     "name": "stdout",
     "output_type": "stream",
     "text": [
      "True\n",
      "[True, ' The area of cube is :']\n",
      "The last element of the list is  25.6\n",
      "The element before to last element is 8\n"
     ]
    }
   ],
   "source": [
    "print(Data_Cube[0])\n",
    "print(Data_Cube[0:2])\n",
    "#Sometimes, is necesary get the last element of the list. If you don't know how long is the list, you should use -1 index.\n",
    "print(\"The last element of the list is \", Data_Cube[-1])\n",
    "#In the same way, you can go back forward using the sign negative in the index.\n",
    "print(\"The element before to last element is\", Data_Cube[-2])"
   ]
  },
  {
   "cell_type": "markdown",
   "metadata": {},
   "source": [
    "Also, you can operate with the elements inside of one o more list"
   ]
  },
  {
   "cell_type": "code",
   "execution_count": 7,
   "metadata": {},
   "outputs": [
    {
     "name": "stdout",
     "output_type": "stream",
     "text": [
      "28.75\n",
      "17.5\n",
      "The variable type of two above list are : <class 'list'> and  <class 'str'>\n"
     ]
    }
   ],
   "source": [
    "# Create the areas list\n",
    "areas = [\"hallway\", 11.25, \"kitchen\", 18.0, \"living room\", 20.0, \"bedroom\", 10.75, \"bathroom\", 9.50]\n",
    "\n",
    "# Sum of kitchen and bedroom area: eat_sleep_area\n",
    "eat_sleep_area=areas[3]+areas[-3]\n",
    "#Sum the bathroom in areas list and area of the cube\n",
    "mixed_areas = areas[-1]+Data_Cube[-2]\n",
    "# Print the variable eat_sleep_area\n",
    "print(eat_sleep_area)\n",
    "print(mixed_areas)\n",
    "#Check the type of the above lists. Also, you can learn transform the type of variable to string using str function, so you \n",
    "#can link the strings together in order to print one sentence.\n",
    "print(\"The variable type of two above list are : \" + str(type(areas)) + \" and \", type(str(type(Data_Cube))))"
   ]
  },
  {
   "cell_type": "markdown",
   "metadata": {},
   "source": [
    "### List manipulation"
   ]
  },
  {
   "cell_type": "markdown",
   "metadata": {},
   "source": [
    "It is very important if you need add or remove elements of your list, also, you may need changing some specific elements of your list. "
   ]
  },
  {
   "cell_type": "markdown",
   "metadata": {},
   "source": [
    "* Changing elements of the list:\n",
    "    suppose that you need assign new volume value for you Data_Cube (the previously created list). You must just specify the index of which element you want change and assign the new value as the next example:"
   ]
  },
  {
   "cell_type": "code",
   "execution_count": 8,
   "metadata": {},
   "outputs": [
    {
     "name": "stdout",
     "output_type": "stream",
     "text": [
      "The new volume of cube is: 30\n",
      "[2, 4, 8, 30]\n"
     ]
    }
   ],
   "source": [
    "Data_Cube[-1] = 30\n",
    "print(\"The new volume of cube is:\",Data_Cube[-1])\n",
    "#Also, you can change more than one elemts. Suppose that you need change two first elements of you Data_Cube lists.\n",
    "Data_Cube[:2] = [Heigth, Width]\n",
    "print(Data_Cube)"
   ]
  },
  {
   "cell_type": "markdown",
   "metadata": {},
   "source": [
    "* Linking lists: The sum with lists, on the same way with strings, works in different form than integers. When you use Plus sign with two or more lists, Python pastes them together in a single list.\n"
   ]
  },
  {
   "cell_type": "code",
   "execution_count": 9,
   "metadata": {},
   "outputs": [
    {
     "name": "stdout",
     "output_type": "stream",
     "text": [
      "['hallway', 11.25, 'kitchen', 18.0, 'living room', 20.0, 'bedroom', 10.75, 'bathroom', 9.5, 2, 4, 8, 30]\n",
      "['hallway', 11.25, 'kitchen', 18.0, 'living room', 20.0, 'bedroom', 10.75, 'bathroom', 9.5, 2, 4, 8, 30, 'Circle', 'radius', 1]\n"
     ]
    }
   ],
   "source": [
    "New_lists = areas + Data_Cube\n",
    "print(New_lists)\n",
    "#You can use it to add new elements to your lists\n",
    "Add_elements = New_lists + [\"Circle\", \"radius\", 1]\n",
    "print(Add_elements)"
   ]
  },
  {
   "cell_type": "markdown",
   "metadata": {},
   "source": [
    "* removing elements: To delete elements of your lists, you should use a pretty straightforward function called `del()`."
   ]
  },
  {
   "cell_type": "code",
   "execution_count": 10,
   "metadata": {},
   "outputs": [
    {
     "name": "stdout",
     "output_type": "stream",
     "text": [
      "['hallway', 11.25, 'kitchen', 18.0, 'living room', 20.0, 'bedroom', 10.75, 'bathroom', 9.5, 'Circle', 'radius', 1]\n"
     ]
    }
   ],
   "source": [
    "del(Add_elements[10:14])\n",
    "print(Add_elements)"
   ]
  },
  {
   "cell_type": "markdown",
   "metadata": {},
   "source": [
    "* Copying a list: In Python is very important keep in mind that using a simple `=`is not correct to make a copy of your list. It means, If you use `=` to create another variable with the same information, whatever that you change in this new variable will happen in the original variable. In order to make a real copy of one list, with not intention changing the original variable, you should use a `list()` function. See the below example to clarify the concept."
   ]
  },
  {
   "cell_type": "code",
   "execution_count": 11,
   "metadata": {},
   "outputs": [
    {
     "name": "stdout",
     "output_type": "stream",
     "text": [
      "The orignila list is  [1, 3, 4, 2]\n",
      "The correct copy list is  ['This element only is new to this list', 3, 4, 2] and it do not change the original list [1, 3, 4, 2]\n",
      "The wrong copy lists is  ['This is a new element', 3, 4, 2]  But the wrong copy altered the original, so you get  ['This is a new element', 3, 4, 2]\n"
     ]
    }
   ],
   "source": [
    "#The list that we created before contain specific data\n",
    "print(\"The orignila list is \", A)\n",
    "# if you use a simple \"=\", you will modify the variable original\n",
    "Wrong_copy_list = A\n",
    "# If you use a list() you wont modify the original variable\n",
    "Correct_copy_list = list(A)\n",
    "#Modify the correct copy list\n",
    "Correct_copy_list[0] = \"This element only is new to this list\"\n",
    "print(\"The correct copy list is \",Correct_copy_list, \"and it do not change the original list\", A  )\n",
    "#Modify the wrong copy list\n",
    "Wrong_copy_list[0] = \"This is a new element\"\n",
    "print(\"The wrong copy lists is \", Wrong_copy_list, \" But the wrong copy altered the original, so you get \", A)\n"
   ]
  },
  {
   "cell_type": "code",
   "execution_count": null,
   "metadata": {},
   "outputs": [],
   "source": []
  }
 ],
 "metadata": {
  "kernelspec": {
   "display_name": "Python 3",
   "language": "python",
   "name": "python3"
  },
  "language_info": {
   "codemirror_mode": {
    "name": "ipython",
    "version": 3
   },
   "file_extension": ".py",
   "mimetype": "text/x-python",
   "name": "python",
   "nbconvert_exporter": "python",
   "pygments_lexer": "ipython3",
   "version": "3.6.8"
  }
 },
 "nbformat": 4,
 "nbformat_minor": 2
}
