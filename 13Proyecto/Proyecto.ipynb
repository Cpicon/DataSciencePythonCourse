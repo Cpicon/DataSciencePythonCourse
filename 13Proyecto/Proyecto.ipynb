{
 "cells": [
  {
   "cell_type": "markdown",
   "metadata": {},
   "source": [
    "# Proyecto Final\n",
    "\n",
    "El objetivo del proyecto es que los estudiantes demuestren que pueden utilizar un dataset real de su elección o alguno de los sugeridos a continuación para realizar un modelo de predicción. En el informe ustedes deberán:\n",
    "\n",
    "1. Introducir el problema que van a solucionar con el modelo predictivo sugerido dependiendo del dataset escogido. \n",
    "\n",
    "2. Realizar una breve descripción técnica de las herramientas que utilizó (lenguaje de programación, librerías y demás si es necesario) donde justifique la escogencia de cada una de estas.\n",
    "\n",
    "3. Realizar una descripción técnica del Dataset, explicar las características que contiene. Si va a realizar un preprocesamiento en el cual descarte características o haga una descomposición en componentes principales, deberá justificar en qué manera esto es válido para solucionar el problema que planteó. \n",
    "\n",
    "4. Realizar una breve descripción conceptual del conjunto de algoritmos/métodos que utilizó para solucionar el problema, justificar la pertinencia de la selección de este conjunto para la solución de su problema. \n",
    "\n",
    "5. Detallar el proceso de selección de modelo y los resultados obtenidos. Presentar los resultados que justifican por qué el modelo que escogieron es el mejor dentro del conjunto de modelos que seleccionaron a priori. \n",
    "\n",
    "6. Presentar los resultados de la predicción (regresión o clasificación), realizar conclusiones al respecto. \n",
    "\n",
    "\n",
    "## Datasets sugeridos:\n",
    "\n",
    "Usted puede utilizar alguno de los siguientes datasets sugeridos para realizar su proyecto, sin embargo, será trabajo de usted entender el dataset.\n",
    "\n",
    "#### Regresión:\n",
    "\n",
    "- http://archive.ics.uci.edu/ml/datasets/Stock+portfolio+performance\n",
    "\n",
    "- http://archive.ics.uci.edu/ml/datasets/Facebook+metrics\n",
    "\n",
    "- http://archive.ics.uci.edu/ml/datasets/Computer+Hardware\n",
    "\n",
    "#### Clasificación:\n",
    "\n",
    "- http://archive.ics.uci.edu/ml/datasets/Absenteeism+at+work\n",
    "\n",
    "- http://archive.ics.uci.edu/ml/datasets/Energy+efficiency\n",
    "\n",
    "- http://archive.ics.uci.edu/ml/datasets/Online+News+Popularity\n",
    "\n",
    "- https://www.cs.toronto.edu/~kriz/cifar.html *\n",
    "\n",
    "- https://github.com/gtoderici/sports-1m-dataset.git *\n",
    "\n",
    "\n",
    "\n",
    "(*) Es sugerido utilizar NNs.\n",
    "\n"
   ]
  },
  {
   "cell_type": "code",
   "execution_count": null,
   "metadata": {},
   "outputs": [],
   "source": []
  }
 ],
 "metadata": {
  "kernelspec": {
   "display_name": "Python 3",
   "language": "python",
   "name": "python3"
  },
  "language_info": {
   "codemirror_mode": {
    "name": "ipython",
    "version": 3
   },
   "file_extension": ".py",
   "mimetype": "text/x-python",
   "name": "python",
   "nbconvert_exporter": "python",
   "pygments_lexer": "ipython3",
   "version": "3.7.4"
  }
 },
 "nbformat": 4,
 "nbformat_minor": 2
}
