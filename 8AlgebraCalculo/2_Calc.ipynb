{
 "cells": [
  {
   "cell_type": "markdown",
   "metadata": {},
   "source": [
    "# Cálculo\n",
    "\n",
    "## Gradiente \n",
    "\n",
    "El gradiente de $f$ respecto a $A\\in \\mathbb{R}^{m\\times n}$ es la matriz de derivadas parciales, de manera que\n",
    "\n",
    "\\begin{equation}\n",
    "(\\nabla_A f(A))_{ij}=\\frac{\\partial f(A)}{\\partial A_{ij}}\n",
    "\\end{equation}\n",
    "\n",
    "El tamaño de $\\nabla_A f(A)$ es siempre del tamaño de $A$. El gradiente es una función únicamente definida si la función $f$ retorna un valor escalar. Además, \n",
    "\n",
    "- $\\nabla_{x}(f(x)+g(x))=\\nabla_x f(x)+\\nabla_x g(x)$\n",
    "\n",
    "- Para $t\\in\\mathbb{R},\\nabla_x (tf(x))=t\\nabla_x f(x)$\n",
    "\n",
    "Los gradientes se pueden ver como generalizaciones de las derivadas parciales a múltiples variables.\n",
    "\n",
    "# La Hessiana. \n",
    "\n",
    "Supongan que $f:\\mathbb{R}^n \\rightarrow \\mathbb{R}$ es una función que toma un vector en $\\mathbb{R}^n$ y regresa un número real. Entonces, la Hessiana es una matriz respecto a x, escrita $\\nabla_x^2 f(x)$ o simplemente $H$ tal que \n",
    "\n",
    "\\begin{equation}\n",
    "(\\nabla_x^2 f(x))_{ij}=\\frac{\\partial^2 f(x)}{\\partial x_i \\partial x_j}\n",
    "\\end{equation}\n",
    "\n",
    "Se puede notar que la Hessiana siempre es simétrica.\n",
    "\n",
    "# Mínimos cuadrados\n",
    "\n",
    "Suponiendo $A\\in \\mathbb{R}^{m\\times n}$ y un vector $b\\in R^m$ tal que $b\\notin \\mathcal{R}(A)$. En esta situación no es posible encontrar un vector $x\\in\\mathbb{R}^n$ tal que $Ax=b$, así que entonces, se quiere encontrar un vector $x$ tal que $Ax$ sea tan cercano como es posible a $b$, medido como la norma cuadrada euclidiana $||Ax-b||_2^2$. \n",
    "\n",
    "Usando que $||x||_{2}^2=x^T x$, se tiene que \n",
    "\n",
    "\\begin{equation}\n",
    "||Ax-b||_{2}^2=(Ax-b)^T(Ax-b)=x^TA^TAx-2b^TAx+b^Tb\n",
    "\\end{equation} \n",
    "\n",
    "Tomando el gradiente con respecto a $x$ y usando las propiedades de los gradientes, se tiene que \n",
    "\n",
    "\\begin{equation}\n",
    "\\nabla_x (x^TA^TAx-2b^TAx+b^Tb)=2A^T Ax-2A^T b\n",
    "\\end{equation} \n",
    "\n",
    "Haciendo esta expresión igual a cero y resolviendo para $x$, se tienen las ecuaciones normales.\n",
    "\n",
    "\\begin{equation}\n",
    "x=(A^T A)^{-1}A^T b\n",
    "\\end{equation} \n",
    "\n"
   ]
  },
  {
   "cell_type": "code",
   "execution_count": null,
   "metadata": {},
   "outputs": [],
   "source": []
  }
 ],
 "metadata": {
  "kernelspec": {
   "display_name": "Python 3",
   "language": "python",
   "name": "python3"
  },
  "language_info": {
   "codemirror_mode": {
    "name": "ipython",
    "version": 3
   },
   "file_extension": ".py",
   "mimetype": "text/x-python",
   "name": "python",
   "nbconvert_exporter": "python",
   "pygments_lexer": "ipython3",
   "version": "3.7.4"
  }
 },
 "nbformat": 4,
 "nbformat_minor": 2
}
