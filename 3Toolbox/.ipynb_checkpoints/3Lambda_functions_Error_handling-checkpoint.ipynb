{
 "cells": [
  {
   "cell_type": "markdown",
   "metadata": {},
   "source": [
    "# Lambda Functions\n",
    "\n",
    "This type of functions allows you to write functions in a quick and potentially dirty way so I wouldn't advise you use them all the time but sometimes there are situations when they can come in a very handy . For example check the next example.\n",
    "\n",
    "To declare a lambda function you have to specify the arguments of the function after of keyword **lambda**."
   ]
  },
  {
   "cell_type": "markdown",
   "metadata": {},
   "source": [
    "Compare lambda functions with convetional functions"
   ]
  },
  {
   "cell_type": "code",
   "execution_count": 14,
   "metadata": {},
   "outputs": [
    {
     "data": {
      "text/plain": [
       "7"
      ]
     },
     "execution_count": 14,
     "metadata": {},
     "output_type": "execute_result"
    }
   ],
   "source": [
    "# lambda way\n",
    "sum1 = lambda x, y : x + y\n",
    "sum1(3,4)\n"
   ]
  },
  {
   "cell_type": "code",
   "execution_count": 16,
   "metadata": {},
   "outputs": [
    {
     "data": {
      "text/plain": [
       "7"
      ]
     },
     "execution_count": 16,
     "metadata": {},
     "output_type": "execute_result"
    }
   ],
   "source": [
    "# conventional way\n",
    "def sum2(x,y):\n",
    "    return x+y\n",
    "sum2(3,4)"
   ]
  },
  {
   "cell_type": "code",
   "execution_count": 20,
   "metadata": {},
   "outputs": [
    {
     "name": "stdout",
     "output_type": "stream",
     "text": [
      "282 ns ± 88.5 ns per loop (mean ± std. dev. of 7 runs, 1000000 loops each)\n"
     ]
    }
   ],
   "source": [
    "%timeit sum1(100,50)"
   ]
  },
  {
   "cell_type": "code",
   "execution_count": 21,
   "metadata": {},
   "outputs": [
    {
     "name": "stdout",
     "output_type": "stream",
     "text": [
      "337 ns ± 109 ns per loop (mean ± std. dev. of 7 runs, 1000000 loops each)\n"
     ]
    }
   ],
   "source": [
    "%timeit sum2(100,50)"
   ]
  },
  {
   "cell_type": "markdown",
   "metadata": {},
   "source": [
    "**Exercise** : make the next conventional function one lambda function"
   ]
  },
  {
   "cell_type": "code",
   "execution_count": 23,
   "metadata": {},
   "outputs": [
    {
     "data": {
      "text/plain": [
       "'hello!!!'"
      ]
     },
     "execution_count": 23,
     "metadata": {},
     "output_type": "execute_result"
    }
   ],
   "source": [
    "def add_bangs1(word1):\n",
    "    return word1 + \"!!!\"\n",
    "\n",
    "add_bangs1('hello')"
   ]
  },
  {
   "cell_type": "markdown",
   "metadata": {},
   "source": [
    "**Solution** :"
   ]
  },
  {
   "cell_type": "code",
   "execution_count": 12,
   "metadata": {},
   "outputs": [
    {
     "data": {
      "text/plain": [
       "'hello!!!'"
      ]
     },
     "execution_count": 12,
     "metadata": {},
     "output_type": "execute_result"
    }
   ],
   "source": [
    "add_bangs = (lambda a: a + '!!!')\n",
    "add_bangs('hello')"
   ]
  },
  {
   "cell_type": "markdown",
   "metadata": {},
   "source": [
    "### Anonymous functions:\n",
    "\n",
    "## Map()\n",
    "\n",
    "Function ´map()´ takes two arguments ´map( funct, seq). map() applies the function to All elements in the sequence. How the function, which will be applied to every value in the list (seq), doesn't has predefined name it will be one **anonymous function**."
   ]
  },
  {
   "cell_type": "markdown",
   "metadata": {},
   "source": [
    "The lambda function definition is: `add_bangs = (lambda a: a + '!!!')`, and the function call is: `add_bangs('hello')`."
   ]
  },
  {
   "cell_type": "code",
   "execution_count": 11,
   "metadata": {},
   "outputs": [
    {
     "name": "stdout",
     "output_type": "stream",
     "text": [
      "[1, 4, 9, 16, 25, 36]\n"
     ]
    }
   ],
   "source": [
    "x = [1,2,3,4,5,6]\n",
    "squaredElements = map(lambda x : x**2, x)\n",
    "print(list(squaredElements))"
   ]
  },
  {
   "cell_type": "code",
   "execution_count": 25,
   "metadata": {},
   "outputs": [
    {
     "name": "stdout",
     "output_type": "stream",
     "text": [
      "[97.7, 98.60000000000001, 99.5, 100.4, 102.2]\n",
      "[36.5, 37.00000000000001, 37.5, 38.00000000000001, 39.0]\n"
     ]
    }
   ],
   "source": [
    "def fahrenheit1(T):\n",
    "    return ((float(9)/5)*T + 32)\n",
    "\n",
    "def celsius1(T):\n",
    "     return (float(5)/9)*(T-32)\n",
    " \n",
    "temperatures = (36.5, 37, 37.5, 38, 39)\n",
    "F = map(fahrenheit1, temperatures)\n",
    "C = map(celsius, F)\n",
    "\n",
    "temperatures_in_Fahrenheit = list(map(fahrenheit1, temperatures))\n",
    "temperatures_in_Celsius = list(map(celsius1, temperatures_in_Fahrenheit))\n",
    "print(temperatures_in_Fahrenheit)\n",
    "\n",
    "print(temperatures_in_Celsius)\n"
   ]
  },
  {
   "cell_type": "code",
   "execution_count": 36,
   "metadata": {},
   "outputs": [
    {
     "name": "stdout",
     "output_type": "stream",
     "text": [
      "[97.7, 98.60000000000001, 99.5, 100.4, 102.2]\n",
      "[36.5, 37.00000000000001, 37.5, 38.00000000000001, 39.0]\n"
     ]
    }
   ],
   "source": [
    "F1 = list(map(lambda T: (float(9)/5)*T + 32, temperatures))\n",
    "C2 = list(map(lambda T: (float(5)/9)*(T-32), F1))\n",
    "print(F1)\n",
    "print(C2)"
   ]
  },
  {
   "cell_type": "markdown",
   "metadata": {},
   "source": [
    "map() can be applied to more than one list. The lists don't have to have the same length. map() will apply its lambda function to the elements of the argument lists, i.e. it first applies to the elements with the 0th index, then to the elements with the 1st index until the n-th index is reached: "
   ]
  },
  {
   "cell_type": "code",
   "execution_count": 82,
   "metadata": {},
   "outputs": [
    {
     "data": {
      "text/plain": [
       "[37.5, 33.0, 24.5]"
      ]
     },
     "execution_count": 82,
     "metadata": {},
     "output_type": "execute_result"
    }
   ],
   "source": [
    "a = [1, 2, 3, 4]\n",
    "b = [17, 12, 11, 10]\n",
    "c = [-1, -4, 5]\n",
    "list(map(lambda x, y, z : 2.5*x + 2*y - z, a, b, c))"
   ]
  },
  {
   "cell_type": "markdown",
   "metadata": {},
   "source": [
    "Note: If one list has fewer elements than the others, map will stop when the shortest list has been consumed"
   ]
  },
  {
   "cell_type": "markdown",
   "metadata": {},
   "source": [
    "The map function of the previous chapter was used to apply one function to one or more iterables. We will now write a function which applies a bunch of functions, which may be an iterable such as a list or a tuple, for example, to one Python object."
   ]
  },
  {
   "cell_type": "code",
   "execution_count": 67,
   "metadata": {},
   "outputs": [],
   "source": [
    "from math import sin, cos, tan, pi\n",
    "#import math also works\n",
    "import numpy as np\n",
    "def map_functions(x, functions):\n",
    "    \"\"\" map an iterable of functions on the the object x \"\"\"\n",
    "    res=[]\n",
    "    for i in x:\n",
    "        for func in functions:\n",
    "            res.append(func(i))\n",
    "    return res"
   ]
  },
  {
   "cell_type": "code",
   "execution_count": 74,
   "metadata": {},
   "outputs": [
    {
     "name": "stdout",
     "output_type": "stream",
     "text": [
      "[0.0, 1.0, 0.0, 0.03172793349806765, 0.9994965423831851, 0.03174391521396965, 0.0634239196565645, 0.9979866764718844, 0.06355187013195693, 0.09505604330418267, 0.9954719225730846, 0.09548842227361158, 0.12659245357374926, 0.9919548128307953, 0.12761917371264675, 0.1580013959733499, 0.9874388886763943, 0.16001131592572962, 0.18925124436041021, 0.9819286972627067, 0.19273420248128023, 0.22031053278654064, 0.975429786885407, 0.225859960141265, 0.2511479871810792, 0.9679487013963562, 0.2594641501339635, 0.28173255684142967, 0.9594929736144974, 0.29362649293836673, 0.3120334456984871, 0.9500711177409454, 0.32843167197886425, 0.3420201433256687, 0.9396926207859084, 0.36397023426620234, 0.3716624556603276, 0.9283679330160726, 0.4003396093754275, 0.4009305354066137, 0.9161084574320696, 0.437645272406344, 0.42979491208917164, 0.9029265382866212, 0.4760020819686433, 0.4582265217274104, 0.8888354486549235, 0.5155358310931968, 0.48619673610046865, 0.8738493770697849, 0.5563850577210417, 0.5136773915734063, 0.8579834132349771, 0.5987031726366543, 0.5406408174555976, 0.8412535328311812, 0.642660977168331, 0.5670598638627707, 0.8236765814298328, 0.6884496617330104, 0.5929079290546404, 0.8052702575310586, 0.7362844008078524, 0.6181589862206052, 0.7860530947427875, 0.7864086921798575, 0.6427876096865393, 0.766044443118978, 0.8390996311772799, 0.6667690005162916, 0.7452644496757548, 0.8946743680131066, 0.690079011482112, 0.7237340381050702, 0.9534980740838499, 0.7126941713788629, 0.7014748877063213, 1.0159938493439535, 0.7345917086575333, 0.6785094115571322, 1.0826551498699128, 0.7557495743542583, 0.654860733945285, 1.1540615205330096, 0.7761464642917568, 0.6305526670845225, 1.2308987096675277, 0.7957618405308321, 0.6056096871376666, 1.3139846627815586, 0.8145759520503357, 0.5800569095711982, 1.4043035064481926, 0.8325698546347714, 0.5539200638661103, 1.5030505463618924, 0.8497254299495144, 0.5272254676105024, 1.6116926858648353, 0.8660254037844387, 0.4999999999999999, 1.7320508075688776, 0.8814533634475821, 0.4722710747726827, 1.8664140374717002, 0.8959937742913359, 0.44406661260577407, 2.0177012836737767, 0.9096319953545183, 0.41541501300188644, 2.189694562989681, 0.9223542941045815, 0.38634512569312857, 2.387384317195195, 0.9341478602651067, 0.3568862215918719, 2.617494887021388, 0.9450008187146685, 0.32706796331742155, 2.8893102495567233, 0.9549022414440739, 0.2969203753282749, 3.21602126626822, 0.963842158559942, 0.266473813690035, 3.61702392146154, 0.9718115683235417, 0.23575893550942728, 4.12205614274451, 0.9788024462147787, 0.20480666806519066, 4.7791532153788205, 0.984807753012208, 0.17364817766693041, 5.671281819617707, 0.9898214418809327, 0.14231483827328512, 6.9551527717734745, 0.9938384644612541, 0.1108381999010111, 8.966569877071668, 0.9968547759519424, 0.07924995685678844, 12.578616007997905, 0.998867339183008, 0.04758191582374218, 20.992583461395604, 0.9998741276738751, 0.01586596383480793, 63.020068499102265, 0.9998741276738751, -0.01586596383480803, -63.02006849910187, 0.998867339183008, -0.04758191582374228, -20.99258346139556, 0.9968547759519424, -0.07924995685678854, -12.578616007997889, 0.9938384644612541, -0.11083819990101099, -8.966569877071679, 0.9898214418809327, -0.14231483827328523, -6.95515277177347, 0.984807753012208, -0.1736481776669303, -5.671281819617711, 0.9788024462147787, -0.20480666806519074, -4.779153215378819, 0.9718115683235417, -0.23575893550942717, -4.122056142744513, 0.963842158559942, -0.26647381369003503, -3.6170239214615387, 0.9549022414440739, -0.2969203753282748, -3.2160212662682213, 0.9450008187146685, -0.32706796331742166, -2.8893102495567224, 0.9341478602651068, -0.3568862215918718, -2.617494887021389, 0.9223542941045814, -0.3863451256931287, -2.387384317195194, 0.9096319953545184, -0.4154150130018863, -2.189694562989682, 0.8959937742913359, -0.4440666126057741, -2.017701283673776, 0.8814533634475821, -0.4722710747726826, -1.8664140374717009, 0.8660254037844386, -0.5000000000000002, -1.7320508075688765, 0.8497254299495143, -0.5272254676105025, -1.611692685864835, 0.8325698546347714, -0.5539200638661103, -1.5030505463618924, 0.8145759520503357, -0.580056909571198, -1.404303506448193, 0.795761840530832, -0.6056096871376668, -1.3139846627815581, 0.7761464642917567, -0.6305526670845225, -1.2308987096675275, 0.7557495743542583, -0.654860733945285, -1.1540615205330096, 0.7345917086575334, -0.6785094115571321, -1.082655149869913, 0.7126941713788627, -0.7014748877063214, -1.015993849343953, 0.6900790114821119, -0.7237340381050702, -0.9534980740838498, 0.6667690005162916, -0.7452644496757547, -0.8946743680131068, 0.6427876096865395, -0.7660444431189779, -0.8390996311772804, 0.6181589862206052, -0.7860530947427875, -0.7864086921798574, 0.5929079290546404, -0.8052702575310586, -0.7362844008078524, 0.5670598638627709, -0.8236765814298327, -0.6884496617330105, 0.5406408174555973, -0.8412535328311813, -0.6426609771683307, 0.5136773915734063, -0.8579834132349771, -0.5987031726366542, 0.4861967361004687, -0.8738493770697849, -0.5563850577210417, 0.4582265217274105, -0.8888354486549234, -0.5155358310931969, 0.4297949120891714, -0.9029265382866213, -0.4760020819686431, 0.4009305354066136, -0.9161084574320696, -0.4376452724063439, 0.3716624556603276, -0.9283679330160726, -0.4003396093754275, 0.3420201433256689, -0.9396926207859083, -0.36397023426620256, 0.31203344569848696, -0.9500711177409454, -0.3284316719788641, 0.28173255684142967, -0.9594929736144974, -0.2936264929383667, 0.2511479871810793, -0.9679487013963562, -0.25946415013396357, 0.2203105327865408, -0.975429786885407, -0.22585996014126516, 0.18925124436041008, -0.9819286972627067, -0.19273420248128006, 0.1580013959733499, -0.9874388886763943, -0.1600113159257296, 0.12659245357374938, -0.9919548128307953, -0.12761917371264686, 0.09505604330418244, -0.9954719225730846, -0.09548842227361133, 0.0634239196565644, -0.9979866764718844, -0.06355187013195682, 0.031727933498067656, -0.9994965423831851, -0.03174391521396965, 1.2246467991473532e-16, -1.0, -1.2246467991473532e-16]\n"
     ]
    }
   ],
   "source": [
    "values = np.linspace(0,pi,100)\n",
    "family_of_functions = (sin, cos, tan)\n",
    "print(map_functions(values, family_of_functions))"
   ]
  },
  {
   "cell_type": "markdown",
   "metadata": {},
   "source": [
    "## Filtering\n",
    "### Filter()\n",
    "\n",
    "`filter(function, sequence)`\n",
    "\n",
    "offers an elegant way to filter out all the elements of a sequence \"sequence\", for which the function function returns True. i.e. an item will be produced by the iterator result of filter(function, sequence) if item is included in the sequence \"sequence\" and if function(item) returns True. \n",
    "\n",
    "In other words: The function filter(f,l) needs a function f as its first argument. f has to return a Boolean value, i.e. either True or False. This function will be applied to every element of the list l. Only if f returns True will the element be produced by the iterator, which is the return value of filter(function, sequence). \n"
   ]
  },
  {
   "cell_type": "code",
   "execution_count": 75,
   "metadata": {},
   "outputs": [],
   "source": [
    "# Create a list of strings: fellowship\n",
    "fellowship = ['frodo', 'samwise', 'merry', 'pippin', 'aragorn', 'boromir', 'legolas', 'gimli', 'gandalf']\n",
    "\n",
    "# Use filter() to apply a lambda function over fellowship: result\n",
    "result = filter(lambda a : len(a)>6, fellowship)\n",
    "\n",
    "# Convert result to a list: result_list\n",
    "result_list = list(result)\n"
   ]
  },
  {
   "cell_type": "markdown",
   "metadata": {},
   "source": [
    "In the following example, we filter out first the odd and then the even elements of the sequence of the first 11 Fibonacci numbers: "
   ]
  },
  {
   "cell_type": "code",
   "execution_count": 76,
   "metadata": {},
   "outputs": [
    {
     "name": "stdout",
     "output_type": "stream",
     "text": [
      "[1, 1, 3, 5, 13, 21, 55]\n",
      "[0, 2, 8, 34]\n"
     ]
    }
   ],
   "source": [
    "fibonacci = [0,1,1,2,3,5,8,13,21,34,55]\n",
    "odd_numbers = list(filter(lambda x: x % 2, fibonacci))\n",
    "print(odd_numbers)\n",
    "\n",
    "even_numbers = list(filter(lambda x: x % 2 == 0, fibonacci))\n",
    "print(even_numbers)"
   ]
  },
  {
   "cell_type": "markdown",
   "metadata": {},
   "source": [
    "## Reducing\n",
    "### Reduce()\n",
    "\n",
    "`reduce(func, seq)` \n",
    "\n",
    "continually applies the function func() to the sequence seq. It returns a single value. \n",
    "\n",
    "If seq = [ s1, s2, s3, ... , sn ], calling reduce(func, seq) works like this:\n",
    "\n",
    "At first the first two elements of seq will be applied to func, i.e. func(s1,s2) The list on which reduce() works looks now like this: [ func(s1, s2), s3, ... , sn ]\n",
    "\n",
    "In the next step func will be applied on the previous result and the third element of the list, i.e. func(func(s1, s2),s3)\n",
    "The list looks like this now: [ func(func(s1, s2),s3), ... , sn ]\n",
    "\n",
    "Continue like this until just one element is left and return this element as the result of reduce()\n"
   ]
  },
  {
   "cell_type": "code",
   "execution_count": 77,
   "metadata": {},
   "outputs": [],
   "source": [
    "# Import reduce from functools\n",
    "from functools import reduce\n",
    "\n",
    "# Create a list of strings: stark\n",
    "stark = ['robb', 'sansa', 'arya', 'brandon', 'rickon']\n",
    "\n",
    "# Use reduce() to apply a lambda function over stark: result\n",
    "result = reduce(lambda item1, item2 : item1 + item2, stark)\n",
    "\n",
    "# Print the result"
   ]
  },
  {
   "cell_type": "code",
   "execution_count": 78,
   "metadata": {},
   "outputs": [
    {
     "data": {
      "text/plain": [
       "113"
      ]
     },
     "execution_count": 78,
     "metadata": {},
     "output_type": "execute_result"
    }
   ],
   "source": [
    "import functools\n",
    "functools.reduce(lambda x,y: x+y, [47,11,42,13])"
   ]
  },
  {
   "cell_type": "code",
   "execution_count": null,
   "metadata": {},
   "outputs": [],
   "source": [
    "from functools import reduce\n",
    "f = lambda a,b: a if (a > b) else b\n",
    "reduce(f, [47,11,42,102,13])\n",
    "102"
   ]
  },
  {
   "cell_type": "markdown",
   "metadata": {},
   "source": [
    "Imagine an accounting routine used in a book shop. It works on a list with sublists, which look like this: "
   ]
  },
  {
   "cell_type": "markdown",
   "metadata": {},
   "source": [
    "| Order Number | Book Title and Author | Quantity | Price per Item \n",
    "| ---------- | ---------- | ---------- | ---------- \n",
    "| 34587 |\tLearning Python, Mark Lutz |\t4 |\t40.95\n",
    "| 98762 | Programming Python, Mark Lutz |\t5 |\t56.80 \n",
    "| 77226 |\tHead First Python, Paul Barry |\t3 |\t32.95 \n",
    "| 88112 |\tEinführung in Python3, Bernd Klein |\t3 |\t24.99 "
   ]
  },
  {
   "cell_type": "markdown",
   "metadata": {},
   "source": [
    "Write a Python program, which returns a list with 2-tuples. Each tuple consists of a the order number and the product of the price per items and the quantity. The product should be increased by 10,- € if the value of the order is smaller than 100,00 €. \n",
    "Write a Python program using lambda and map.\n",
    "\n",
    "\n",
    "The same bookshop, but this time we work on a different list. The sublists of our lists look like this: \n",
    "[ordernumber, (article number, quantity, price per unit), ... (article number, quantity, price per unit) ] \n",
    "Write a program which returns a list of two tuples with (order number, total amount of order)."
   ]
  },
  {
   "cell_type": "code",
   "execution_count": 80,
   "metadata": {},
   "outputs": [
    {
     "name": "stdout",
     "output_type": "stream",
     "text": [
      "[('34587', 163.8), ('98762', 284.0), ('77226', 108.85000000000001), ('88112', 84.97)]\n"
     ]
    }
   ],
   "source": [
    "orders = [ [\"34587\", \"Learning Python, Mark Lutz\", 4, 40.95], \n",
    "\t       [\"98762\", \"Programming Python, Mark Lutz\", 5, 56.80], \n",
    "           [\"77226\", \"Head First Python, Paul Barry\", 3,32.95],\n",
    "           [\"88112\", \"Einführung in Python3, Bernd Klein\", \t3, 24.99]]\n",
    "\n",
    "min_order = 100\n",
    "invoice_totals = list(map(lambda x: x if x[1] >= min_order else (x[0], x[1] + 10), \n",
    "\t\t\t              map(lambda x: (x[0],x[2] * x[3]), orders)))\n",
    "\n",
    "print(invoice_totals)"
   ]
  },
  {
   "cell_type": "markdown",
   "metadata": {},
   "source": [
    "The output of the previous program looks like this:\n",
    "[('34587', 163.8), ('98762', 284.0), ('77226', 108.85000000000001), ('88112', 84.97)]"
   ]
  },
  {
   "cell_type": "code",
   "execution_count": 81,
   "metadata": {},
   "outputs": [
    {
     "name": "stdout",
     "output_type": "stream",
     "text": [
      "[[1, 678.3299999999999], [2, 494.46000000000004], [3, 364.79999999999995], [4, 492.57]]\n"
     ]
    }
   ],
   "source": [
    "orders = [ [1, (\"5464\", 4, 9.99), (\"8274\",18,12.99), (\"9744\", 9, 44.95)], \n",
    "\t       [2, (\"5464\", 9, 9.99), (\"9744\", 9, 44.95)],\n",
    "\t       [3, (\"5464\", 9, 9.99), (\"88112\", 11, 24.99)],\n",
    "           [4, (\"8732\", 7, 11.99), (\"7733\",11,18.99), (\"88112\", 5, 39.95)] ]\n",
    "\n",
    "min_order = 100\n",
    "invoice_totals = list(map(lambda x: [x[0]] + list(map(lambda y: y[1]*y[2], x[1:])), orders))\n",
    "invoice_totals = list(map(lambda x: [x[0]] + [reduce(lambda a,b: a + b, x[1:])], invoice_totals))\n",
    "invoice_totals = list(map(lambda x: x if x[1] >= min_order else (x[0], x[1] + 10), invoice_totals))\n",
    "\n",
    "print (invoice_totals)"
   ]
  },
  {
   "cell_type": "markdown",
   "metadata": {},
   "source": [
    "We will get the following result:\n",
    "[[1, 678.3299999999999], [2, 494.46000000000004], [3, 364.79999999999995], [4, 492.57]]"
   ]
  }
 ],
 "metadata": {
  "kernelspec": {
   "display_name": "Python 3",
   "language": "python",
   "name": "python3"
  },
  "language_info": {
   "codemirror_mode": {
    "name": "ipython",
    "version": 3
   },
   "file_extension": ".py",
   "mimetype": "text/x-python",
   "name": "python",
   "nbconvert_exporter": "python",
   "pygments_lexer": "ipython3",
   "version": "3.6.6"
  }
 },
 "nbformat": 4,
 "nbformat_minor": 2
}
