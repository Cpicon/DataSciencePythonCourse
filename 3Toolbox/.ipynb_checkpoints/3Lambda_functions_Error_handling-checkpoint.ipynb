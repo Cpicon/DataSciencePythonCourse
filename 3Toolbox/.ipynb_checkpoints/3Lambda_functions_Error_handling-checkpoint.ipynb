{
 "cells": [
  {
   "cell_type": "markdown",
   "metadata": {},
   "source": [
    "# Lambda Functions\n",
    "\n",
    "This type of functions allows you to write functions in a quick and potentially dirty way so I wouldn't advise you use them all the time but sometimes there are situations when they can come in a very handy . For example check the next example.\n",
    "\n",
    "To declare a lambda function you have to specify the arguments of the function after of keyword **lambda**."
   ]
  },
  {
   "cell_type": "markdown",
   "metadata": {},
   "source": [
    "Compare lambda functions with convetional functions"
   ]
  },
  {
   "cell_type": "code",
   "execution_count": 58,
   "metadata": {},
   "outputs": [
    {
     "data": {
      "text/plain": [
       "7"
      ]
     },
     "execution_count": 58,
     "metadata": {},
     "output_type": "execute_result"
    }
   ],
   "source": [
    "# lambda way\n",
    "sum1 = lambda x, y : x + y\n",
    "sum1(3,4)\n"
   ]
  },
  {
   "cell_type": "code",
   "execution_count": 59,
   "metadata": {},
   "outputs": [
    {
     "data": {
      "text/plain": [
       "7"
      ]
     },
     "execution_count": 59,
     "metadata": {},
     "output_type": "execute_result"
    }
   ],
   "source": [
    "# conventional way\n",
    "def sum2(x,y):\n",
    "    return x+y\n",
    "sum2(3,4)"
   ]
  },
  {
   "cell_type": "code",
   "execution_count": 60,
   "metadata": {},
   "outputs": [
    {
     "name": "stdout",
     "output_type": "stream",
     "text": [
      "187 ns ± 36.6 ns per loop (mean ± std. dev. of 7 runs, 10000000 loops each)\n"
     ]
    }
   ],
   "source": [
    "%timeit sum1(100,50)"
   ]
  },
  {
   "cell_type": "code",
   "execution_count": 61,
   "metadata": {},
   "outputs": [
    {
     "name": "stdout",
     "output_type": "stream",
     "text": [
      "153 ns ± 21.8 ns per loop (mean ± std. dev. of 7 runs, 1000000 loops each)\n"
     ]
    }
   ],
   "source": [
    "%timeit sum2(100,50)"
   ]
  },
  {
   "cell_type": "markdown",
   "metadata": {},
   "source": [
    "**Exercise** : make the next conventional function one lambda function"
   ]
  },
  {
   "cell_type": "code",
   "execution_count": 62,
   "metadata": {},
   "outputs": [
    {
     "data": {
      "text/plain": [
       "'hello!!!'"
      ]
     },
     "execution_count": 62,
     "metadata": {},
     "output_type": "execute_result"
    }
   ],
   "source": [
    "def add_bangs1(word1):\n",
    "    return word1 + \"!!!\"\n",
    "\n",
    "add_bangs1('hello')"
   ]
  },
  {
   "cell_type": "markdown",
   "metadata": {},
   "source": [
    "**Solution** :"
   ]
  },
  {
   "cell_type": "code",
   "execution_count": 63,
   "metadata": {},
   "outputs": [
    {
     "data": {
      "text/plain": [
       "'hello!!!'"
      ]
     },
     "execution_count": 63,
     "metadata": {},
     "output_type": "execute_result"
    }
   ],
   "source": [
    "add_bangs = (lambda a: a + '!!!')\n",
    "add_bangs('hello')"
   ]
  },
  {
   "cell_type": "markdown",
   "metadata": {},
   "source": [
    "### Anonymous functions:\n",
    "\n",
    "## Map()\n",
    "\n",
    "Function ´map()´ takes two arguments ´map( funct, seq). map() applies the function to All elements in the sequence. How the function, which will be applied to every value in the list (seq), doesn't has predefined name it will be one **anonymous function**."
   ]
  },
  {
   "cell_type": "markdown",
   "metadata": {},
   "source": [
    "The lambda function definition is: `add_bangs = (lambda a: a + '!!!')`, and the function call is: `add_bangs('hello')`."
   ]
  },
  {
   "cell_type": "code",
   "execution_count": 64,
   "metadata": {},
   "outputs": [
    {
     "name": "stdout",
     "output_type": "stream",
     "text": [
      "[1, 4, 9, 16, 25, 36]\n"
     ]
    }
   ],
   "source": [
    "x = [1,2,3,4,5,6]\n",
    "squaredElements = map(lambda x : x**2, x)\n",
    "print(list(squaredElements))"
   ]
  },
  {
   "cell_type": "code",
   "execution_count": 65,
   "metadata": {},
   "outputs": [
    {
     "name": "stdout",
     "output_type": "stream",
     "text": [
      "[97.7, 98.60000000000001, 99.5, 100.4, 102.2]\n",
      "[36.5, 37.00000000000001, 37.5, 38.00000000000001, 39.0]\n"
     ]
    }
   ],
   "source": [
    "def fahrenheit1(T):\n",
    "    return ((float(9)/5)*T + 32)\n",
    "\n",
    "def celsius1(T):\n",
    "     return (float(5)/9)*(T-32)\n",
    " \n",
    "temperatures = (36.5, 37, 37.5, 38, 39)\n",
    "F = map(fahrenheit1, temperatures)\n",
    "C = map(celsius1, F)\n",
    "\n",
    "temperatures_in_Fahrenheit = list(map(fahrenheit1, temperatures))\n",
    "temperatures_in_Celsius = list(map(celsius1, temperatures_in_Fahrenheit))\n",
    "print(temperatures_in_Fahrenheit)\n",
    "\n",
    "print(temperatures_in_Celsius)\n"
   ]
  },
  {
   "cell_type": "code",
   "execution_count": 66,
   "metadata": {},
   "outputs": [
    {
     "name": "stdout",
     "output_type": "stream",
     "text": [
      "[97.7, 98.60000000000001, 99.5, 100.4, 102.2]\n",
      "[36.5, 37.00000000000001, 37.5, 38.00000000000001, 39.0]\n"
     ]
    }
   ],
   "source": [
    "F1 = list(map(lambda T: (float(9)/5)*T + 32, temperatures))\n",
    "C2 = list(map(lambda T: (float(5)/9)*(T-32), F1))\n",
    "print(F1)\n",
    "print(C2)"
   ]
  },
  {
   "cell_type": "markdown",
   "metadata": {},
   "source": [
    "map() can be applied to more than one list. The lists don't have to have the same length. map() will apply its lambda function to the elements of the argument lists, i.e. it first applies to the elements with the 0th index, then to the elements with the 1st index until the n-th index is reached: "
   ]
  },
  {
   "cell_type": "code",
   "execution_count": 67,
   "metadata": {},
   "outputs": [
    {
     "data": {
      "text/plain": [
       "[37.5, 33.0, 24.5]"
      ]
     },
     "execution_count": 67,
     "metadata": {},
     "output_type": "execute_result"
    }
   ],
   "source": [
    "a = [1, 2, 3, 4]\n",
    "b = [17, 12, 11, 10]\n",
    "c = [-1, -4, 5]\n",
    "list(map(lambda x, y, z : 2.5*x + 2*y - z, a, b, c))"
   ]
  },
  {
   "cell_type": "markdown",
   "metadata": {},
   "source": [
    "Note: If one list has fewer elements than the others, map will stop when the shortest list has been consumed"
   ]
  },
  {
   "cell_type": "markdown",
   "metadata": {},
   "source": [
    "The map function of the previous chapter was used to apply one function to one or more iterables. We will now write a function which applies a bunch of functions, which may be an iterable such as a list or a tuple, for example, to one Python object."
   ]
  },
  {
   "cell_type": "code",
   "execution_count": 68,
   "metadata": {},
   "outputs": [],
   "source": [
    "from math import sin, cos, tan, pi\n",
    "#import math also works\n",
    "import numpy as np\n",
    "def map_functions(x, functions):\n",
    "    \"\"\" map an iterable of functions on the the object x \"\"\"\n",
    "    res=[]\n",
    "    for i in x:\n",
    "        for func in functions:\n",
    "            res.append(func(i))\n",
    "    return res"
   ]
  },
  {
   "cell_type": "code",
   "execution_count": 69,
   "metadata": {},
   "outputs": [
    {
     "name": "stdout",
     "output_type": "stream",
     "text": [
      "[0.0, 1.0, 0.0, 0.3420201433256687, 0.9396926207859084, 0.36397023426620234, 0.6427876096865393, 0.766044443118978, 0.8390996311772799, 0.8660254037844386, 0.5000000000000001, 1.7320508075688767, 0.984807753012208, 0.17364817766693041, 5.671281819617707, 0.984807753012208, -0.1736481776669303, -5.671281819617711, 0.8660254037844387, -0.4999999999999998, -1.7320508075688783, 0.6427876096865395, -0.7660444431189779, -0.8390996311772804, 0.3420201433256689, -0.9396926207859083, -0.36397023426620256, 1.2246467991473532e-16, -1.0, -1.2246467991473532e-16]\n"
     ]
    }
   ],
   "source": [
    "values = np.linspace(0,pi,10)\n",
    "family_of_functions = (sin, cos, tan)\n",
    "print(map_functions(values, family_of_functions))"
   ]
  },
  {
   "cell_type": "markdown",
   "metadata": {},
   "source": [
    "## Filtering\n",
    "### Filter()\n",
    "\n",
    "`filter(function, sequence)`\n",
    "\n",
    "offers an elegant way to filter out all the elements of a sequence \"sequence\", for which the function function returns True. i.e. an item will be produced by the iterator result of filter(function, sequence) if item is included in the sequence \"sequence\" and if function(item) returns True. \n",
    "\n",
    "In other words: The function filter(f,l) needs a function f as its first argument. f has to return a Boolean value, i.e. either True or False. This function will be applied to every element of the list l. Only if f returns True will the element be produced by the iterator, which is the return value of filter(function, sequence). \n"
   ]
  },
  {
   "cell_type": "code",
   "execution_count": 70,
   "metadata": {},
   "outputs": [],
   "source": [
    "# Create a list of strings: fellowship\n",
    "fellowship = ['frodo', 'samwise', 'merry', 'pippin', 'aragorn', 'boromir', 'legolas', 'gimli', 'gandalf']\n",
    "\n",
    "# Use filter() to apply a lambda function over fellowship: result\n",
    "result = filter(lambda a : len(a)>6, fellowship)\n",
    "\n",
    "# Convert result to a list: result_list\n",
    "result_list = list(result)\n"
   ]
  },
  {
   "cell_type": "markdown",
   "metadata": {},
   "source": [
    "In the following example, we filter out first the odd and then the even elements of the sequence of the first 11 Fibonacci numbers: "
   ]
  },
  {
   "cell_type": "code",
   "execution_count": 71,
   "metadata": {},
   "outputs": [
    {
     "name": "stdout",
     "output_type": "stream",
     "text": [
      "[1, 1, 3, 5, 13, 21, 55]\n",
      "[0, 2, 8, 34]\n"
     ]
    }
   ],
   "source": [
    "fibonacci = [0,1,1,2,3,5,8,13,21,34,55]\n",
    "odd_numbers = list(filter(lambda x: x % 2, fibonacci))\n",
    "print(odd_numbers)\n",
    "\n",
    "even_numbers = list(filter(lambda x: x % 2 == 0, fibonacci))\n",
    "print(even_numbers)"
   ]
  },
  {
   "cell_type": "markdown",
   "metadata": {},
   "source": [
    "## Reducing\n",
    "### Reduce()\n",
    "\n",
    "`reduce(func, seq)` \n",
    "\n",
    "continually applies the function func() to the sequence seq. It returns a single value. \n",
    "\n",
    "If seq = [ s1, s2, s3, ... , sn ], calling reduce(func, seq) works like this:\n",
    "\n",
    "At first the first two elements of seq will be applied to func, i.e. func(s1,s2) The list on which reduce() works looks now like this: [ func(s1, s2), s3, ... , sn ]\n",
    "\n",
    "In the next step func will be applied on the previous result and the third element of the list, i.e. func(func(s1, s2),s3)\n",
    "The list looks like this now: [ func(func(s1, s2),s3), ... , sn ]\n",
    "\n",
    "Continue like this until just one element is left and return this element as the result of reduce()\n"
   ]
  },
  {
   "cell_type": "code",
   "execution_count": 72,
   "metadata": {},
   "outputs": [],
   "source": [
    "# Import reduce from functools\n",
    "from functools import reduce\n",
    "\n",
    "# Create a list of strings: stark\n",
    "stark = ['robb', 'sansa', 'arya', 'brandon', 'rickon']\n",
    "\n",
    "# Use reduce() to apply a lambda function over stark: result\n",
    "result = reduce(lambda item1, item2 : item1 + item2, stark)\n",
    "\n",
    "# Print the result"
   ]
  },
  {
   "cell_type": "code",
   "execution_count": 73,
   "metadata": {},
   "outputs": [
    {
     "data": {
      "text/plain": [
       "113"
      ]
     },
     "execution_count": 73,
     "metadata": {},
     "output_type": "execute_result"
    }
   ],
   "source": [
    "import functools\n",
    "functools.reduce(lambda x,y: x+y, [47,11,42,13])"
   ]
  },
  {
   "cell_type": "code",
   "execution_count": 3,
   "metadata": {},
   "outputs": [
    {
     "data": {
      "text/plain": [
       "102"
      ]
     },
     "execution_count": 3,
     "metadata": {},
     "output_type": "execute_result"
    }
   ],
   "source": [
    "from functools import reduce\n",
    "f = lambda a,b: a if (a > b) else b\n",
    "reduce(f, [47,11,42,102,13])\n",
    "102"
   ]
  },
  {
   "cell_type": "markdown",
   "metadata": {},
   "source": [
    "Imagine an accounting routine used in a book shop. It works on a list with sublists, which look like this: "
   ]
  },
  {
   "cell_type": "markdown",
   "metadata": {},
   "source": [
    "| Order Number | Book Title and Author | Quantity | Price per Item \n",
    "| ---------- | ---------- | ---------- | ---------- \n",
    "| 34587 |\tLearning Python, Mark Lutz |\t4 |\t40.95\n",
    "| 98762 | Programming Python, Mark Lutz |\t5 |\t56.80 \n",
    "| 77226 |\tHead First Python, Paul Barry |\t3 |\t32.95 \n",
    "| 88112 |\tEinführung in Python3, Bernd Klein |\t3 |\t24.99 "
   ]
  },
  {
   "cell_type": "markdown",
   "metadata": {},
   "source": [
    "Write a Python program, which returns a list with 2-tuples. Each tuple consists of a the order number and the product of the price per items and the quantity. The product should be increased by 10,- € if the value of the order is smaller than 100,00 €. \n",
    "Write a Python program using lambda and map.\n",
    "\n",
    "\n",
    "The same bookshop, but this time we work on a different list. The sublists of our lists look like this: \n",
    "[ordernumber, (article number, quantity, price per unit), ... (article number, quantity, price per unit) ] \n",
    "Write a program which returns a list of two tuples with (order number, total amount of order)."
   ]
  },
  {
   "cell_type": "code",
   "execution_count": 75,
   "metadata": {},
   "outputs": [
    {
     "name": "stdout",
     "output_type": "stream",
     "text": [
      "prices without modfication:  [('34587', 163.8), ('98762', 284.0), ('77226', 98.85000000000001), ('88112', 74.97)] \n",
      "\n",
      "prices with modfication:  [('34587', 163.8), ('98762', 284.0), ('77226', 108.85000000000001), ('88112', 84.97)]\n"
     ]
    }
   ],
   "source": [
    "orders = [ [\"34587\", \"Learning Python, Mark Lutz\", 4, 40.95], \n",
    "\t       [\"98762\", \"Programming Python, Mark Lutz\", 5, 56.80], \n",
    "           [\"77226\", \"Head First Python, Paul Barry\", 3,32.95],\n",
    "           [\"88112\", \"Einführung in Python3, Bernd Klein\", \t3, 24.99]]\n",
    "\n",
    "min_order = 100\n",
    "prices = list(map(lambda x: (x[0],x[2] * x[3]), orders))\n",
    "print(\"prices without modfication: \", prices, \"\\n\")\n",
    "invoice_totals = list(map(lambda x: x if x[1] >= min_order else (x[0], x[1] + 10), prices))\n",
    "print(\"prices with modfication: \",invoice_totals)"
   ]
  },
  {
   "cell_type": "markdown",
   "metadata": {},
   "source": [
    "The output of the previous program looks like this:\n",
    "[('34587', 163.8), ('98762', 284.0), ('77226', 108.85000000000001), ('88112', 84.97)]"
   ]
  },
  {
   "cell_type": "code",
   "execution_count": 5,
   "metadata": {},
   "outputs": [
    {
     "name": "stdout",
     "output_type": "stream",
     "text": [
      " primer lista [[1, 39.96, 233.82, 404.55], [2, 89.91, 404.55], [3, 89.91, 274.89], [4, 83.93, 208.89, 199.75]] \n",
      "\n",
      "venta total [[1, 678.3299999999999], [2, 494.46000000000004], [3, 364.79999999999995], [4, 492.57]]\n",
      "ventaja [[1, 678.3299999999999], [2, 494.46000000000004], [3, 364.79999999999995], [4, 492.57]]\n"
     ]
    }
   ],
   "source": [
    "orders = [ [1, (\"5464\", 4, 9.99), (\"8274\",18,12.99), (\"9744\", 9, 44.95)], \n",
    "\t       [2, (\"5464\", 9, 9.99), (\"9744\", 9, 44.95)],\n",
    "\t       [3, (\"5464\", 9, 9.99), (\"88112\", 11, 24.99)],\n",
    "           [4, (\"8732\", 7, 11.99), (\"7733\",11,18.99), (\"88112\", 5, 39.95)] ]\n",
    "\n",
    "min_order = 100\n",
    "#print(orders[0][1:],\"\\n\")\n",
    "#print(list(map(lambda y: print(y[1]), orders)))\n",
    "invoice_totals1 = list(map(lambda x: [x[0]] + list(map(lambda y: y[1]*y[2], x[1:])), orders))\n",
    "print(\" primer lista\",invoice_totals1,\"\\n\")\n",
    "invoice_totals2 = list(map(lambda x: [x[0]] + [reduce(lambda a,b: a + b, x[1:])], invoice_totals1))\n",
    "print(\"venta total\",invoice_totals2)\n",
    "invoice_totals3 = list(map(lambda x: x if x[1] >= min_order else (x[0], x[1] + 10), invoice_totals2))#less than 100 have 10 more\n",
    "print(\"ventaja\",invoice_totals3)\n",
    "#print (invoice_totals)"
   ]
  },
  {
   "cell_type": "markdown",
   "metadata": {},
   "source": [
    "We will get the following result:\n",
    "[[1, 678.3299999999999], [2, 494.46000000000004], [3, 364.79999999999995], [4, 492.57]]"
   ]
  },
  {
   "cell_type": "markdown",
   "metadata": {},
   "source": [
    "## Error Handling\n",
    "\n",
    "We have statements introduced by an \"except\" keyword in Python. This keyword is responsible for capturing error raised from the operation we are performing. The main way to catch the exception is through try-except clause. Let's look how to capture any execption raised:\n",
    "\n",
    "### try-except statement"
   ]
  },
  {
   "cell_type": "code",
   "execution_count": 77,
   "metadata": {},
   "outputs": [],
   "source": [
    "def squared(x):\n",
    "    \"\"\"Return a square root of a number\"\"\"\n",
    "    try:\n",
    "        return x**(1/2)\n",
    "    except:\n",
    "        print(\"X must be an int or float\")"
   ]
  },
  {
   "cell_type": "code",
   "execution_count": 78,
   "metadata": {},
   "outputs": [
    {
     "name": "stdout",
     "output_type": "stream",
     "text": [
      "X must be an int or float\n"
     ]
    }
   ],
   "source": [
    "squared(\"hi\")"
   ]
  },
  {
   "cell_type": "markdown",
   "metadata": {},
   "source": [
    "It's possible to create \"custom-made\" exceptions: With the raise statement it's possible to force a specified exception to occur.\n",
    "Let's look at a simple example. Assuming we want to ask the user to enter an integer number. If we use a input(), the input will be a string, which we have to cast into an integer. If the input has not been a valid integer, we will generate (raise) a ValueError. We show this in the following interactive session:"
   ]
  },
  {
   "cell_type": "code",
   "execution_count": 79,
   "metadata": {},
   "outputs": [
    {
     "name": "stdout",
     "output_type": "stream",
     "text": [
      "Please enter a number: 56\n"
     ]
    }
   ],
   "source": [
    "n = int(input(\"Please enter a number: \"))"
   ]
  },
  {
   "cell_type": "markdown",
   "metadata": {},
   "source": [
    "With the aid of exception handling, we can write robust code for reading an integer from input:"
   ]
  },
  {
   "cell_type": "code",
   "execution_count": 80,
   "metadata": {},
   "outputs": [],
   "source": [
    "def tryError():\n",
    "    while True:\n",
    "        try:\n",
    "            n = input(\"Please enter an integer: \")\n",
    "            n = int(n)\n",
    "            break\n",
    "        except ValueError:\n",
    "            print(\"No valid integer! Please try again ...\")\n",
    "    print(\"Great, you successfully entered an integer!\")"
   ]
  },
  {
   "cell_type": "code",
   "execution_count": 81,
   "metadata": {},
   "outputs": [
    {
     "name": "stdout",
     "output_type": "stream",
     "text": [
      "Please enter an integer: 54\n",
      "Great, you successfully entered an integer!\n"
     ]
    }
   ],
   "source": [
    "tryError()"
   ]
  },
  {
   "cell_type": "markdown",
   "metadata": {},
   "source": [
    "The while loop is entered. The code within the try clause will be executed statement by statement. If no exception occurs during the execution, the execution will reach the break statement and the while loop will be left. If an exception occurs, i.e. in the casting of n, the rest of the try block will be skipped and the except clause will be executed. The raised error, in our case a ValueError, has to match one of the names after except. In our example only one, i.e. \"ValueError:\". After having printed the text of the print statement, the execution does another loop. It starts with a new input(). "
   ]
  },
  {
   "cell_type": "markdown",
   "metadata": {},
   "source": [
    "### raise\n",
    "\n",
    "More often than not, instead merely prining than error message, we will want to actually raise an error by using the keyword `raise`.  "
   ]
  },
  {
   "cell_type": "code",
   "execution_count": 82,
   "metadata": {},
   "outputs": [
    {
     "data": {
      "text/plain": [
       "(1.8369701987210297e-16+3j)"
      ]
     },
     "execution_count": 82,
     "metadata": {},
     "output_type": "execute_result"
    }
   ],
   "source": [
    "squared(-9)# we won´t deal wit complex numbers"
   ]
  },
  {
   "cell_type": "code",
   "execution_count": 6,
   "metadata": {},
   "outputs": [],
   "source": [
    "def squared(x):\n",
    "    \"\"\"return squared root of a non-negative number\"\"\"\n",
    "    if x<0:\n",
    "        raise ValueError(\"X must be non-negative number\")\n",
    "    try:\n",
    "        return x**(1/2)\n",
    "    except TypeError:\n",
    "        print(\"X must be an integer or float\")"
   ]
  },
  {
   "cell_type": "code",
   "execution_count": 84,
   "metadata": {},
   "outputs": [
    {
     "ename": "ValueError",
     "evalue": "X must be non-negative number",
     "output_type": "error",
     "traceback": [
      "\u001b[1;31m---------------------------------------------------------------------------\u001b[0m",
      "\u001b[1;31mValueError\u001b[0m                                Traceback (most recent call last)",
      "\u001b[1;32m<ipython-input-84-b2920d808611>\u001b[0m in \u001b[0;36m<module>\u001b[1;34m\u001b[0m\n\u001b[1;32m----> 1\u001b[1;33m \u001b[0msquared\u001b[0m\u001b[1;33m(\u001b[0m\u001b[1;33m-\u001b[0m\u001b[1;36m9\u001b[0m\u001b[1;33m)\u001b[0m\u001b[1;33m\u001b[0m\u001b[0m\n\u001b[0m",
      "\u001b[1;32m<ipython-input-83-9d05c5f84209>\u001b[0m in \u001b[0;36msquared\u001b[1;34m(x)\u001b[0m\n\u001b[0;32m      2\u001b[0m     \u001b[1;34m\"\"\"return squared root of a non-negative number\"\"\"\u001b[0m\u001b[1;33m\u001b[0m\u001b[0m\n\u001b[0;32m      3\u001b[0m     \u001b[1;32mif\u001b[0m \u001b[0mx\u001b[0m\u001b[1;33m<\u001b[0m\u001b[1;36m0\u001b[0m\u001b[1;33m:\u001b[0m\u001b[1;33m\u001b[0m\u001b[0m\n\u001b[1;32m----> 4\u001b[1;33m         \u001b[1;32mraise\u001b[0m \u001b[0mValueError\u001b[0m\u001b[1;33m(\u001b[0m\u001b[1;34m\"X must be non-negative number\"\u001b[0m\u001b[1;33m)\u001b[0m\u001b[1;33m\u001b[0m\u001b[0m\n\u001b[0m\u001b[0;32m      5\u001b[0m     \u001b[1;32mtry\u001b[0m\u001b[1;33m:\u001b[0m\u001b[1;33m\u001b[0m\u001b[0m\n\u001b[0;32m      6\u001b[0m         \u001b[1;32mreturn\u001b[0m \u001b[0mx\u001b[0m\u001b[1;33m**\u001b[0m\u001b[1;33m(\u001b[0m\u001b[1;36m1\u001b[0m\u001b[1;33m/\u001b[0m\u001b[1;36m2\u001b[0m\u001b[1;33m)\u001b[0m\u001b[1;33m\u001b[0m\u001b[0m\n",
      "\u001b[1;31mValueError\u001b[0m: X must be non-negative number"
     ]
    }
   ],
   "source": [
    "squared(-9)"
   ]
  },
  {
   "cell_type": "markdown",
   "metadata": {},
   "source": [
    "### Multiple Except Clauses\n",
    "\n",
    "A try statement may have more than one except clause for different exceptions. But at most one except clause will be executed.\n",
    "\n",
    "Our next example shows a try clause, in which we open a file for reading, read a line from this file and convert this line into an integer. There are at least two possible exceptions:\n",
    "\n",
    "* an IOError\n",
    "* ValueError\n",
    "\n",
    "Just in case we have an additional unnamed except clause for an unexpected error:"
   ]
  },
  {
   "cell_type": "code",
   "execution_count": 7,
   "metadata": {},
   "outputs": [],
   "source": [
    "def readNumber(path):\n",
    "    number = []\n",
    "    try:\n",
    "        with open(path, 'r') as f:\n",
    "            for line in f:\n",
    "                for i in line.split(','):# remove the character given by parameter\n",
    "                    number.append(int(i))\n",
    "        return number\n",
    "    except IOError as e:\n",
    "        #errornumber, message = e.args\n",
    "        #print(\"I/O error({0}): {1}\".format(errornumber,message))\n",
    "        # e can be printed directly without using .args:\n",
    "        print(e)\n",
    "    except ValueError:\n",
    "        print(\"No valid integer in line.\")"
   ]
  },
  {
   "cell_type": "code",
   "execution_count": 149,
   "metadata": {},
   "outputs": [
    {
     "data": {
      "text/plain": [
       "[11, 2, 3, 4, 5, 6, 65, 7654, 8483, 2536, 57]"
      ]
     },
     "execution_count": 149,
     "metadata": {},
     "output_type": "execute_result"
    }
   ],
   "source": [
    "path = \"./numbers.txt\"\n",
    "readNumber(path)"
   ]
  },
  {
   "cell_type": "code",
   "execution_count": 150,
   "metadata": {},
   "outputs": [
    {
     "name": "stdout",
     "output_type": "stream",
     "text": [
      "[Errno 2] No such file or directory: \"doesn't exist\"\n"
     ]
    }
   ],
   "source": [
    "path = \"doesn't exist\"\n",
    "readNumber(path)"
   ]
  },
  {
   "cell_type": "code",
   "execution_count": 152,
   "metadata": {},
   "outputs": [
    {
     "name": "stdout",
     "output_type": "stream",
     "text": [
      "[WinError 6] Controlador no válido\n"
     ]
    }
   ],
   "source": [
    "path = 123\n",
    "readNumber(path)"
   ]
  },
  {
   "cell_type": "code",
   "execution_count": 142,
   "metadata": {},
   "outputs": [
    {
     "name": "stdout",
     "output_type": "stream",
     "text": [
      "No valid integer in line.\n"
     ]
    }
   ],
   "source": [
    "path = \"./chistes.txt\"\n",
    "readNumber(path)"
   ]
  },
  {
   "cell_type": "markdown",
   "metadata": {},
   "source": [
    "### Clean-up Actions (try ... finally)\n",
    "The try statement can be followed by a finally clause. Finally clauses are called clean-up or termination clauses, because they must be executed under all circumstances, i.e. a \"finally\" clause is always executed regardless if an exception occurred in a try block or not. "
   ]
  },
  {
   "cell_type": "code",
   "execution_count": 154,
   "metadata": {},
   "outputs": [],
   "source": [
    "def readNumber(path):\n",
    "    number = []\n",
    "    try:\n",
    "        with open(path, 'r') as f:\n",
    "            for line in f:\n",
    "                for i in line.split(','):# remove the character given by parameter\n",
    "                    number.append(int(i))\n",
    "        return number\n",
    "    except IOError as e:\n",
    "        #errornumber, message = e.args\n",
    "        #print(\"I/O error({0}): {1}\".format(errornumber,message))\n",
    "        # e can be printed directly without using .args:\n",
    "        print(e)\n",
    "    except ValueError:\n",
    "        print(\"No valid integer in line.\")\n",
    "    finally:\n",
    "        number.append(None)\n",
    "        return number"
   ]
  },
  {
   "cell_type": "code",
   "execution_count": 155,
   "metadata": {},
   "outputs": [
    {
     "name": "stdout",
     "output_type": "stream",
     "text": [
      "No valid integer in line.\n"
     ]
    },
    {
     "data": {
      "text/plain": [
       "[None]"
      ]
     },
     "execution_count": 155,
     "metadata": {},
     "output_type": "execute_result"
    }
   ],
   "source": [
    "path = \"./chistes.txt\"\n",
    "readNumber(path)"
   ]
  },
  {
   "cell_type": "code",
   "execution_count": null,
   "metadata": {},
   "outputs": [],
   "source": [
    "def readNUmber(path):\n",
    "    number = []\n",
    "    total = []\n",
    "    try:\n",
    "        with open(path,'r') as f:\n",
    "            for line in f:\n",
    "                for i in line.split(','):# remove the character given by parameter\n",
    "                    number.append(float(i))\n",
    "                    if len(number)>=4:\n",
    "                        total.append((number[0],((number[1]*number[2])*(1 - number[3])))) \n",
    "                        number= []   \n",
    "        return total\n",
    "    except IOError as e:\n",
    "        print(e)\n",
    "    except ValueError:\n",
    "        print(\"no valid integer in line\")\n",
    "    finally:\n",
    "        number.append([1,2,3])\n",
    "        return total"
   ]
  },
  {
   "cell_type": "code",
   "execution_count": 23,
   "metadata": {},
   "outputs": [
    {
     "data": {
      "text/plain": [
       "[(1.0, 1080.0), (1.0, 1080.0)]"
      ]
     },
     "execution_count": 23,
     "metadata": {},
     "output_type": "execute_result"
    }
   ],
   "source": [
    "path = \"./numbers2.txt\"\n",
    "readNumber(path)"
   ]
  }
 ],
 "metadata": {
  "kernelspec": {
   "display_name": "Python 3",
   "language": "python",
   "name": "python3"
  },
  "language_info": {
   "codemirror_mode": {
    "name": "ipython",
    "version": 3
   },
   "file_extension": ".py",
   "mimetype": "text/x-python",
   "name": "python",
   "nbconvert_exporter": "python",
   "pygments_lexer": "ipython3",
   "version": "3.6.6"
  }
 },
 "nbformat": 4,
 "nbformat_minor": 2
}
