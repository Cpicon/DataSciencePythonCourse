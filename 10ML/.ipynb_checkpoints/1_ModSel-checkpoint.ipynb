{
 "cells": [
  {
   "cell_type": "markdown",
   "metadata": {},
   "source": [
    "# Selección de modelo\n",
    "\n",
    "El objetivo de realizar selección de modelo es, a partir de una serie de datos $(x,y)$ y cierta clase de hipótesis $\\mathcal{H}$. Encontrar el $h\\in \\mathcal{H}$ que minimiza el error $e(h)=P_{D}[h(x) \\neq y]$. Claramente la hipótesis $h$ que minimiza el error en los datos sobre una cantidad suficiente de datos, produce un error $e(h)$ pequeño. El objetivo es balancear la complejidad de $\\mathcal{H}$ con el ajuste de $h\\in \\mathcal{H}$ a los datos de entrenamiento. Es claro que una hipótesis muy simple puede no contener una buena aproximación a la función que queremos aprender, mientras que una $h$ muy compleja puede ajustarse muy bien a los datos pero no ser tan buena en la generalización a nuevos datos. Esto se vuelve particularmente importante cuando se tienen pocos datos o estos resultan muy ruidosos. \n"
   ]
  },
  {
   "cell_type": "markdown",
   "metadata": {},
   "source": [
    "\n",
    "# Estrategias para selección de modelo\n",
    "\n",
    "Es importante notar que la complejidad de la clase de modelos es una variable a determinar por el algoritmo de aprendizaje. La selección de modelo se realiza usualmente de la siguiente manera:\n",
    "- Se selecciona una función candidata $h_i$ de cierta clase $H_i$, para esto es conveniente, en general, minimizar el error empírico. \n",
    "- Se utiliza algún criterio para seleccionar una de las $h\\in {h_1,h_2,...}$ de manera que el error $e(h)$ sea lo suficientemente pequeño. \n",
    "\n"
   ]
  },
  {
   "cell_type": "markdown",
   "metadata": {},
   "source": [
    "# 1. Validación cruzada\n",
    "\n",
    "Cuando se evalúan diferentes configuraciones de un modelo general, lo que se hace es evaluar diferentes \"hiperparámetros\" para los estimadores. Tales como $\\lambda$ en el caso de regresión lineal con regularización que se realizó previamente. Cuando se escoje un valor de un hiperparáemtetro escogido manuealmente, existe la posibilidad de realizar sobreajuste (overfitting) del conjunto de prueba debido a que los hiperparámetros pueden ser manipulados de manera que el estimador se comporte óptimamente, de manera que se introduce un conocimiento al modelo que invalidala idea de tener un desempeño de generalización. Para resolver este problema, es posible crear OTRO subconjunto de datos de manera que este se pueda mantener \"afuera\" del conjunto de prueba y funcione como un conjunto de validación durante el proceso de entrenamiento. \n",
    "\n",
    "Para realizar validación cruzada, se realiza una estimación directa de $e(h_i)$. Para esto, se dividen los datos en conjuntos $(X_{train},Y_{train})$ y $(X_{test},Y_{test})$, donde cada conjunto contiene $1-\\alpha$ y $alpha$ veces la cantidad total de datos. \n",
    "Con estos datos se halla la hipótesis candidata $h_d\\in \\mathcal{H}_d$ minimizando el error empírico en el conjunto de datos de entrenamiento (X_{train},Y_{train}). Posteriormente, se selecciona la hipótesis candidata con el menor error empírico en $(X_{test},Y_{test})$. \n",
    "\n",
    "\n",
    "\n",
    "\\begin{equation}\n",
    "h_{d^*}={argmin}_{h_i}{\\hat{e}_{(X_{test},Y_{test})} (h_d)}\n",
    "\\end{equation}\n",
    "\n",
    "Claramente, la selección de $\\alpha$ también tiene consecuencias sobre la estimación y el modelo obtenido. Si se selecciona un $\\alpha$ muy pequeño, es posible tener una estimación pobre de $e(h)$ debido a que no se tienen suficientes datos para estimar el error empírico en un conjunto de prueba. Si se selecciona un $\\alpha$ muy grande, se corre el riesgo de realizar un aprendizaje pobre debido a que no se tienen los suficientes datos para entrenar el modelo. El criterio de Chernoff es útil determinar qué cantidad $n$ de datos es necesaria para estimar $e(h)$ con precisión $\\epsilon$ y confianza $1-\\delta$:\n",
    "\n",
    "\\begin{equation}\n",
    "n \\geq \\frac{1}{2\\epsilon^2} \\ln{\\frac{2}{\\delta}}\n",
    "\\end{equation}\n",
    "\n",
    "Sin embargo, el estimativo de $e(h_d)$ usualmente es ruidoso, por lo que es importante considerar diferentes alternativas para realizar \\textit{validación cruzada}.\n",
    "\n",
    "Sin embargo, al realizar particiones de los datos, se reduce el número de muestras que pueden ser utilizadas para aprender el modelo. Una solución a este problema se llama \"validación cruzada (CV)\". \n",
    "\n",
    "\n"
   ]
  },
  {
   "cell_type": "code",
   "execution_count": 3,
   "metadata": {},
   "outputs": [
    {
     "name": "stdout",
     "output_type": "stream",
     "text": [
      "0.3797778160123945\n"
     ]
    }
   ],
   "source": [
    "e=0.99\n",
    "delta=1-0.95\n",
    "import numpy as np\n",
    "print((1/(2*e**2))*np.log(2/delta))"
   ]
  },
  {
   "cell_type": "markdown",
   "metadata": {},
   "source": [
    "#### Iteradores\n",
    "También es posible utilizar diferentes estrategias de validación cruzada pasando un objeto de tipo iterador (por defecto scikit-learn utilizará KFold o StratifiedKFold)"
   ]
  },
  {
   "cell_type": "code",
   "execution_count": null,
   "metadata": {},
   "outputs": [],
   "source": []
  },
  {
   "cell_type": "markdown",
   "metadata": {},
   "source": [
    "# Validación cruzada k-multiple\n",
    "\n",
    "La idea es obtener un mejor estimativo de $e(h)$. Para esto, teniendo una clase $\\mathcal{H}$, el conjunto de datos $S=(X,Y)$ se divide en $S_1,S_2,...,S_k$. Para cada $i=1,2,...k$ se halla $h_i$ minimizando el error empírico en $\\cup_{j\\neq i} S_j$. Luego, se estima el error calculando el error empírico $\\hat{e}_{S_i}(h_i)$. Luego se realiza un promedio de los valores obtenidos \n",
    "\n",
    "\\begin{equation}\n",
    "\\hat{e}(h_d)=\\frac{1}{k} \\sum_{i=1}^{k}{\\hat{e}s_i (h_i)}\n",
    "\\end{equation}\n",
    "\n",
    "Para el $d^*$ que corresponde \"fold\" con menor valor de riesgo empírico, se halla $h$ minimizando el error empírico en $S$. Es importante mencionar que la validación cruzada k-fold es un proceso costoso computacionalmente y carece de soporte teórico, sin embargo, es ampliamente usado en la práctica. \n",
    "\n",
    "## K fold y Leave-one-out.\n",
    "En k-fold se segmentan los datos en $k$ grupos, se corren los algoritmos en $k-1$ grupos y se evalúa el riesgo del último grupo. Se repiite esto hasta que todos los grupos se hallan entrenando, por lo que se tienen $k$ números de errores que se deben promediar. Leave-one-out es el caso en el que se tiene $k=n$. La idea es que este método es más robusto, dado que se entrena en una mayor cantidad de datos y todavía se tienen promedios del riesgo estimado. el reto es que ahora se está reutilizando la información en diferentes entrenamientos y conjuntos de validación por lo que los términos en los promedios no son independientes. [1]\n",
    "\n",
    "\n"
   ]
  },
  {
   "cell_type": "code",
   "execution_count": null,
   "metadata": {},
   "outputs": [],
   "source": []
  },
  {
   "cell_type": "markdown",
   "metadata": {},
   "source": [
    "# Comparación de comportamiento de objetos de validación cruzada"
   ]
  },
  {
   "cell_type": "code",
   "execution_count": null,
   "metadata": {},
   "outputs": [],
   "source": []
  },
  {
   "cell_type": "markdown",
   "metadata": {},
   "source": [
    "# Aplicaciones: \n",
    "\n",
    "## Búsqueda de parámetros utilizando gridsearch:\n",
    "Scikit-learn incorpora un objeto que, dados unos datos, calcula el score durante el ajuste de cierto estimador o parámetro y escoge los parámetros que maximizan el score de validación cruzada. Este objeto toma un estimado durante la construcción y devuelve un estimador. \n"
   ]
  },
  {
   "cell_type": "code",
   "execution_count": null,
   "metadata": {},
   "outputs": [],
   "source": []
  },
  {
   "cell_type": "code",
   "execution_count": null,
   "metadata": {},
   "outputs": [],
   "source": []
  },
  {
   "cell_type": "markdown",
   "metadata": {},
   "source": [
    "## Eliminación de características:\n",
    "\n",
    "Es posible realizar una eliminación recursiva de características con una sintonización automática del número de características seleccionadas con cross-validation. Para realizar esta aplicación primero es importante presentar algunas funciones útiles. \n",
    "\n",
    "### Nuevo! make_classification\n",
    "\n",
    "Genera un objeto para solucionar un problema multiclase, en general. Este objeto soluciona el problema creando clusters de puntos normalmente distribuidos sobre los vértices de un n_informativo hipercubo con lados de tamaño $2*class_sep$. Introduce interdependencia entre las características y añade diferentes tipos de ruido a los datos. \n",
    "to the data.\n",
    "\n",
    "### Nuevo! RFECV \n",
    "Realiza RANKING con eliminación recursiva y validación cruzada de características de las mejores características de los modelos. \n"
   ]
  },
  {
   "cell_type": "code",
   "execution_count": null,
   "metadata": {},
   "outputs": [],
   "source": []
  },
  {
   "cell_type": "markdown",
   "metadata": {},
   "source": [
    "\n",
    "# Minimización de Riesgo Estructurado. \n",
    "\n",
    "En este caso, a partir de una secuencia de hipótesis $\\mathcal{H}_1 \\subset \\mathcal{H}_2 \\subset ...$, se tiene una función candidata $h_d$ de cada clase $\\mathcal{H}_d$ que minimiza el error empírico en $\\mathcal{H}_d$, luego, se escoge $d^*$ como ${arg_{g} min}(\\hat{e}(h_d)+p(d))$ donde $p(d)$ es una función creciente de $d$ que penaliza funciones de alta complejidad. \n"
   ]
  },
  {
   "cell_type": "code",
   "execution_count": null,
   "metadata": {},
   "outputs": [],
   "source": []
  },
  {
   "cell_type": "code",
   "execution_count": null,
   "metadata": {},
   "outputs": [],
   "source": []
  }
 ],
 "metadata": {
  "kernelspec": {
   "display_name": "Python 3",
   "language": "python",
   "name": "python3"
  },
  "language_info": {
   "codemirror_mode": {
    "name": "ipython",
    "version": 3
   },
   "file_extension": ".py",
   "mimetype": "text/x-python",
   "name": "python",
   "nbconvert_exporter": "python",
   "pygments_lexer": "ipython3",
   "version": "3.7.4"
  }
 },
 "nbformat": 4,
 "nbformat_minor": 2
}
